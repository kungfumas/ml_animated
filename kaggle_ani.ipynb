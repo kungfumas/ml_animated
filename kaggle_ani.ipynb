{
 "cells": [
  {
   "cell_type": "code",
   "execution_count": 1,
   "id": "1332a728",
   "metadata": {},
   "outputs": [],
   "source": [
    "# default library for data handling\n",
    "import numpy as np \n",
    "import pandas as pd \n",
    "\n",
    "# matplotlib series\n",
    "import matplotlib as mpl\n",
    "import matplotlib.pyplot as plt\n",
    "from matplotlib import animation\n",
    "\n",
    "# HTML \n",
    "from IPython.display import HTML"
   ]
  },
  {
   "cell_type": "code",
   "execution_count": 2,
   "id": "23d9ce0f",
   "metadata": {},
   "outputs": [
    {
     "name": "stdout",
     "output_type": "stream",
     "text": [
      "['pillow', 'ffmpeg', 'ffmpeg_file', 'html']\n"
     ]
    }
   ],
   "source": [
    "print(animation.writers.list())"
   ]
  },
  {
   "cell_type": "code",
   "execution_count": 3,
   "id": "0d94818d",
   "metadata": {},
   "outputs": [
    {
     "data": {
      "image/png": "[encoded data removed]",
      "text/plain": [
       "<Figure size 432x288 with 1 Axes>"
      ]
     },
     "metadata": {
      "needs_background": "light"
     },
     "output_type": "display_data"
    }
   ],
   "source": [
    "TWOPI = 2*np.pi\n",
    "\n",
    "fig, ax = plt.subplots(1, 1)\n",
    "\n",
    "t = np.arange(0.0, TWOPI, 0.001)\n",
    "s = np.sin(t)\n",
    "l = plt.plot(t, s)\n",
    "\n",
    "ax = plt.axis([0,TWOPI,-1,1])\n",
    "\n",
    "redDot, = plt.plot([0], [np.sin(0)], 'ro')\n",
    "\n",
    "def animate(i):\n",
    "    redDot.set_data(i, np.sin(i))\n",
    "    return redDot,\n",
    "\n",
    "myAnimation = animation.FuncAnimation(fig, animate, \n",
    "                                      frames=np.arange(0.0, TWOPI, 0.1), \n",
    "                                      interval=10, blit=True, \n",
    "                                      repeat=False)\n",
    "\n",
    "plt.show()"
   ]
  },
  {
   "cell_type": "code",
   "execution_count": 4,
   "id": "976f613a",
   "metadata": {},
   "outputs": [
    {
     "name": "stdout",
     "output_type": "stream",
     "text": [
      "Wall time: 1.59 s\n"
     ]
    }
   ],
   "source": [
    "%time myAnimation.save('myAnimation2.gif', writer='pillow', fps=30)"
   ]
  },
  {
   "cell_type": "markdown",
   "id": "81733789",
   "metadata": {},
   "source": [
    "![](./myAnimation1.gif)"
   ]
  },
  {
   "cell_type": "code",
   "execution_count": 11,
   "id": "f83a8ea1",
   "metadata": {},
   "outputs": [
    {
     "data": {
      "text/html": [
       "<img src=\"./myAnimation2.gif\" />"
      ],
      "text/plain": [
       "<IPython.core.display.HTML object>"
      ]
     },
     "execution_count": 11,
     "metadata": {},
     "output_type": "execute_result"
    }
   ],
   "source": [
    "HTML('<img src=\"./myAnimation2.gif\" />')"
   ]
  },
  {
   "cell_type": "code",
   "execution_count": null,
   "id": "59ad0a68",
   "metadata": {},
   "outputs": [],
   "source": []
  }
 ],
 "metadata": {
  "kernelspec": {
   "display_name": "Python 3 (ipykernel)",
   "language": "python",
   "name": "python3"
  },
  "language_info": {
   "codemirror_mode": {
    "name": "ipython",
    "version": 3
   },
   "file_extension": ".py",
   "mimetype": "text/x-python",
   "name": "python",
   "nbconvert_exporter": "python",
   "pygments_lexer": "ipython3",
   "version": "3.9.12"
  }
 },
 "nbformat": 4,
 "nbformat_minor": 5
}
