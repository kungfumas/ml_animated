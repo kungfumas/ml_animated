{
 "cells": [
  {
   "cell_type": "code",
   "execution_count": 1,
   "id": "23882369",
   "metadata": {},
   "outputs": [
    {
     "name": "stderr",
     "output_type": "stream",
     "text": [
      "MovieWriter imagemagic unavailable; using Pillow instead.\n"
     ]
    }
   ],
   "source": [
    "# https://www.kaggle.com/code/trolukovich/animating-gradien-descent/notebook\n",
    "\n",
    "# Importing all necessary\n",
    "import numpy as np\n",
    "import gc\n",
    "import os\n",
    "import matplotlib.pyplot as plt\n",
    "\n",
    "from matplotlib.animation import ArtistAnimation\n",
    "from mpl_toolkits.mplot3d import Axes3D\n",
    "from pylab import meshgrid\n",
    "from IPython.display import Image, display, HTML\n",
    "\n",
    "plt.style.use('bmh')\n",
    "\n",
    "\n",
    "images = []  \n",
    "  \n",
    "fig, ax = plt.subplots(figsize = (12,12))\n",
    "x = np.linspace(-6,6,100)\n",
    "px = float(-4) # Starting x coordinate\n",
    "\n",
    "def function(x):\n",
    "    return x**2\n",
    "\n",
    "def derivative(x):\n",
    "    return x*2\n",
    "\n",
    "lr=0.1\n",
    "precision = 0.001\n",
    "name = 'anim.gif'\n",
    "fps = 5\n",
    "# Function plot\n",
    "f = plt.plot(x, function(x), color = 'k')\n",
    "\n",
    "for frame in range(100):\n",
    "    old_px = px # Saving old px value to calculate step\n",
    "\n",
    "    # Plot point to track\n",
    "    py = function(px) # Y coordinate of point    \n",
    "    point = plt.scatter(px, py, color = 'r', zorder = 2.5)\n",
    "\n",
    "    # Plot tangent line to the graph at (px, py) point\n",
    "    slope = derivative(px)\n",
    "    y_intercept = py - slope * px\n",
    "    tx = np.arange(px - 1, px + 2, 2) # X coordinates of tangent line\n",
    "    ty = slope * tx + y_intercept # Y coordinates of tangent line\n",
    "    tangent = plt.plot(tx, ty, 'r--')    \n",
    "    # Calculate new value of px\n",
    "    px = px - lr * slope\n",
    "    step = abs(old_px - px)\n",
    "\n",
    "    # Plot text info\n",
    "    bbox_args = dict(boxstyle=\"round\", fc=\"0.8\")\n",
    "    arrow_args = dict(arrowstyle = '->', color = 'b', linewidth = 1)\n",
    "    text = f'Iteration: {frame}\\nPoint: ({px:.2f}, {py:.2f})\\nSlope: {slope:.2f}\\nStep: {step:.4f}'\n",
    "    text = ax.annotate(text, xy = (px, py), xytext = (0.7, 0.9), textcoords = 'axes fraction', bbox = bbox_args, arrowprops=arrow_args, fontsize = 12)\n",
    "\n",
    "    plt.title('Gradient descent animation')    \n",
    "    \n",
    "    # Stopping algorithm if desired precision have been met\n",
    "    if step <= precision:\n",
    "        text2 = plt.text(0.7, 0.1, 'Local minimum found', fontsize = 12, transform = ax.transAxes)\n",
    "        images.append([f[0], tangent[0], point, text, text2])\n",
    "        break\n",
    "\n",
    "    images.append([f[0], tangent[0], point, text])\n",
    "    \n",
    "anim = ArtistAnimation(fig, images) \n",
    "anim.save(name, writer = 'imagemagic', fps = fps)"
   ]
  },
  {
   "cell_type": "code",
   "execution_count": 3,
   "id": "33b03bb8",
   "metadata": {},
   "outputs": [
    {
     "data": {
      "text/html": [
       "<img src=\"./anim.gif\" />"
      ],
      "text/plain": [
       "<IPython.core.display.HTML object>"
      ]
     },
     "execution_count": 3,
     "metadata": {},
     "output_type": "execute_result"
    }
   ],
   "source": [
    "# Displaying animation\n",
    "HTML('<img src=\f"https://github.com/markhliu/ml_animated/blob/main/anim.gif\"/>')"
   ]
  },
  {
   "cell_type": "code",
   "execution_count": null,
   "id": "1f5b11d1",
   "metadata": {},
   "outputs": [],
   "source": []
  }
 ],
 "metadata": {
  "kernelspec": {
   "display_name": "Python 3",
   "language": "python",
   "name": "python3"
  },
  "language_info": {
   "codemirror_mode": {
    "name": "ipython",
    "version": 3
   },
   "file_extension": ".py",
   "mimetype": "text/x-python",
   "name": "python",
   "nbconvert_exporter": "python",
   "pygments_lexer": "ipython3",
   "version": "3.9.6"
  }
 },
 "nbformat": 4,
 "nbformat_minor": 5
}
