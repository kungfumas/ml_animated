{
 "cells": [
  {
   "cell_type": "markdown",
   "id": "653089c9",
   "metadata": {},
   "source": [
    "# Chapter 16: Play Atari Pong with Policy Gradients\n",
    "\n",
    "Policy gradients are a policy-based reinforcement learning (RL) mechanism, as opposed to the value based RL that we talked about so far. But it’s a very powerful tool, and we’ll use it to play Atari games such as Breakout or Pong in this book. \n",
    "\n",
    "The idea behind policy gradients is different from Q learning: it directly tells the model how to adjust the weights to reach the optimum. If the prediction is smaller than the desired outcome, the model will adjust the weights so that the prediction will increase. Similarly, if the prediction is greater than the desired outcome, the model will adjust the weights so that the prediction will decrease. Further, the magnitude of the adjustment is directly proportional to the rewards: the greater the reward, the greater the adjustment. \n",
    "\n",
    "We’ll use the Atari Pong game as an example on how to do that in this chapter. The code I use in this chapter is largely based on Andrej's code below \n",
    "https://gist.github.com/karpathy/a4166c7fe253700972fcbc77e4ea32c5\n",
    "\n",
    "At the end of this chapter, you'll create an animation to illustrate how deep Q learning works. Specifically, at each time step, you'll put the graph of the cart pole on the left. You'll draw on the right the current state of the game: cart position, cart velocity, pole angle, and pole velocity. You'll feed the information to the trained deep Q network to get the Q-values of moving the cart left and moving the cart right, respectively. The move with higher Q-value is then highlighted in red on the graph, and that's the action taken by the agent. You'll repeat this in each of the 200 time steps, like so:  \n",
    "<img src=\"https://gattonweb.uky.edu/faculty/lium/ml/cartpole_DeepQs.gif\" />"
   ]
  },
  {
   "cell_type": "markdown",
   "id": "e3b25bf6",
   "metadata": {},
   "source": [
    "***\n",
    "$\\mathbf{\\text{Create a subfolder for files in Chapter 16}}$<br>\n",
    "***\n",
    "We'll put all files in Chapter 16 in a subfolder /files/ch16. The code in the cell below will create the subfolder.\n",
    "\n",
    "***"
   ]
  },
  {
   "cell_type": "code",
   "execution_count": 1,
   "id": "117477d3",
   "metadata": {},
   "outputs": [],
   "source": [
    "import os\n",
    "\n",
    "os.makedirs(\"files/ch16\", exist_ok=True)"
   ]
  },
  {
   "cell_type": "markdown",
   "id": "2f7dbb5c",
   "metadata": {},
   "source": [
    "## 1. Get Started with Atari Games\n",
    "\n",
    "In this section, you'll start to play the Atari Pong game in the OpenAI Gym environment and understand its features.\n",
    "\n",
    "First, we need to install Atari in the OpenAI Gym environment. Activate the virtual environment ***animatedML***, then enter the following command in the Anaconda prompt or a terminal (MAC or Linux):\n",
    "\n",
    "`conda install -c conda-forge atari_py`\n",
    "\n",
    "After that, you need to install ROMS on your computer. Go to the link below \n",
    "\n",
    "http://www.atarimania.com/rom_collection_archive_atari_2600_roms.html\n",
    "\n",
    "and download the file Roms.rar to your computer. Extract the two folders, ROMS and HC Roms, and place them in a folder on your computer. For example, I place them in C:\\temp on my computer. \n",
    "\n",
    "After that, run the following command in the Anaconda prompt or a terminal (MAC or Linux) with the virtual environment ***animatedML*** activated:\n",
    "\n",
    "`python -m atari_py.import_roms <path to folder>`\n",
    "\n",
    "For example, since I saved the files in C:\\temp on my computer, I ran:\n",
    "\n",
    "`python -m atari_py.import_roms C:\\temp` \n",
    "\n",
    "to install ROMS. "
   ]
  },
  {
   "cell_type": "markdown",
   "id": "a0b7aaab",
   "metadata": {},
   "source": [
    "### 1.1. The Pong Game\n",
    "\n"
   ]
  },
  {
   "cell_type": "code",
   "execution_count": 2,
   "id": "adfa3a2c",
   "metadata": {},
   "outputs": [
    {
     "data": {
      "text/plain": [
       "True"
      ]
     },
     "execution_count": 2,
     "metadata": {},
     "output_type": "execute_result"
    }
   ],
   "source": [
    "import gym\n",
    "env = gym.make(\"Pong-v0\")\n",
    "env.reset()\n",
    "env.render()"
   ]
  },
  {
   "cell_type": "markdown",
   "id": "0e26b04e",
   "metadata": {},
   "source": [
    "You should see a Pong game frame in a separate window. \n",
    "\n",
    "You can check the action space and observation space of the game as follows:"
   ]
  },
  {
   "cell_type": "code",
   "execution_count": 3,
   "id": "48ee5e38",
   "metadata": {},
   "outputs": [
    {
     "name": "stdout",
     "output_type": "stream",
     "text": [
      "The action space in the Pong game is Discrete(6)\n",
      "The observation space in the Pong game is Box(210, 160, 3)\n"
     ]
    }
   ],
   "source": [
    "# Print out all possible actions in this game\n",
    "actions = env.action_space\n",
    "print(f\"The action space in the Pong game is {actions}\")\n",
    "\n",
    "# Print out the observation space in this game\n",
    "obs_space = env.observation_space\n",
    "print(f\"The observation space in the Pong game is {obs_space}\")"
   ]
  },
  {
   "cell_type": "markdown",
   "id": "86a68bf5",
   "metadata": {},
   "source": [
    "There are six possible actions the gaent can take. But for all practical purpose, we only need to decide whether the paddle should go up (action 2) or down (action 3). So we can treat this as a binary classification problem. \n",
    "\n",
    "Each observation is a color picture 210 pixels tall and 160 pixels wide. The following cell displays an observation."
   ]
  },
  {
   "cell_type": "code",
   "execution_count": 15,
   "id": "1401e695",
   "metadata": {},
   "outputs": [
    {
     "data": {
      "image/png": "[encoded data removed]",
      "text/plain": [
       "<Figure size 432x288 with 1 Axes>"
      ]
     },
     "metadata": {
      "needs_background": "light"
     },
     "output_type": "display_data"
    }
   ],
   "source": [
    "import matplotlib.pyplot as plt\n",
    "import numpy as np\n",
    "\n",
    "env.reset()\n",
    "# run 200 steps so that the pong appears in the picture\n",
    "for _ in range(200):\n",
    "    action = np.random.choice([2,3])\n",
    "    obs, reward, done, info = env.step(action)\n",
    "plt.imshow(obs)\n",
    "plt.show()"
   ]
  },
  {
   "cell_type": "code",
   "execution_count": null,
   "id": "3a304c7f",
   "metadata": {},
   "outputs": [],
   "source": []
  },
  {
   "cell_type": "markdown",
   "id": "9dc9ad6c",
   "metadata": {},
   "source": [
    "### 1.2. Process the Game Frames\n",
    "The input size of the game frame is too large, we'll process the image to reduce the size while retaining vital information to train the model to win the game.\n",
    "\n",
    "Specifically, we'll perform cropping, downsizing, and differencing before we feed the data into the model to train the agent. "
   ]
  },
  {
   "cell_type": "markdown",
   "id": "9526aec3",
   "metadata": {},
   "source": [
    "#### Cropping\n",
    "We'll remove the top and the bottom of the game frame to reduce input size as follows."
   ]
  },
  {
   "cell_type": "code",
   "execution_count": 16,
   "id": "1cc83d08",
   "metadata": {},
   "outputs": [
    {
     "data": {
      "image/png": "[encoded data removed]",
      "text/plain": [
       "<Figure size 432x288 with 1 Axes>"
      ]
     },
     "metadata": {
      "needs_background": "light"
     },
     "output_type": "display_data"
    }
   ],
   "source": [
    "obs_cropped = obs[35:195]\n",
    "plt.imshow(obs_cropped)\n",
    "plt.show()"
   ]
  },
  {
   "cell_type": "markdown",
   "id": "e2290089",
   "metadata": {},
   "source": [
    "The size of the picture is now 160 by 160 by 3. We need to further reduce the size of the picture. "
   ]
  },
  {
   "cell_type": "markdown",
   "id": "3aa53494",
   "metadata": {},
   "source": [
    "#### Downsizing\n",
    "We'll use every other row and every other column so that the input size is smaller. Further, we'll use just one of the three color channels to further reduce size, like so:"
   ]
  },
  {
   "cell_type": "code",
   "execution_count": 17,
   "id": "ae73b29d",
   "metadata": {},
   "outputs": [
    {
     "data": {
      "image/png": "[encoded data removed]",
      "text/plain": [
       "<Figure size 432x288 with 1 Axes>"
      ]
     },
     "metadata": {
      "needs_background": "light"
     },
     "output_type": "display_data"
    }
   ],
   "source": [
    "obs_downsized = obs_cropped[::2,::2,0]\n",
    "plt.imshow(obs_downsized)\n",
    "plt.show()"
   ]
  },
  {
   "cell_type": "markdown",
   "id": "499d77fc",
   "metadata": {},
   "source": [
    "The size of the processed picture is now 80 by 80, a small fraction of the origional size. However, the picture doesn't tell us the movement of the Pong ball. We can potentially use two consecutive pictures, but a better idea is to use the difference between two consecutuve frames. "
   ]
  },
  {
   "cell_type": "markdown",
   "id": "46fae7e7",
   "metadata": {},
   "source": [
    "#### Differencing\n",
    "We'll get the difference of the two consetive frames after processing. The script below shows how. "
   ]
  },
  {
   "cell_type": "code",
   "execution_count": 18,
   "id": "3a0dfc10",
   "metadata": {},
   "outputs": [
    {
     "data": {
      "image/png": "[encoded data removed]",
      "text/plain": [
       "<Figure size 432x288 with 1 Axes>"
      ]
     },
     "metadata": {
      "needs_background": "light"
     },
     "output_type": "display_data"
    }
   ],
   "source": [
    "action = np.random.choice([2,3])\n",
    "next_obs, reward, done, info = env.step(action)\n",
    "\n",
    "next_obs_cropped = next_obs[35:195]\n",
    "next_obs_downsized = next_obs_cropped[::2,::2,0]\n",
    "\n",
    "dif = next_obs_downsized - obs_downsized\n",
    "plt.imshow(dif)\n",
    "plt.show()"
   ]
  },
  {
   "cell_type": "markdown",
   "id": "9d421f4e",
   "metadata": {},
   "source": [
    "Now we are ready to feed the data into a model to train the agent. "
   ]
  },
  {
   "cell_type": "markdown",
   "id": "a1b1e904",
   "metadata": {},
   "source": [
    "## 2. Train the Agent Using Policy Gradients\n",
    "\n",
    "We'll use policy gradients to train the agent. \n",
    "\n",
    "### 2.1. The Idea Behind Policy Gradients\n",
    "\n",
    "Policy gradients train the model by adjusting the weights, similar to the idea of gradient descent we discussed in Chapters 2 and 3. However, instead of adjusting the parameters by $$ -1 \\times Learning Rate \\times gradient.$$ we we discussed in Chapter 2, we'll adjust the parameters by $$ -1 \\times Learning Rate \\times gradient\\times reward$$\n",
    "\n",
    "The idea is that if the action leads to high rewards, we ajdust the parameters more, so as to reach the optimal outcome. \n",
    "\n",
    "\n"
   ]
  },
  {
   "cell_type": "markdown",
   "id": "b73d8261",
   "metadata": {},
   "source": [
    "\n",
    "### 2.2. Different Versions of the Pong Game\n",
    "\n",
    "For games in the OpenAI Gym environment, there are different versions:\n",
    "* v0: there is a 25% chance that the previous action will be repeated instead of the issued action;\n",
    "* v4: 0% probability of repeating the previous action; but skip 2-5 frames randomly;\n",
    "* Deterministic-v4: 0% probability of repeating the previous action; skip a fixed 4 frames. \n",
    "\n",
    "When we train the game, we don't use the aciton with the highest probability. Instead, we randomly choose the action proportional to the predicted probability from the model. This is similar to the Exploration versus Exploitation in Q training.  \n",
    "\n",
    "Further, the program is trained on the v0 version of the game. We'll discuss which version to test the trained model on later. "
   ]
  },
  {
   "cell_type": "markdown",
   "id": "1edacff0",
   "metadata": {},
   "source": [
    "### 2.3. The Script to Train the Model\n",
    "The program is similar to the original code by Andrej Karpathy. I made some needed changes due to Python package updates, such as cPickle, r.size...\n",
    "\n",
    "For more detailed explanations, read through Andrej's post here:  http://karpathy.github.io/2016/05/31/rl/ "
   ]
  },
  {
   "cell_type": "code",
   "execution_count": null,
   "id": "9adc4ab9",
   "metadata": {},
   "outputs": [],
   "source": [
    "\"\"\" Trains an agent with (stochastic) Policy Gradients on Pong. Uses OpenAI Gym. \"\"\"\n",
    "import numpy as np\n",
    "import pickle\n",
    "import gym\n",
    "\n",
    "# hyperparameters\n",
    "H = 200 # number of hidden layer neurons\n",
    "batch_size = 10 # every how many episodes to do a param update?\n",
    "learning_rate = 1e-4\n",
    "gamma = 0.99 # discount factor for reward\n",
    "decay_rate = 0.99 # decay factor for RMSProp leaky sum of grad^2\n",
    "resume = False # resume from previous checkpoint?\n",
    "render = False\n",
    "\n",
    "# model initialization\n",
    "D = 80 * 80 # input dimensionality: 80x80 grid\n",
    "if resume:\n",
    "  model = pickle.load(open('pg_pong.p', 'rb'))\n",
    "else:\n",
    "  model = {}\n",
    "  model['W1'] = np.random.randn(H,D) / np.sqrt(D) # \"Xavier\" initialization\n",
    "  model['W2'] = np.random.randn(H) / np.sqrt(H)\n",
    "  \n",
    "grad_buffer = { k : np.zeros_like(v) for k,v in model.items() } # update buffers that add up gradients over a batch\n",
    "rmsprop_cache = { k : np.zeros_like(v) for k,v in model.items() } # rmsprop memory\n",
    "\n",
    "def sigmoid(x): \n",
    "  return 1.0 / (1.0 + np.exp(-x)) # sigmoid \"squashing\" function to interval [0,1]\n",
    "\n",
    "def prepro(I):\n",
    "  \"\"\" prepro 210x160x3 uint8 frame into 6400 (80x80) 1D float vector \"\"\"\n",
    "  I = I[35:195] # crop\n",
    "  I = I[::2,::2,0] # downsample by factor of 2\n",
    "  I[I == 144] = 0 # erase background (background type 1)\n",
    "  I[I == 109] = 0 # erase background (background type 2)\n",
    "  I[I != 0] = 1 # everything else (paddles, ball) just set to 1\n",
    "  return I.astype(np.float).ravel()\n",
    "\n",
    "def discount_rewards(r):\n",
    "  \"\"\" take 1D float array of rewards and compute discounted reward \"\"\"\n",
    "  discounted_r = np.zeros_like(r)\n",
    "  running_add = 0\n",
    "  for t in reversed(range(0, len(r))):\n",
    "    if r[t] != 0: running_add = 0 # reset the sum, since this was a game boundary (pong specific!)\n",
    "    running_add = running_add * gamma + r[t]\n",
    "    discounted_r[t] = running_add\n",
    "  return discounted_r\n",
    "\n",
    "def policy_forward(x):\n",
    "  h = np.dot(model['W1'], x)\n",
    "  h[h<0] = 0 # ReLU nonlinearity\n",
    "  logp = np.dot(model['W2'], h)\n",
    "  p = sigmoid(logp)\n",
    "  return p, h # return probability of taking action 2, and hidden state\n",
    "\n",
    "def policy_backward(eph, epdlogp):\n",
    "  \"\"\" backward pass. (eph is array of intermediate hidden states) \"\"\"\n",
    "  dW2 = np.dot(eph.T, epdlogp).ravel()\n",
    "  dh = np.outer(epdlogp, model['W2'])\n",
    "  dh[eph <= 0] = 0 # backpro prelu\n",
    "  dW1 = np.dot(dh.T, epx)\n",
    "  return {'W1':dW1, 'W2':dW2}\n",
    "\n",
    "env = gym.make(\"Pong-v0\")\n",
    "observation = env.reset()\n",
    "prev_x = None # used in computing the difference frame\n",
    "xs,hs,dlogps,drs = [],[],[],[]\n",
    "running_reward = None\n",
    "reward_sum = 0\n",
    "episode_number = 0\n",
    "\n",
    "round = 0\n",
    "while True:\n",
    "  if render: env.render()\n",
    "\n",
    "  # preprocess the observation, set input to network to be difference image\n",
    "  cur_x = prepro(observation)\n",
    "  x = cur_x - prev_x if round>0 else np.zeros(D)\n",
    "  prev_x = cur_x\n",
    "  round += 1\n",
    "\n",
    "  # forward the policy network and sample an action from the returned probability\n",
    "  aprob, h = policy_forward(x)\n",
    "  action = 2 if np.random.uniform() < aprob else 3 # roll the dice!\n",
    "\n",
    "  # record various intermediates (needed later for backprop)\n",
    "  xs.append(x) # observation\n",
    "  hs.append(h) # hidden state\n",
    "  y = 1 if action == 2 else 0 # a \"fake label\"\n",
    "  # grad that encourages the action that was taken to be taken \n",
    "  dlogps.append(y - aprob) \n",
    "  # step the environment and get new measurements\n",
    "  observation, reward, done, info = env.step(action)\n",
    "  reward_sum += reward\n",
    "\n",
    "  drs.append(reward) \n",
    "\n",
    "  if done: # an episode finished\n",
    "    episode_number += 1\n",
    "    round=0\n",
    "    # stack together all inputs, hidden states, action gradients, and rewards for this episode\n",
    "    epx = np.vstack(xs)\n",
    "    eph = np.vstack(hs)\n",
    "    epdlogp = np.vstack(dlogps)\n",
    "    epr = np.vstack(drs)\n",
    "    xs,hs,dlogps,drs = [],[],[],[] # reset array memory\n",
    "\n",
    "    # compute the discounted reward backwards through time\n",
    "    discounted_epr = discount_rewards(epr)\n",
    "    # standardize the rewards to be unit normal (helps control the gradient estimator variance)\n",
    "    discounted_epr -= np.mean(discounted_epr)\n",
    "    discounted_epr /= np.std(discounted_epr)\n",
    "\n",
    "    epdlogp *= discounted_epr # modulate the gradient with advantage (PG magic happens right here.)\n",
    "    grad = policy_backward(eph, epdlogp)\n",
    "    for k in model: grad_buffer[k] += grad[k] # accumulate grad over batch\n",
    "\n",
    "    # perform rmsprop parameter update every batch_size episodes\n",
    "    if episode_number % batch_size == 0:\n",
    "      for k,v in model.items():\n",
    "        g = grad_buffer[k] # gradient\n",
    "        rmsprop_cache[k] = decay_rate * rmsprop_cache[k] + (1 - decay_rate) * g**2\n",
    "        model[k] += learning_rate * g / (np.sqrt(rmsprop_cache[k]) + 1e-5)\n",
    "        grad_buffer[k] = np.zeros_like(v) # reset batch gradient buffer\n",
    "\n",
    "    # boring book-keeping\n",
    "    if running_reward is None:\n",
    "        running_reward = reward_sum  \n",
    "    else:\n",
    "        running_reward = running_reward * 0.99 + reward_sum * 0.01\n",
    "    print('episode reward total was %f. running mean: %f' % (reward_sum, running_reward))\n",
    "    if episode_number % 100 == 0: pickle.dump(model, open('pg_pong.p', 'wb'))\n",
    "    reward_sum = 0\n",
    "    observation = env.reset() # reset env\n",
    "    prev_x = None"
   ]
  },
  {
   "cell_type": "markdown",
   "id": "9aa6a8d3",
   "metadata": {},
   "source": [
    "It takes one to two days to train the model. "
   ]
  },
  {
   "cell_type": "markdown",
   "id": "6d794163",
   "metadata": {},
   "source": [
    "## 3. Test the Trained Model\n",
    "We'll first test one game using the trained model. We then test it on 100 games and see what's the average score. We finally discuss testing on different versions of the Pong game. "
   ]
  },
  {
   "cell_type": "markdown",
   "id": "34d1a8fb",
   "metadata": {},
   "source": [
    "### 3.1. Test One Game\n",
    "The program below test the game for one episode. Each player can score between -21 to 21 points. 21 is the perfect score, and -21 is the worst possible score. "
   ]
  },
  {
   "cell_type": "code",
   "execution_count": 3,
   "id": "677a0d84",
   "metadata": {},
   "outputs": [
    {
     "name": "stderr",
     "output_type": "stream",
     "text": [
      "C:\\Users\\hlliu2\\AppData\\Local\\Temp\\ipykernel_13944\\4234674740.py:16: DeprecationWarning: `np.float` is a deprecated alias for the builtin `float`. To silence this warning, use `float` by itself. Doing this will not modify any behavior and is safe. If you specifically wanted the numpy scalar type, use `np.float64` here.\n",
      "Deprecated in NumPy 1.20; for more details and guidance: https://numpy.org/devdocs/release/1.20.0-notes.html#deprecations\n",
      "  return I.astype(np.float).ravel()\n"
     ]
    },
    {
     "name": "stdout",
     "output_type": "stream",
     "text": [
      "score is 21.0\n"
     ]
    }
   ],
   "source": [
    "import numpy as np\n",
    "import pickle\n",
    "import gym\n",
    "\n",
    "D = 80 * 80 # input dimensionality: 80x80 grid\n",
    "model = pickle.load(open('files/ch16/pg_pong.p', 'rb'))\n",
    "def sigmoid(x): \n",
    "  return 1.0 / (1.0 + np.exp(-x)) \n",
    "\n",
    "def prepro(I):\n",
    "  I = I[35:195] # crop\n",
    "  I = I[::2,::2,0] # downsample by factor of 2\n",
    "  I[I == 144] = 0 # erase background (background type 1)\n",
    "  I[I == 109] = 0 # erase background (background type 2)\n",
    "  I[I != 0] = 1 # everything else (paddles, ball) just set to 1\n",
    "  return I.astype(np.float).ravel()\n",
    "\n",
    "def policy_forward(x):\n",
    "  h = np.dot(model['W1'], x)\n",
    "  h[h<0] = 0 # ReLU nonlinearity\n",
    "  logp = np.dot(model['W2'], h)\n",
    "  p = sigmoid(logp)\n",
    "  return p, h # return probability of taking action 2, and hidden state\n",
    "\n",
    "env = gym.make(\"PongDeterministic-v4\")\n",
    "observation = env.reset()\n",
    "prev_x = None # used in computing the difference frame\n",
    "reward_sum = 0\n",
    "\n",
    "while True:\n",
    "  cur_x = prepro(observation)\n",
    "  x = cur_x - prev_x if prev_x is not None else np.zeros(D)\n",
    "  prev_x = cur_x\n",
    "  env.render()\n",
    "  aprob, h = policy_forward(x)\n",
    "  action = 2 if 0.5 < aprob else 3 \n",
    "  observation, reward, done, info = env.step(action)\n",
    "  reward_sum += reward\n",
    "  if done: \n",
    "    print(f\"score is {reward_sum}\")\n",
    "    break\n",
    "env.close()"
   ]
  },
  {
   "cell_type": "markdown",
   "id": "b2ea611d",
   "metadata": {},
   "source": [
    "The trained agent had a perfect score of 21."
   ]
  },
  {
   "cell_type": "markdown",
   "id": "608b0580",
   "metadata": {},
   "source": [
    "### 3.2. Test on Multiple Games\n",
    "Next, we'll test on 20 games and see what is the average score. "
   ]
  },
  {
   "cell_type": "code",
   "execution_count": 7,
   "id": "29d41120",
   "metadata": {},
   "outputs": [
    {
     "name": "stderr",
     "output_type": "stream",
     "text": [
      "C:\\Users\\hlliu2\\AppData\\Local\\Temp\\ipykernel_13944\\58405484.py:17: DeprecationWarning: `np.float` is a deprecated alias for the builtin `float`. To silence this warning, use `float` by itself. Doing this will not modify any behavior and is safe. If you specifically wanted the numpy scalar type, use `np.float64` here.\n",
      "Deprecated in NumPy 1.20; for more details and guidance: https://numpy.org/devdocs/release/1.20.0-notes.html#deprecations\n",
      "  return I.astype(np.float).ravel()\n"
     ]
    },
    {
     "name": "stdout",
     "output_type": "stream",
     "text": [
      "score is 21.0\n",
      "score is 21.0\n",
      "score is 21.0\n",
      "score is 21.0\n",
      "score is 21.0\n",
      "score is 21.0\n",
      "score is 21.0\n",
      "score is 21.0\n",
      "score is 21.0\n",
      "score is 21.0\n",
      "score is 21.0\n",
      "score is 21.0\n",
      "score is 21.0\n",
      "score is 21.0\n",
      "score is 21.0\n",
      "score is 21.0\n",
      "score is 21.0\n",
      "score is 21.0\n",
      "score is 21.0\n",
      "score is 21.0\n",
      "the average score is 21.0\n"
     ]
    }
   ],
   "source": [
    "import numpy as np\n",
    "import pickle\n",
    "import gym\n",
    "\n",
    "D = 80 * 80 # input dimensionality: 80x80 grid\n",
    "#model = pickle.load(open('pg_pong.p', 'rb'))\n",
    "model = pickle.load(open('files/ch16/pg_pong.p', 'rb'))\n",
    "def sigmoid(x): \n",
    "  return 1.0 / (1.0 + np.exp(-x)) \n",
    "\n",
    "def prepro(I):\n",
    "  I = I[35:195] # crop\n",
    "  I = I[::2,::2,0] # downsample by factor of 2\n",
    "  I[I == 144] = 0 # erase background (background type 1)\n",
    "  I[I == 109] = 0 # erase background (background type 2)\n",
    "  I[I != 0] = 1 # everything else (paddles, ball) just set to 1\n",
    "  return I.astype(np.float).ravel()\n",
    "\n",
    "def policy_forward(x):\n",
    "  h = np.dot(model['W1'], x)\n",
    "  h[h<0] = 0 # ReLU nonlinearity\n",
    "  logp = np.dot(model['W2'], h)\n",
    "  p = sigmoid(logp)\n",
    "  return p, h # return probability of taking action 2, and hidden state\n",
    "\n",
    "env = gym.make(\"PongDeterministic-v4\")\n",
    "\n",
    "\n",
    "scores = []\n",
    "for i in range(20):  \n",
    "    observation = env.reset()\n",
    "    prev_x = None # used in computing the difference frame\n",
    "    reward_sum = 0\n",
    "    while True:\n",
    "      cur_x = prepro(observation)\n",
    "      x = cur_x - prev_x if prev_x is not None else np.zeros(D)\n",
    "      prev_x = cur_x\n",
    "      #env.render()\n",
    "      aprob, h = policy_forward(x)\n",
    "      action = 2 if 0.5 < aprob else 3 \n",
    "      observation, reward, done, info = env.step(action)\n",
    "      reward_sum += reward\n",
    "      if done: \n",
    "        scores.append(reward_sum)\n",
    "        print(f\"score is {reward_sum}\")\n",
    "        break\n",
    "env.close()\n",
    "\n",
    "print(f\"the average score is {np.mean(scores)}\")"
   ]
  },
  {
   "cell_type": "markdown",
   "id": "95ba6d83",
   "metadata": {},
   "source": [
    "The trained agent plays perfectly in every game."
   ]
  },
  {
   "cell_type": "markdown",
   "id": "13bc97f4",
   "metadata": {},
   "source": [
    "### 3.3. Test on Pong-v0\n",
    "We have tested the trained agent on PongDeterministic-v4. Next, we test what if we use Pong-v0."
   ]
  },
  {
   "cell_type": "code",
   "execution_count": 6,
   "id": "6ada54e7",
   "metadata": {},
   "outputs": [
    {
     "name": "stderr",
     "output_type": "stream",
     "text": [
      "C:\\Users\\hlliu2\\AppData\\Local\\Temp\\ipykernel_13944\\1371521744.py:17: DeprecationWarning: `np.float` is a deprecated alias for the builtin `float`. To silence this warning, use `float` by itself. Doing this will not modify any behavior and is safe. If you specifically wanted the numpy scalar type, use `np.float64` here.\n",
      "Deprecated in NumPy 1.20; for more details and guidance: https://numpy.org/devdocs/release/1.20.0-notes.html#deprecations\n",
      "  return I.astype(np.float).ravel()\n"
     ]
    },
    {
     "name": "stdout",
     "output_type": "stream",
     "text": [
      "score is -18.0\n",
      "score is -19.0\n",
      "score is -14.0\n",
      "score is -18.0\n",
      "score is -21.0\n",
      "score is -19.0\n",
      "score is -9.0\n",
      "score is -13.0\n",
      "score is -19.0\n",
      "score is -15.0\n",
      "score is -14.0\n",
      "score is -10.0\n",
      "score is -21.0\n",
      "score is -15.0\n",
      "score is -21.0\n",
      "score is -13.0\n",
      "score is -15.0\n",
      "score is -12.0\n",
      "score is -12.0\n",
      "score is -14.0\n",
      "the average score is -15.6\n"
     ]
    }
   ],
   "source": [
    "import numpy as np\n",
    "import pickle\n",
    "import gym\n",
    "\n",
    "D = 80 * 80 # input dimensionality: 80x80 grid\n",
    "#model = pickle.load(open('pg_pong.p', 'rb'))\n",
    "model = pickle.load(open('files/ch16/pg_pong.p', 'rb'))\n",
    "def sigmoid(x): \n",
    "  return 1.0 / (1.0 + np.exp(-x)) \n",
    "\n",
    "def prepro(I):\n",
    "  I = I[35:195] # crop\n",
    "  I = I[::2,::2,0] # downsample by factor of 2\n",
    "  I[I == 144] = 0 # erase background (background type 1)\n",
    "  I[I == 109] = 0 # erase background (background type 2)\n",
    "  I[I != 0] = 1 # everything else (paddles, ball) just set to 1\n",
    "  return I.astype(np.float).ravel()\n",
    "\n",
    "def policy_forward(x):\n",
    "  h = np.dot(model['W1'], x)\n",
    "  h[h<0] = 0 # ReLU nonlinearity\n",
    "  logp = np.dot(model['W2'], h)\n",
    "  p = sigmoid(logp)\n",
    "  return p, h # return probability of taking action 2, and hidden state\n",
    "\n",
    "env = gym.make(\"Pong-v0\")\n",
    "\n",
    "\n",
    "scores = []\n",
    "for i in range(20):  \n",
    "    observation = env.reset()\n",
    "    prev_x = None # used in computing the difference frame\n",
    "    reward_sum = 0\n",
    "    while True:\n",
    "      cur_x = prepro(observation)\n",
    "      x = cur_x - prev_x if prev_x is not None else np.zeros(D)\n",
    "      prev_x = cur_x\n",
    "      #env.render()\n",
    "      aprob, h = policy_forward(x)\n",
    "      action = 2 if 0.5 < aprob else 3 \n",
    "      observation, reward, done, info = env.step(action)\n",
    "      reward_sum += reward\n",
    "      if done: \n",
    "        scores.append(reward_sum)\n",
    "        print(f\"score is {reward_sum}\")\n",
    "        break\n",
    "env.close()\n",
    "\n",
    "print(f\"the average score is {np.mean(scores)}\")"
   ]
  },
  {
   "cell_type": "markdown",
   "id": "3c4b7b39",
   "metadata": {},
   "source": [
    "The agent performs poorly in this version of the game. This is due to that fact that the paddle repeats the previous move 25% of the time, instead of the move predicted by the trained model. "
   ]
  },
  {
   "cell_type": "markdown",
   "id": "2afdb60c",
   "metadata": {},
   "source": [
    "## 4. Animate the Pong Game Before and After Training\n",
    "Next, we'll animate how the agent performs before and after training. We'll put the two games side by side so that you can compare them."
   ]
  },
  {
   "cell_type": "markdown",
   "id": "5ec2649d",
   "metadata": {},
   "source": [
    "### 4.1. Record A Full Game with the Trained Agent\n",
    "We'll first record a full game using the trained model.\n",
    "\n",
    "The script below accomplishes that."
   ]
  },
  {
   "cell_type": "code",
   "execution_count": 8,
   "id": "c60f2169",
   "metadata": {},
   "outputs": [
    {
     "name": "stderr",
     "output_type": "stream",
     "text": [
      "C:\\Users\\hlliu2\\AppData\\Local\\Temp\\ipykernel_13944\\3406337539.py:17: DeprecationWarning: `np.float` is a deprecated alias for the builtin `float`. To silence this warning, use `float` by itself. Doing this will not modify any behavior and is safe. If you specifically wanted the numpy scalar type, use `np.float64` here.\n",
      "Deprecated in NumPy 1.20; for more details and guidance: https://numpy.org/devdocs/release/1.20.0-notes.html#deprecations\n",
      "  return I.astype(np.float).ravel()\n"
     ]
    }
   ],
   "source": [
    "import numpy as np\n",
    "import pickle\n",
    "import gym\n",
    "\n",
    "D = 80 * 80 # input dimensionality: 80x80 grid\n",
    "#model = pickle.load(open('pg_pong.p', 'rb'))\n",
    "model = pickle.load(open('files\\ch16\\pg_pong.p', 'rb'))\n",
    "def sigmoid(x): \n",
    "  return 1.0 / (1.0 + np.exp(-x)) \n",
    "\n",
    "def prepro(I):\n",
    "  I = I[35:195] # crop\n",
    "  I = I[::2,::2,0] # downsample by factor of 2\n",
    "  I[I == 144] = 0 # erase background (background type 1)\n",
    "  I[I == 109] = 0 # erase background (background type 2)\n",
    "  I[I != 0] = 1 # everything else (paddles, ball) just set to 1\n",
    "  return I.astype(np.float).ravel()\n",
    "\n",
    "def policy_forward(x):\n",
    "  h = np.dot(model['W1'], x)\n",
    "  h[h<0] = 0 # ReLU nonlinearity\n",
    "  logp = np.dot(model['W2'], h)\n",
    "  p = sigmoid(logp)\n",
    "  return p, h # return probability of taking action 2, and hidden state\n",
    "\n",
    "env = gym.make(\"PongDeterministic-v4\")\n",
    "\n",
    "frames = []\n",
    "\n",
    "observation = env.reset()\n",
    "prev_x = None # used in computing the difference frame\n",
    "reward_sum = 0\n",
    "while True:\n",
    "  cur_x = prepro(observation)\n",
    "  x = cur_x - prev_x if prev_x is not None else np.zeros(D)\n",
    "  prev_x = cur_x\n",
    "  #env.render()\n",
    "  aprob, h = policy_forward(x)\n",
    "  action = 2 if 0.5 < aprob else 3 \n",
    "  observation, reward, done, info = env.step(action)\n",
    "  reward_sum += reward\n",
    "  frames.append(env.render(mode='rgb_array'))\n",
    "  if done: \n",
    "    break\n",
    "env.close()\n",
    "\n",
    "import imageio\n",
    "imageio.mimsave('files\\ch16\\pong_trained.gif', frames, fps=24)"
   ]
  },
  {
   "cell_type": "markdown",
   "id": "4cd1fd1b",
   "metadata": {},
   "source": [
    "All the frames from the game are saved as numpy arrays in the list *frames*. We also converted the frames into an animation pong_trained.gif. If you open the file, you should see the following:"
   ]
  },
  {
   "cell_type": "code",
   "execution_count": 9,
   "id": "fe61167c",
   "metadata": {},
   "outputs": [
    {
     "data": {
      "text/html": [
       "<img src=\"https://gattonweb.uky.edu/faculty/lium/ml/pong_trained.gif\"/>\n"
      ],
      "text/plain": [
       "<IPython.core.display.HTML object>"
      ]
     },
     "metadata": {},
     "output_type": "display_data"
    }
   ],
   "source": [
    "%%HTML\n",
    "<img src=\"https://gattonweb.uky.edu/faculty/lium/ml/pong_trained.gif\"/>"
   ]
  },
  {
   "cell_type": "markdown",
   "id": "e36f1eb1",
   "metadata": {},
   "source": [
    "The trained agent is the player one the right with a green paddle. As you can see, the final score is 21 to 0. The trained agent won all 21 points, without letting the opponet score one single point. "
   ]
  },
  {
   "cell_type": "markdown",
   "id": "85d6f6e2",
   "metadata": {},
   "source": [
    "### 4.2. Record Games with Random Moves\n",
    "Next, we'll record game frames when the agent makes random moves. We'll use them later for comparison purpose. "
   ]
  },
  {
   "cell_type": "code",
   "execution_count": 10,
   "id": "fec0f970",
   "metadata": {},
   "outputs": [],
   "source": [
    "env = gym.make(\"PongDeterministic-v4\")\n",
    "\n",
    "random_frames = []\n",
    " \n",
    "observation = env.reset()\n",
    "for _ in range(len(frames)):\n",
    "  action = np.random.choice([2,3]) \n",
    "  observation, reward, done, info = env.step(action)\n",
    "  random_frames.append(env.render(mode='rgb_array'))\n",
    "env.close()"
   ]
  },
  {
   "cell_type": "markdown",
   "id": "48c69a94",
   "metadata": {},
   "source": [
    "Note that by using the command\n",
    "```python\n",
    "for _ in range(len(frames))\n",
    "```\n",
    "we ensure that we get the same number of frames here as in the game with the trained agent. Therefore, later when we combine the frames, we don't have to worry about matching the number of frames. "
   ]
  },
  {
   "cell_type": "markdown",
   "id": "2023e7e1",
   "metadata": {},
   "source": [
    "### 4.3. Combine the Animations\n",
    "We'll combine the two games and form one single animation, with the game with untrained agents on the left, and the game with the trained agent on the right."
   ]
  },
  {
   "cell_type": "code",
   "execution_count": 11,
   "id": "bd3a9319",
   "metadata": {},
   "outputs": [],
   "source": [
    "fs = []\n",
    "for i in range(len(frames)):\n",
    "    if i%2==0:\n",
    "        f = frames[i]\n",
    "        rf = random_frames[i]\n",
    "        middle = np.full(f.shape, 255).astype(\"uint8\")\n",
    "        frf = np.concatenate([rf, middle, f], axis=1)\n",
    "        fs.append(frf)\n",
    "imageio.mimsave('files\\ch16\\pong_compare.gif', fs, fps=24) "
   ]
  },
  {
   "cell_type": "markdown",
   "id": "f7c728bb",
   "metadata": {},
   "source": [
    "The animation looks as follows:"
   ]
  },
  {
   "cell_type": "code",
   "execution_count": 13,
   "id": "731b2efd",
   "metadata": {},
   "outputs": [
    {
     "data": {
      "text/html": [
       "<img src=\"https://gattonweb.uky.edu/faculty/lium/ml/pong_compare.gif\" />\n"
      ],
      "text/plain": [
       "<IPython.core.display.HTML object>"
      ]
     },
     "metadata": {},
     "output_type": "display_data"
    }
   ],
   "source": [
    "%%HTML\n",
    "<img src=\"https://gattonweb.uky.edu/faculty/lium/ml/pong_compare.gif\" />"
   ]
  },
  {
   "cell_type": "markdown",
   "id": "e802cfdb",
   "metadata": {},
   "source": [
    "Again, the agent has the green paddle. The left side shows what happens if the agent chooses random moves. The right side shows a full game when the agent is trained with policy gradients. The trained agent plays perfectly, earning a score of 21-0. "
   ]
  },
  {
   "cell_type": "code",
   "execution_count": null,
   "id": "999148fd",
   "metadata": {},
   "outputs": [],
   "source": []
  }
 ],
 "metadata": {
  "kernelspec": {
   "display_name": "Python 3 (ipykernel)",
   "language": "python",
   "name": "python3"
  },
  "language_info": {
   "codemirror_mode": {
    "name": "ipython",
    "version": 3
   },
   "file_extension": ".py",
   "mimetype": "text/x-python",
   "name": "python",
   "nbconvert_exporter": "python",
   "pygments_lexer": "ipython3",
   "version": "3.9.12"
  }
 },
 "nbformat": 4,
 "nbformat_minor": 5
}
