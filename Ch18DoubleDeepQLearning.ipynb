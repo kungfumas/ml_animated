{
 "cells": [
  {
   "cell_type": "markdown",
   "id": "653089c9",
   "metadata": {},
   "source": [
    "# Chapter 18: Double Deep Q Learning\n",
    "\n",
    "Deep Q learning has a well-known problem of overestimating Q values. In most cases, this is not an issue since we only care about the relative magnitude of the Q-values for different actions. However, in complicated situations such as Atari games, this poses a problem and leads to wrong actions in certain scenarios. \n",
    "\n",
    "To overcome this, we need to use double Q learning: we'll use one deep Q network for training and another deep Q network for predicting, and periodically updated the target Q network with the weights from the training Q network. \n",
    "\n",
    "The double deep Q learning can play Atari Games very efficiently. You’ll learn to create a deep neural network with convolutional layers to extra features from the Atari gameplay screenshots. You’ll use the Atari Breakout game as an example in this chapter. It can eliminate almost all bricks on the screen. \n",
    "\n",
    "More important, the agent sends the ball to the back of the wall multiple times once there is at least one opening to the back of the wall. The agent has definitely \"learned\" that it's more efficient to earn points that way than directly aiming at the bricks.\n",
    "\n",
    "Furthermore, the model is highly scalable, and you can tweak the model slightly and apply to other Atari games such as SpaceInvaders, Seaquest, Pong, and BeamRiders, as you’ll see in the next few chapters. \n",
    "\n",
    "The model used in this chapter is largely based on the example script by Jacob Chapman and Mathias Lechner https://keras.io/examples/rl/deep_q_network_breakout/. I made some minor changes to shorten the script, such as using the *deque()* method from the ***collections*** library so that we don't have to keep track of the size of the memory buffer or the size of the running rewards. \n",
    "\n",
    "In the left frame of the animation below, you can see that the agent has sent the ball to the back of the wall five consecutive times. It's clear that the agent has \"learned\" to do this on purpose because this is a more efficient way of earning rewards than aiming at the bricks directly: \n",
    "<img src=\"https://gattonweb.uky.edu/faculty/lium/ml/breakout_highlights.gif\" />"
   ]
  },
  {
   "cell_type": "markdown",
   "id": "e3b25bf6",
   "metadata": {},
   "source": [
    "***\n",
    "$\\mathbf{\\text{Create a subfolder for files in Chapter 18}}$<br>\n",
    "***\n",
    "We'll put all files in Chapter 18 in a subfolder /files/ch18. The code in the cell below will create the subfolder.\n",
    "\n",
    "***"
   ]
  },
  {
   "cell_type": "code",
   "execution_count": 1,
   "id": "117477d3",
   "metadata": {},
   "outputs": [],
   "source": [
    "import os\n",
    "\n",
    "os.makedirs(\"files/ch18\", exist_ok=True)"
   ]
  },
  {
   "cell_type": "markdown",
   "id": "7eaf7558",
   "metadata": {},
   "source": [
    "***\n",
    "$\\mathbf{\\text{Install OpenAI Baselines for Chapter 18}}$<br>\n",
    "***\n",
    "We'll use OpenAI Baselines to train several Atari games from this chapter onwards. The Baselines library provides high quality implementations of reinforcement learning algorithms and it makes our training of complicated Atari games more effective. For more details, go to https://github.com/openai/baselines.\n",
    "\n",
    "To install OpenAI Baselines, make sure that you have installed atari_py and ROMS on your computer. If not, refer to Chapter 16 on how to install. \n",
    "\n",
    "Also, make sure you are using version 0.15.7 of the OpenAI Gym environment. In case you accidentally installed a different version, run the following lines of code to correct it.\n",
    "\n",
    "`pip uninstall gym`\n",
    "\n",
    "`pip install gym==0.15.7`\n",
    " \n",
    "\n",
    "Here are the steps to install OpenAI Baselines:\n",
    "* Step 1: Make sure you have Git installed on your computer; if not, see instructions here https://git-scm.com/book/en/v2/Getting-Started-Installing-Git. \n",
    "* Step 2: Open the Anaconda prompt (Windows) or a terminal (MAC or Linux) and activate the virtual environment ***animatedML***. Clone the OpenAI Baselines repository by running the following line of command:\n",
    "\n",
    "`git clone https://github.com/openai/baselines.git`\n",
    "\n",
    "* Step 3: Go into the baselines directory by running the following line of command:\n",
    "\n",
    "`cd baselines`\n",
    "\n",
    "* Step 4: Install the baselines package in the virtual environment by running the following command:\n",
    "\n",
    "`pip install -e .`\n",
    "\n",
    "Make sure you don't miss the dot at the end of the above command. \n",
    "\n",
    "After that, restart your Jupyter Notebook for the package to take effect.\n",
    "***"
   ]
  },
  {
   "cell_type": "markdown",
   "id": "2f7dbb5c",
   "metadata": {},
   "source": [
    "## 1. Get Started with the OpenAI Baselines\n",
    "\n",
    "In this section, you'll learn the special features of OpenAI Baselines. I'll focus on the features that are different from the game without using the baselines package. For comparison, we'll use the Breakout game since you have already used it in Chapter 17."
   ]
  },
  {
   "cell_type": "markdown",
   "id": "a0b7aaab",
   "metadata": {},
   "source": [
    "### 1.1. The Breakout Game with OpenAI Baselines\n",
    "\n",
    "Remember in Chapter 17 we need to reconfigurate the rewards by counting the number of lives remaining for the agent? Well, with the baselines game wrapper, the agent has one life in each episode. That is, each time the agent loses a life (i.e., the paddle misses the ball), the episode ends. In the original Atari Breakout game, the agent starts with 5 lives and the episode ends when the agent loses all 5 lives. \n",
    "\n",
    "This makes reconfiguring the reward system much easier. Each time the game ends (i.e., done==True), we set the Q-value to -1. This is crucial for the success of the training. \n",
    "\n",
    "Let's make sure that's indeed the case. Run the code in the cell below."
   ]
  },
  {
   "cell_type": "code",
   "execution_count": 3,
   "id": "adfa3a2c",
   "metadata": {},
   "outputs": [
    {
     "name": "stdout",
     "output_type": "stream",
     "text": [
      "2 0.0 False {'ale.lives': 5}\n",
      "2 0.0 False {'ale.lives': 5}\n",
      "3 0.0 False {'ale.lives': 5}\n",
      "3 0.0 False {'ale.lives': 5}\n",
      "3 0.0 False {'ale.lives': 5}\n",
      "1 0.0 False {'ale.lives': 5}\n",
      "0 0.0 False {'ale.lives': 5}\n",
      "3 0.0 False {'ale.lives': 5}\n",
      "2 0.0 False {'ale.lives': 5}\n",
      "0 0.0 False {'ale.lives': 5}\n",
      "3 0.0 False {'ale.lives': 5}\n",
      "1 0.0 False {'ale.lives': 5}\n",
      "3 0.0 False {'ale.lives': 5}\n",
      "1 0.0 False {'ale.lives': 5}\n",
      "3 0.0 False {'ale.lives': 5}\n",
      "3 0.0 False {'ale.lives': 5}\n",
      "0 0.0 False {'ale.lives': 5}\n",
      "0 0.0 False {'ale.lives': 5}\n",
      "1 0.0 False {'ale.lives': 5}\n",
      "2 0.0 False {'ale.lives': 5}\n",
      "3 0.0 False {'ale.lives': 5}\n",
      "2 0.0 False {'ale.lives': 5}\n",
      "2 0.0 True {'ale.lives': 4}\n"
     ]
    }
   ],
   "source": [
    "from baselines.common.atari_wrappers import make_atari, wrap_deepmind\n",
    "\n",
    "# Use the Baseline Atari environment\n",
    "env = make_atari(\"BreakoutNoFrameskip-v4\")\n",
    "# Process and stack the frames\n",
    "env = wrap_deepmind(env, frame_stack=True, scale=True)\n",
    "\n",
    "obs = env.reset()\n",
    "while True:\n",
    "    # randomly pick actions\n",
    "    action = env.action_space.sample()\n",
    "    obs, reward, done, info = env.step(action)\n",
    "    print(action, reward, done, info)\n",
    "    # Render the env\n",
    "    env.render()\n",
    "    if done:\n",
    "        break"
   ]
  },
  {
   "cell_type": "markdown",
   "id": "0e26b04e",
   "metadata": {},
   "source": [
    "As you can see, the agent starts with 5 lives. Once the agent loses one life, the variable done becomes True and the episode ends. Note that the reward is still 0, but we can code it as -1 by using this line of code; you'll see it in the script for training later:\n",
    "\n",
    "```python\n",
    "    # Each time the agent loses a life, set Q to -1; important\n",
    "    new_Qs = Qs * (1 - dones) - dones\n",
    "```"
   ]
  },
  {
   "cell_type": "markdown",
   "id": "1afebfcb",
   "metadata": {},
   "source": [
    "Run the following to close the game window."
   ]
  },
  {
   "cell_type": "code",
   "execution_count": 5,
   "id": "acb2f596",
   "metadata": {},
   "outputs": [],
   "source": [
    "env.close()"
   ]
  },
  {
   "cell_type": "markdown",
   "id": "20db9147",
   "metadata": {},
   "source": [
    "### 1.2. Preprocessed Frames from the OpenAI Baselines\n",
    "\n",
    "Remember in Chapters 16 and 17 we need to preprocess raw images from the Pong and Breakout games by cropping, downsizing, and differencing the images? Well, the baselines game wrapper does all those for you. In each time step, it returns four consecutive frames of preprocessed images, each with a size of 84 by 84.  \n",
    "\n",
    "Let's visualize the preprocessed images from the baseline package. Run the code in the cell below."
   ]
  },
  {
   "cell_type": "code",
   "execution_count": 6,
   "id": "02285e44",
   "metadata": {},
   "outputs": [
    {
     "data": {
      "image/png": "[encoded data removed]",
      "text/plain": [
       "<Figure size 432x288 with 1 Axes>"
      ]
     },
     "metadata": {
      "needs_background": "light"
     },
     "output_type": "display_data"
    },
    {
     "data": {
      "image/png": "[encoded data removed]",
      "text/plain": [
       "<Figure size 432x288 with 1 Axes>"
      ]
     },
     "metadata": {
      "needs_background": "light"
     },
     "output_type": "display_data"
    },
    {
     "data": {
      "image/png": "[encoded data removed]",
      "text/plain": [
       "<Figure size 432x288 with 1 Axes>"
      ]
     },
     "metadata": {
      "needs_background": "light"
     },
     "output_type": "display_data"
    },
    {
     "data": {
      "image/png": "[encoded data removed]",
      "text/plain": [
       "<Figure size 432x288 with 1 Axes>"
      ]
     },
     "metadata": {
      "needs_background": "light"
     },
     "output_type": "display_data"
    }
   ],
   "source": [
    "import matplotlib.pyplot as plt\n",
    "import numpy as np\n",
    "\n",
    "npobs=np.array(obs)\n",
    "for i in range(4):\n",
    "    plt.imshow(npobs[:,:,i])\n",
    "    plt.show()"
   ]
  },
  {
   "cell_type": "markdown",
   "id": "d81d3164",
   "metadata": {},
   "source": [
    "You can see the four consecutive frames, and the paddle has moved to the right at the bottom of the frames. "
   ]
  },
  {
   "cell_type": "markdown",
   "id": "7daa4284",
   "metadata": {},
   "source": [
    "## 2. Train the Agent with A Double Deep Q Network\n",
    "We'll train the agent to play the Atari Breakout game with a double deep Q network in this section.\n",
    "\n",
    "### 2.1. Create A Double Deep Q Network\n",
    "Deep Q learning has a well-known problem of overestimating the Q values. To overcome this, we use double Q learning: we'll use one deep Q network for training and another deep Q network for predicting, and periodically updated the target network from the training network. \n",
    "\n",
    "The deep Q network we use has convolutional layers since the inputs are two-dimensional pictures. We can use convolutional layers to extract features from the graphs and associate them with game strategies. "
   ]
  },
  {
   "cell_type": "markdown",
   "id": "d1d2bf6b",
   "metadata": {},
   "source": [
    "### 2.2. Train the Agent\n",
    "The script below trains the agent to play the Breakout game. It is largely based on the example script by Jacob Chapman and Mathias Lechner https://keras.io/examples/rl/deep_q_network_breakout/. I made some minor changes to shorten the script, such as using the *deque()* method from the ***collections*** library so that we don't have to keep track of the size of the memory buffer or the size of the running rewards. "
   ]
  },
  {
   "cell_type": "code",
   "execution_count": null,
   "id": "48ee5e38",
   "metadata": {},
   "outputs": [
    {
     "name": "stdout",
     "output_type": "stream",
     "text": [
      "Model: \"model_2\"\n",
      "_________________________________________________________________\n",
      " Layer (type)                Output Shape              Param #   \n",
      "=================================================================\n",
      " input_3 (InputLayer)        [(None, 84, 84, 4)]       0         \n",
      "                                                                 \n",
      " conv2d_6 (Conv2D)           (None, 20, 20, 32)        8224      \n",
      "                                                                 \n",
      " conv2d_7 (Conv2D)           (None, 9, 9, 64)          32832     \n",
      "                                                                 \n",
      " conv2d_8 (Conv2D)           (None, 7, 7, 64)          36928     \n",
      "                                                                 \n",
      " flatten_2 (Flatten)         (None, 3136)              0         \n",
      "                                                                 \n",
      " dense_4 (Dense)             (None, 512)               1606144   \n",
      "                                                                 \n",
      " dense_5 (Dense)             (None, 4)                 2052      \n",
      "                                                                 \n",
      "=================================================================\n",
      "Total params: 1,686,180\n",
      "Trainable params: 1,686,180\n",
      "Non-trainable params: 0\n",
      "_________________________________________________________________\n",
      "None\n",
      "running reward: 3.86 at episode 15, frame count 10000\n",
      "WARNING:tensorflow:Compiled the loaded model, but the compiled metrics have yet to be built. `model.compile_metrics` will be empty until you train or evaluate the model.\n",
      "running reward: 4.00 at episode 30, frame count 20000\n",
      "WARNING:tensorflow:Compiled the loaded model, but the compiled metrics have yet to be built. `model.compile_metrics` will be empty until you train or evaluate the model.\n",
      "running reward: 3.95 at episode 44, frame count 30000\n",
      "WARNING:tensorflow:Compiled the loaded model, but the compiled metrics have yet to be built. `model.compile_metrics` will be empty until you train or evaluate the model.\n",
      "running reward: 4.05 at episode 58, frame count 40000\n",
      "WARNING:tensorflow:Compiled the loaded model, but the compiled metrics have yet to be built. `model.compile_metrics` will be empty until you train or evaluate the model.\n",
      "running reward: 3.97 at episode 75, frame count 50000\n",
      "WARNING:tensorflow:Compiled the loaded model, but the compiled metrics have yet to be built. `model.compile_metrics` will be empty until you train or evaluate the model.\n",
      "running reward: 4.09 at episode 88, frame count 60000\n",
      "WARNING:tensorflow:Compiled the loaded model, but the compiled metrics have yet to be built. `model.compile_metrics` will be empty until you train or evaluate the model.\n",
      "running reward: 4.16 at episode 100, frame count 70000\n",
      "WARNING:tensorflow:Compiled the loaded model, but the compiled metrics have yet to be built. `model.compile_metrics` will be empty until you train or evaluate the model.\n",
      "running reward: 4.24 at episode 116, frame count 80000\n",
      "WARNING:tensorflow:Compiled the loaded model, but the compiled metrics have yet to be built. `model.compile_metrics` will be empty until you train or evaluate the model.\n",
      "running reward: 4.25 at episode 131, frame count 90000\n",
      "WARNING:tensorflow:Compiled the loaded model, but the compiled metrics have yet to be built. `model.compile_metrics` will be empty until you train or evaluate the model.\n"
     ]
    }
   ],
   "source": [
    "import random\n",
    "from collections import deque\n",
    "import numpy as np\n",
    "import tensorflow as tf\n",
    "from tensorflow.keras import layers\n",
    "from baselines.common.atari_wrappers import make_atari\n",
    "from baselines.common.atari_wrappers import wrap_deepmind\n",
    "\n",
    "# Use the Baseline Atari environment\n",
    "env = make_atari(\"BeamRiderNoFrameskip-v4\")\n",
    "# Process and stack the frames\n",
    "env = wrap_deepmind(env, frame_stack=True, scale=True)\n",
    "\n",
    "# Discount factor for past rewards\n",
    "gamma = 0.99 \n",
    "# batch size\n",
    "batch_size = 32  \n",
    "\n",
    "# The number of actions in breakout is 4\n",
    "num_actions = 4\n",
    "\n",
    "# The same double Q deep neural network, applies to all Atari games\n",
    "def create_model():\n",
    "    # Network defined by the Deepmind paper\n",
    "    inputs = layers.Input(shape=(84, 84, 4,))\n",
    "    # Convolutions on the frames on the screen\n",
    "    layer1 = layers.Conv2D(32, 8, strides=4, activation=\"relu\")(inputs)\n",
    "    layer2 = layers.Conv2D(64, 4, strides=2, activation=\"relu\")(layer1)\n",
    "    layer3 = layers.Conv2D(64, 3, strides=1, activation=\"relu\")(layer2)\n",
    "    layer4 = layers.Flatten()(layer3)\n",
    "    layer5 = layers.Dense(512, activation=\"relu\")(layer4)\n",
    "    action = layers.Dense(num_actions, activation=\"linear\")(layer5)\n",
    "    return tf.keras.Model(inputs=inputs, outputs=action)\n",
    "\n",
    "# Double Deep Q Learning here\n",
    "# The model predicts Q-values, to determine action \n",
    "dnn=create_model()\n",
    "# Target model predicts future rewards\n",
    "# The weights of a target model are updated every 10000 frames thus when the\n",
    "# loss between the Q-values is calculated the target Q-value is stable.\n",
    "target_dnn=create_model()\n",
    "\n",
    "# Optimizer and loss function\n",
    "optimizer = tf.keras.optimizers.Adam(learning_rate=0.00025, clipnorm=1.0)\n",
    "loss_function = tf.keras.losses.Huber()\n",
    "\n",
    "# See how many trainable parameters in the deep neural network\n",
    "print(dnn.summary())\n",
    "\n",
    "# Create a replay buffer with a maximum length of 50000\n",
    "# If you don't have enough memory on your computer, change it to 20000\n",
    "memory=deque(maxlen=50000)\n",
    "# Create a running rewards list with a length of 100\n",
    "running_rewards=deque(maxlen=100)\n",
    "\n",
    "# Replay and update model parameters\n",
    "def replay():\n",
    "    # select a batch from the buffer memory\n",
    "    samples = random.sample(memory,batch_size)\n",
    "    dones = []\n",
    "    frames = []\n",
    "    new_frames = []\n",
    "    rewards = []\n",
    "    actions = []\n",
    "    for sample in samples:\n",
    "        frame, new_frame, action, reward, done = sample\n",
    "        frames.append(frame)\n",
    "        new_frames.append(new_frame)\n",
    "        actions.append(action)\n",
    "        dones.append(done)\n",
    "        rewards.append(reward)\n",
    "    frames=np.array(frames)\n",
    "    new_frames=np.array(new_frames)\n",
    "    dones=tf.convert_to_tensor(dones)\n",
    "\n",
    "    # update the Q table\n",
    "    preds = target_dnn.predict(new_frames, verbose=0)\n",
    "    Qs = rewards + gamma * tf.reduce_max(preds, axis=1)\n",
    "    # Each time the agent loses a life, set Q to -1; important\n",
    "    new_Qs = Qs * (1 - dones) - dones\n",
    "\n",
    "    # update model parameters\n",
    "    onehot = tf.one_hot(actions, num_actions)\n",
    "    with tf.GradientTape() as t:\n",
    "        Q_preds = dnn(frames)\n",
    "        # Calculate old Qs for the action taken\n",
    "        old_Qs = tf.reduce_sum(tf.multiply(Q_preds, onehot),axis=1)\n",
    "        # Calculate loss between new Qs and old Qs\n",
    "        loss = loss_function(new_Qs, old_Qs)\n",
    "    # Update using backpropagation\n",
    "    gs = t.gradient(loss,dnn.trainable_variables)\n",
    "    optimizer.apply_gradients(zip(gs,dnn.trainable_variables))\n",
    "    \n",
    "# Let the game begin\n",
    "running_reward = 0\n",
    "frame_count = 0\n",
    "# Number of frames to take random action and observe output\n",
    "epsilon_random_frames = 50000\n",
    "\n",
    "# Train the model after 4 actions\n",
    "update_after_actions = 4\n",
    "# How often to update the target network\n",
    "update_target_network = 10000\n",
    "\n",
    "for episode in range(1, 100000): \n",
    "    # reset state and episode reward before each episode\n",
    "    state = np.array(env.reset())\n",
    "    episode_reward = 0\n",
    "    \n",
    "    # Allow 10,000 steps per episode\n",
    "    for timestep in range(1, 10001):\n",
    "        frame_count += 1\n",
    "        # Calculate current epsilon based on frame count\n",
    "        epsilon = max(0.1, 1 - frame_count * (1-0.1) /1000000)\n",
    "        # Use epsilon-greedy for exploration\n",
    "        if frame_count < epsilon_random_frames or epsilon > np.random.rand(1)[0]:\n",
    "            # Take random action\n",
    "            action = np.random.choice(num_actions)\n",
    "        # Use exploitation\n",
    "        else:\n",
    "            # Predict action Q-values\n",
    "            # From environment state\n",
    "            state_tensor = tf.convert_to_tensor(state)\n",
    "            state_tensor = tf.expand_dims(state_tensor, 0)\n",
    "            action_probs = dnn(state_tensor, training=False)\n",
    "            # Take best action\n",
    "            action = tf.argmax(action_probs[0]).numpy()\n",
    "\n",
    "        # Apply the sampled action in our environment\n",
    "        state_next, reward, done, _ = env.step(action)\n",
    "        state_next = np.array(state_next)\n",
    "        episode_reward += reward\n",
    "        # Change done from True/False to 1.0 or 0.0 to prevent error\n",
    "        if done==True:\n",
    "            done=1.0\n",
    "        else:\n",
    "            done=0.0\n",
    "        # Save actions and states in replay buffer\n",
    "        memory.append([state, state_next, action, reward, done])\n",
    "        # current state becomes the next state in next round\n",
    "        state = state_next\n",
    "\n",
    "        # Update every fourth frame and once batch size is over 32\n",
    "        if frame_count % update_after_actions == 0 and len(memory) > batch_size:\n",
    "            replay()\n",
    "\n",
    "        if frame_count % update_target_network == 0:\n",
    "            # update the the target network with new weights\n",
    "            target_dnn.set_weights(dnn.get_weights())\n",
    "            running_reward = np.mean(np.array(running_rewards))\n",
    "            # Log details\n",
    "            template = \"running reward: {:.2f} at episode {}, frame count {}\"\n",
    "            print(template.format(running_reward, episode, frame_count))\n",
    "            # Periodically save the model\n",
    "            dnn.save(\"files/ch18/DoubleQ_Breakout.h5\")\n",
    "        if done==1.0:\n",
    "            running_rewards.append(episode_reward)\n",
    "            break\n",
    "    # Condition to consider the task solved\n",
    "    if running_reward > 40:  \n",
    "        print(f\"Solved at episode {episode}!\")\n",
    "        # save the final model\n",
    "        dnn.save(\"files/ch18/DoubleQ_Breakout_final.h5\")        \n",
    "        break"
   ]
  },
  {
   "cell_type": "markdown",
   "id": "86a68bf5",
   "metadata": {},
   "source": [
    "The number of trainable parameters is 1,686,180. The model takes several days to train. But you can use a trained model saved as files/ch18/breakout.h5. "
   ]
  },
  {
   "cell_type": "markdown",
   "id": "2558834a",
   "metadata": {},
   "source": [
    "## 3. Test the Trained Model\n",
    "Next, you'll first play five episodes of the game using the pre-trained model, so that you can visualize the pre-trained model in action. \n",
    "\n",
    "After that, you'll play the game 100 episodes and see what is the average score, without the graphical rendering of the game frames. "
   ]
  },
  {
   "cell_type": "markdown",
   "id": "f042ac6e",
   "metadata": {},
   "source": [
    "### 3.1. Testing One Original Episode\n",
    "The original Atari Breakout game has 5 lives. But the baseline package breaks it down to five smaller episodes. \n",
    "\n",
    "Here you'll play the game five consecutive episodes with the baseline package so that you'll have one full original episode. \n",
    "\n",
    "You'll turn on the graphical rendering of the game frames so that you can visualize the game in action."
   ]
  },
  {
   "cell_type": "code",
   "execution_count": 5,
   "id": "619c3cbb",
   "metadata": {},
   "outputs": [
    {
     "name": "stdout",
     "output_type": "stream",
     "text": [
      "WARNING:tensorflow:No training configuration found in the save file, so the model was *not* compiled. Compile it manually.\n"
     ]
    }
   ],
   "source": [
    "import numpy as np\n",
    "from baselines.common.atari_wrappers import make_atari, wrap_deepmind\n",
    "import tensorflow as tf\n",
    "\n",
    "reload = tf.keras.models.load_model(\"files/ch18/breakout.h5\")\n",
    "\n",
    "# Use the Baseline Atari environment\n",
    "env = make_atari(\"BreakoutNoFrameskip-v4\")\n",
    "# Process and stack the frames\n",
    "env = wrap_deepmind(env, frame_stack=True, scale=True)\n",
    "\n",
    "for i in range(5):\n",
    "    state = env.reset()\n",
    "    for j in range(10000):\n",
    "        if np.random.rand(1)[0]<0.01:\n",
    "            action = np.random.choice(4)\n",
    "        else:\n",
    "            state_tensor = tf.convert_to_tensor(state)\n",
    "            state_tensor = tf.expand_dims(state_tensor, 0)\n",
    "            action_probs = reload(state_tensor, training=False)\n",
    "            # Take the best action\n",
    "            action = tf.argmax(action_probs[0]).numpy()    \n",
    "        obs, reward, done, info = env.step(action)\n",
    "        env.render()\n",
    "        state=obs\n",
    "        if done:\n",
    "            break\n",
    "\n",
    "env.close()"
   ]
  },
  {
   "cell_type": "markdown",
   "id": "70243134",
   "metadata": {},
   "source": [
    "The trained model is able to remove most, if not all bricks in the game. \n",
    "\n",
    "More important, the agent sends the ball to the back of the wall multiple times once there is at least one opening to the back of the wall. The agent has definitely \"learned\" that it's more efficient to earn points that way than directly aiming at the bricks. "
   ]
  },
  {
   "cell_type": "markdown",
   "id": "3058e09d",
   "metadata": {},
   "source": [
    "### 3.2. Play Multiple Games and Test the Average Score"
   ]
  },
  {
   "cell_type": "markdown",
   "id": "2514ab27",
   "metadata": {},
   "source": [
    "We now play 100 games and turn off the graphical rendering. We'll see what is the average score.  "
   ]
  },
  {
   "cell_type": "code",
   "execution_count": null,
   "id": "245a2649",
   "metadata": {},
   "outputs": [],
   "source": [
    "import numpy as np\n",
    "from baselines.common.atari_wrappers import make_atari, wrap_deepmind\n",
    "import tensorflow as tf\n",
    "\n",
    "reload = tf.keras.models.load_model(\"files/ch18/breakout.h5\")\n",
    "\n",
    "# Use the Baseline Atari environment\n",
    "env = make_atari(\"BreakoutNoFrameskip-v4\")\n",
    "# Process and stack the frames\n",
    "env = wrap_deepmind(env, frame_stack=True, scale=True)\n",
    "scores = []\n",
    "for i in range(100):\n",
    "    state = env.reset()\n",
    "    score = 0\n",
    "    for j in range(10000):\n",
    "        if np.random.rand(1)[0]<0.01:\n",
    "            action = np.random.choice(4)\n",
    "        else:\n",
    "            state_tensor = tf.convert_to_tensor(state)\n",
    "            state_tensor = tf.expand_dims(state_tensor, 0)\n",
    "            action_probs = reload(state_tensor, training=False)\n",
    "            # Take the best action\n",
    "            action = tf.argmax(action_probs[0]).numpy()    \n",
    "        obs, reward, done, info = env.step(action)\n",
    "        #env.render()\n",
    "        state=obs\n",
    "        score += reward\n",
    "        if done:\n",
    "            print(f\"the score in episode {i+1} is {score}\")\n",
    "            scores.append(score)\n",
    "            break\n",
    "env.close()\n",
    "\n",
    "print(f\"the average score is {np.array(scores).mean()}\")"
   ]
  },
  {
   "cell_type": "markdown",
   "id": "3c4b7b39",
   "metadata": {},
   "source": [
    "The average score is about 20 per episode."
   ]
  },
  {
   "cell_type": "markdown",
   "id": "2afdb60c",
   "metadata": {},
   "source": [
    "## 4. Animate Successful Episodes\n",
    "We'll highlight episode where the agent purposefully sends the ball to the back of the wall multiple times. "
   ]
  },
  {
   "cell_type": "markdown",
   "id": "5ec2649d",
   "metadata": {},
   "source": [
    "### 4.1. Collect Successful Episodes\n",
    "We'll first record 25 episodes, and this is equivalent to five full original Atari Breakout game. \n",
    "\n",
    "The script below accomplishes that."
   ]
  },
  {
   "cell_type": "code",
   "execution_count": 8,
   "id": "c60f2169",
   "metadata": {},
   "outputs": [],
   "source": [
    "import imageio\n",
    "\n",
    "frames = []\n",
    "for i in range(25):\n",
    "    state = env.reset()\n",
    "    episode_frames = []\n",
    "    for j in range(10000):\n",
    "        if np.random.rand(1)[0]<0.01:\n",
    "            action = np.random.choice(4)\n",
    "        else:\n",
    "            state_tensor = tf.convert_to_tensor(state)\n",
    "            state_tensor = tf.expand_dims(state_tensor, 0)\n",
    "            action_probs = reload(state_tensor, training=False)\n",
    "            # Take the best action\n",
    "            action = tf.argmax(action_probs[0]).numpy()    \n",
    "        obs, reward, done, info = env.step(action)\n",
    "        #env.render()\n",
    "        state=obs\n",
    "        episode_frames.append(env.render(mode='rgb_array'))\n",
    "        if done:\n",
    "            frames.append(episode_frames)\n",
    "            imageio.mimsave(f\"files/ch18/breakout_episode{i+1}.gif\", episode_frames, fps=240)\n",
    "            break\n",
    "env.close()\n",
    "\n",
    "import pickle \n",
    "pickle.dump(frames, open(f'files/ch18/breakout_frames.p', 'wb'))"
   ]
  },
  {
   "cell_type": "markdown",
   "id": "4cd1fd1b",
   "metadata": {},
   "source": [
    "You'll see 25 short animations in your local folder. If you view them as extra large icons, you can easily tell in which ones the agent sends the ball to the back of the wall multiple times. The bricks remaining are visible from the thumbnail pictures of the animations.  "
   ]
  },
  {
   "cell_type": "markdown",
   "id": "85d6f6e2",
   "metadata": {},
   "source": [
    "### 4.2. Zoom in on Certain Steps\n",
    "Next, we'll zoom in on the steps of the game when the agent sends the ball to the back of the wall multiple times. \n",
    "For example, I will zoom in episodes 56 and 67 (the episodes for you will likely be different).\n",
    "\n",
    "Next, you'll break down episode 56 into individual pictures so that you know which frame to start and which one to stop. "
   ]
  },
  {
   "cell_type": "code",
   "execution_count": null,
   "id": "fec0f970",
   "metadata": {},
   "outputs": [],
   "source": [
    "import os\n",
    "import matplotlib.pyplot as plt\n",
    "\n",
    "os.makedirs(\"files/ch18/photos\", exist_ok=True)\n",
    "for i in range(len(frames[55])):\n",
    "    plt.imshow(frames[55][i])\n",
    "    plt.axis(\"off\")\n",
    "    plt.savefig(f\"files/ch18/photos/photo{i+1}\")"
   ]
  },
  {
   "cell_type": "markdown",
   "id": "c9e0aabe",
   "metadata": {},
   "source": [
    "By browsing through the pictures, it seems that the agent has sent the ball to the back of the wall from photos numbered 100 to 294. We therefore keep only those frames, like so."
   ]
  },
  {
   "cell_type": "code",
   "execution_count": 11,
   "id": "f8f7fedb",
   "metadata": {},
   "outputs": [],
   "source": [
    "imageio.mimsave(\"files/ch18/breakout_highlight.gif\", frames[55][100:294], fps=240)"
   ]
  },
  {
   "cell_type": "markdown",
   "id": "4d2b5e83",
   "metadata": {},
   "source": [
    "In the animation below, you can see that the agent has sent the ball to the back of the wall five consecutive times. It's clear that the agent has \"learned\" to do this on purpose because this is a more efficient way of earning rewards than aiming at the bricks directly. "
   ]
  },
  {
   "cell_type": "code",
   "execution_count": 20,
   "id": "5608690c",
   "metadata": {},
   "outputs": [
    {
     "data": {
      "text/html": [
       "<img src=\"https://gattonweb.uky.edu/faculty/lium/ml/breakout_highlight.gif\" />\n"
      ],
      "text/plain": [
       "<IPython.core.display.HTML object>"
      ]
     },
     "metadata": {},
     "output_type": "display_data"
    }
   ],
   "source": [
    "%%HTML \n",
    "<img src=\"https://gattonweb.uky.edu/faculty/lium/ml/breakout_highlight.gif\" />"
   ]
  },
  {
   "cell_type": "markdown",
   "id": "4feed635",
   "metadata": {},
   "source": [
    "Similarly, we can break down episode 67 into individual pictures so that you know which frame to start and which one to stop."
   ]
  },
  {
   "cell_type": "code",
   "execution_count": null,
   "id": "1345b1e0",
   "metadata": {},
   "outputs": [],
   "source": [
    "os.makedirs(\"files/ch18/photos2\", exist_ok=True)\n",
    "for i in range(len(frames[66])):\n",
    "    plt.imshow(frames[66][i])\n",
    "    plt.axis(\"off\")\n",
    "    plt.savefig(f\"files/ch18/photos2/photo{i+1}\")"
   ]
  },
  {
   "cell_type": "markdown",
   "id": "e462860d",
   "metadata": {},
   "source": [
    "By browsing through the pictures, it seems that the agent has sent the ball to the back of the wall from photos numbered 140 to 289. We therefore keep only those frames, like so."
   ]
  },
  {
   "cell_type": "code",
   "execution_count": 17,
   "id": "0332bc44",
   "metadata": {},
   "outputs": [],
   "source": [
    "imageio.mimsave(\"files/ch18/breakout_highlight2.gif\", frames[66][140:289], fps=240)"
   ]
  },
  {
   "cell_type": "markdown",
   "id": "54583cf2",
   "metadata": {},
   "source": [
    "The animation looks as follows:"
   ]
  },
  {
   "cell_type": "code",
   "execution_count": 25,
   "id": "c7c1718a",
   "metadata": {},
   "outputs": [
    {
     "data": {
      "text/html": [
       "<img src=\"https://gattonweb.uky.edu/faculty/lium/ml/breakout_highlight2.gif\" />\n"
      ],
      "text/plain": [
       "<IPython.core.display.HTML object>"
      ]
     },
     "metadata": {},
     "output_type": "display_data"
    }
   ],
   "source": [
    "%%HTML \n",
    "<img src=\"https://gattonweb.uky.edu/faculty/lium/ml/breakout_highlight2.gif\" />"
   ]
  },
  {
   "cell_type": "markdown",
   "id": "2023e7e1",
   "metadata": {},
   "source": [
    "### 4.3. Combine the Highlights\n",
    "We'll combine the two highlights into one animation."
   ]
  },
  {
   "cell_type": "code",
   "execution_count": 24,
   "id": "8821b368",
   "metadata": {},
   "outputs": [],
   "source": [
    "frames1 = frames[55][100:294]\n",
    "frames2 = frames[66][140:289]\n",
    "frames2 = frames2 + frames2\n",
    "fs = []\n",
    "for i in range(min(len(frames1), len(frames2))):\n",
    "    if i%2==0:\n",
    "        f1 = frames1[i]\n",
    "        f2 = frames2[i]\n",
    "        middle = np.full(f1.shape, 255).astype(\"uint8\")\n",
    "        f12 = np.concatenate([f1, middle, f2], axis=1)\n",
    "        fs.append(f12)\n",
    "imageio.mimsave('files/ch18/breakout_highlights.gif', fs, fps=600) "
   ]
  },
  {
   "cell_type": "markdown",
   "id": "f7c728bb",
   "metadata": {},
   "source": [
    "The animation looks as follows:"
   ]
  },
  {
   "cell_type": "code",
   "execution_count": 26,
   "id": "731b2efd",
   "metadata": {},
   "outputs": [
    {
     "data": {
      "text/html": [
       "<img src=\"https://gattonweb.uky.edu/faculty/lium/ml/breakout_highlights.gif\" />\n"
      ],
      "text/plain": [
       "<IPython.core.display.HTML object>"
      ]
     },
     "metadata": {},
     "output_type": "display_data"
    }
   ],
   "source": [
    "%%HTML\n",
    "<img src=\"https://gattonweb.uky.edu/faculty/lium/ml/breakout_highlights.gif\" />"
   ]
  },
  {
   "cell_type": "markdown",
   "id": "ee3f1b87",
   "metadata": {},
   "source": [
    "The animation shows that the agent can \"learn\" to score more efficiently by just interacting with the game environment. This is the essence of reinforcement learning!"
   ]
  }
 ],
 "metadata": {
  "kernelspec": {
   "display_name": "Python 3 (ipykernel)",
   "language": "python",
   "name": "python3"
  },
  "language_info": {
   "codemirror_mode": {
    "name": "ipython",
    "version": 3
   },
   "file_extension": ".py",
   "mimetype": "text/x-python",
   "name": "python",
   "nbconvert_exporter": "python",
   "pygments_lexer": "ipython3",
   "version": "3.9.12"
  }
 },
 "nbformat": 4,
 "nbformat_minor": 5
}
