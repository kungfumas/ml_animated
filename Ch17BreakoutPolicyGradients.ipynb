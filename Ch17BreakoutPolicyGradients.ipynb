{
 "cells": [
  {
   "cell_type": "markdown",
   "id": "653089c9",
   "metadata": {},
   "source": [
    "# Chapter 17: Play Breakout with Policy Gradients\n",
    "\n",
    "We extend the policy gradients approach you learned in Chapter 16 to another, more complicated Atari game, Breakout. \n",
    "\n",
    "Specifically, since the possible actions are four instead of just two, you need to change the problem from binary classification to multi-class classification. Further, you need to change the reward system of the game by counting the number of lives remaining for the agent. A more nuanced reward system will greatly improve the training. \n",
    "\n",
    "You'll also learn the limitations of the policy gradients in training the Breakout game. When taking the difference of two consecutive frames, the layers of bricks disappear and this affects later stages of the game. \n",
    "\n",
    "Non-the-less, the agent will learn to send the ball to the back to layers of bricks to score more efficiently. You'll learn how to capture those episodes and create an animation of those frames. Like so: <br>\n",
    "\n",
    "\n",
    "\n",
    "<img src=\"https://gattonweb.uky.edu/faculty/lium/ml/breakout_tunnel.gif\" />"
   ]
  },
  {
   "cell_type": "markdown",
   "id": "e3b25bf6",
   "metadata": {},
   "source": [
    "***\n",
    "$\\mathbf{\\text{Create a subfolder for files in Chapter 17}}$<br>\n",
    "***\n",
    "We'll put all files in Chapter 17 in a subfolder /files/ch17. The code in the cell below will create the subfolder.\n",
    "\n",
    "***"
   ]
  },
  {
   "cell_type": "code",
   "execution_count": 1,
   "id": "117477d3",
   "metadata": {},
   "outputs": [],
   "source": [
    "import os\n",
    "\n",
    "os.makedirs(\"files/ch17\", exist_ok=True)"
   ]
  },
  {
   "cell_type": "markdown",
   "id": "2f7dbb5c",
   "metadata": {},
   "source": [
    "## 1. Get Started with the Breakout Game\n",
    "\n",
    "In this section, you'll learn the special features of the Breakout game. I'll focus on the features that are different from the Pong game. "
   ]
  },
  {
   "cell_type": "markdown",
   "id": "a0b7aaab",
   "metadata": {},
   "source": [
    "### 1.1. The Breakout Game\n",
    "\n",
    "Run the lines of code below to start the Breakout game."
   ]
  },
  {
   "cell_type": "code",
   "execution_count": 2,
   "id": "adfa3a2c",
   "metadata": {},
   "outputs": [
    {
     "data": {
      "text/plain": [
       "True"
      ]
     },
     "execution_count": 2,
     "metadata": {},
     "output_type": "execute_result"
    }
   ],
   "source": [
    "import gym\n",
    "env = gym.make(\"Breakout-v0\")\n",
    "env.reset()\n",
    "env.render()"
   ]
  },
  {
   "cell_type": "markdown",
   "id": "0e26b04e",
   "metadata": {},
   "source": [
    "You should see a Breakout game frame in a separate window. \n",
    "\n",
    "You can check the action space and observation space of the game as follows:"
   ]
  },
  {
   "cell_type": "code",
   "execution_count": 3,
   "id": "48ee5e38",
   "metadata": {},
   "outputs": [
    {
     "name": "stdout",
     "output_type": "stream",
     "text": [
      "The action space for the Breakout game is Discrete(4)\n",
      "The observation space for the Breakout game is Box(210, 160, 3)\n"
     ]
    }
   ],
   "source": [
    "# Print out all possible actions in this game\n",
    "actions = env.action_space\n",
    "print(f\"The action space for the Breakout game is {actions}\")\n",
    "\n",
    "# Print out the observation space in this game\n",
    "obs_space = env.observation_space\n",
    "print(f\"The observation space for the Breakout game is {obs_space}\")"
   ]
  },
  {
   "cell_type": "markdown",
   "id": "86a68bf5",
   "metadata": {},
   "source": [
    "There are four possible actions the agent can take: \n",
    "* action 0: doing nothing\n",
    "* action 1: firing the ball\n",
    "* action 2: moving the paddle to the right\n",
    "* action 3: moving the paddle to the left\n",
    "\n",
    "Unlike in the Pong game, the ball is automatically fired, here we need to trigger the firing action. So we have to treat this as a multi-class classification problem. \n",
    "\n",
    "Each observation is a color picture that is 210 pixels tall and 160 pixels wide. The following cell displays an observation."
   ]
  },
  {
   "cell_type": "code",
   "execution_count": 7,
   "id": "1401e695",
   "metadata": {},
   "outputs": [
    {
     "data": {
      "image/png": "[encoded data removed]",
      "text/plain": [
       "<Figure size 432x288 with 1 Axes>"
      ]
     },
     "metadata": {
      "needs_background": "light"
     },
     "output_type": "display_data"
    }
   ],
   "source": [
    "import matplotlib.pyplot as plt\n",
    "import numpy as np\n",
    "\n",
    "env.reset()\n",
    "# run 20 steps so that the ball appears in the picture\n",
    "for _ in range(20):\n",
    "    action = np.random.choice([0,1,2,3])\n",
    "    obs, reward, done, info = env.step(action)\n",
    "plt.imshow(obs)\n",
    "plt.show()"
   ]
  },
  {
   "cell_type": "markdown",
   "id": "233a9c5f",
   "metadata": {},
   "source": [
    "If you don't see a ball in the picture, rerun the above cell until you see a ball."
   ]
  },
  {
   "cell_type": "markdown",
   "id": "9dc9ad6c",
   "metadata": {},
   "source": [
    "### 1.2. Process the Game Frames\n",
    "The input size of the game frame is too large, we'll process the image to reduce the size while retaining vital information to train the model to win the game.\n",
    "\n",
    "Specifically, we'll perform cropping, downsizing, and differencing before we feed the data into the model to train the agent. "
   ]
  },
  {
   "cell_type": "markdown",
   "id": "9526aec3",
   "metadata": {},
   "source": [
    "#### Cropping\n",
    "We'll remove the top and the bottom of the game frame to reduce input size as follows."
   ]
  },
  {
   "cell_type": "code",
   "execution_count": 8,
   "id": "1cc83d08",
   "metadata": {},
   "outputs": [
    {
     "data": {
      "image/png": "[encoded data removed]",
      "text/plain": [
       "<Figure size 432x288 with 1 Axes>"
      ]
     },
     "metadata": {
      "needs_background": "light"
     },
     "output_type": "display_data"
    }
   ],
   "source": [
    "obs_cropped = obs[35:195]\n",
    "plt.imshow(obs_cropped)\n",
    "plt.show()"
   ]
  },
  {
   "cell_type": "markdown",
   "id": "e2290089",
   "metadata": {},
   "source": [
    "The size of the picture is now 160 by 160 by 3. We need to further reduce the size of the picture. "
   ]
  },
  {
   "cell_type": "markdown",
   "id": "3aa53494",
   "metadata": {},
   "source": [
    "#### Downsizing\n",
    "We'll use every other row and every other column so that the input size is smaller. Further, we'll use just one of the three color channels to further reduce size, like so:"
   ]
  },
  {
   "cell_type": "code",
   "execution_count": 9,
   "id": "ae73b29d",
   "metadata": {},
   "outputs": [
    {
     "data": {
      "image/png": "[encoded data removed]",
      "text/plain": [
       "<Figure size 432x288 with 1 Axes>"
      ]
     },
     "metadata": {
      "needs_background": "light"
     },
     "output_type": "display_data"
    }
   ],
   "source": [
    "obs_downsized = obs_cropped[::2,::2,0]\n",
    "plt.imshow(obs_downsized)\n",
    "plt.show()"
   ]
  },
  {
   "cell_type": "markdown",
   "id": "499d77fc",
   "metadata": {},
   "source": [
    "The size of the processed picture is now 80 by 80 by 1, a small fraction of the original size. However, the picture doesn't tell us the movement of the Breakout ball. We can potentially use two consecutive pictures, but that will double the input size to 80 by 80 by 2. With that, the number of parameters will be too large. The training will be too slow. Therefore, we'll use the difference between two consecutive frames. "
   ]
  },
  {
   "cell_type": "markdown",
   "id": "46fae7e7",
   "metadata": {},
   "source": [
    "#### Differencing\n",
    "We'll get the difference of the two consecutive frames after processing. The script below shows how. "
   ]
  },
  {
   "cell_type": "code",
   "execution_count": 10,
   "id": "3a0dfc10",
   "metadata": {},
   "outputs": [
    {
     "data": {
      "image/png": "[encoded data removed]",
      "text/plain": [
       "<Figure size 432x288 with 1 Axes>"
      ]
     },
     "metadata": {
      "needs_background": "light"
     },
     "output_type": "display_data"
    }
   ],
   "source": [
    "action = np.random.choice([2,3])\n",
    "next_obs, reward, done, info = env.step(action)\n",
    "\n",
    "next_obs_cropped = next_obs[35:195]\n",
    "next_obs_downsized = next_obs_cropped[::2,::2,0]\n",
    "\n",
    "dif = next_obs_downsized - obs_downsized\n",
    "plt.imshow(dif)\n",
    "plt.show()"
   ]
  },
  {
   "cell_type": "markdown",
   "id": "9d421f4e",
   "metadata": {},
   "source": [
    "Note the limitation in differencing the frames. The layers of the bricks disappear from the picture. This is not a problem in early stages of the game since as long as the ball is caught by the paddle, it will bounce up and hit a brick on the way up and you'll score no matter what. \n",
    "\n",
    "But in later stages of the game when many bricks are gone, you don't know where the remaining bricks are. It's impossible for the agent to aim at the bricks and score. \n",
    "\n",
    "We'll address this limitation in Chapter 18, by using the Baselines game wrapper. "
   ]
  },
  {
   "cell_type": "code",
   "execution_count": 13,
   "id": "210b90c9",
   "metadata": {},
   "outputs": [],
   "source": [
    "env.close()"
   ]
  },
  {
   "cell_type": "markdown",
   "id": "becfea11",
   "metadata": {},
   "source": [
    "Run the above line of code to close the game environment. "
   ]
  },
  {
   "cell_type": "markdown",
   "id": "a1b1e904",
   "metadata": {},
   "source": [
    "## 2. Train the Agent Using Policy Gradients\n",
    "\n",
    "We'll use policy gradients to train the agent. \n",
    "\n",
    "### 2.1. Changes we need to make when training the game\n",
    "\n",
    "The first thing we need to change is how the actions are determined. In the Pong game, we used the following line of code: \n",
    "\n",
    "```python\n",
    "action = 2 if np.random.uniform() < aprob else 3\n",
    "```\n",
    "\n",
    "We choose action 2 if the predicted probability is greater than a random number; otherwise we choose action 3. \n",
    "\n",
    "Now in the Breakout game, we have four actions to choose from. The model will make a prediction with four values, corresponding to the probabilities of the four actions. Therefore, we'll use this line of code: \n",
    "\n",
    "```python\n",
    "action=np.random.choice([0,1,2,3], p=aprob)\n",
    "```\n",
    "\n",
    "We choose the four actions randomly, but the probability of each action is proportional to the predicted probability. For example, if the prediction probabilities are [0.2, 0.3, 0.1, 0.4], we'll pick action 0 with probability 20%, action 1 with probability 30%, action 2 with probability 10%, and action 3 with probability 40%. This is similar to exploration and exploitation in the training of the Q-tables. "
   ]
  },
  {
   "cell_type": "markdown",
   "id": "b73d8261",
   "metadata": {},
   "source": [
    "\n",
    "### 2.2. Counting the Number of Lives Remaining\n",
    "\n",
    "In the Pong game, there are three possible rewards: -1, 0, and 1. Every time you fail to catch the ball, you get a reward of -1. \n",
    "\n",
    "However, in the Breakout game, there are only two possible rewards: 0 and 1. Every time you fail to catch the ball, the reward is still 0.  \n",
    "\n",
    "Run the script below to show what I mean:"
   ]
  },
  {
   "cell_type": "code",
   "execution_count": 12,
   "id": "c4816786",
   "metadata": {},
   "outputs": [
    {
     "name": "stdout",
     "output_type": "stream",
     "text": [
      "0.0 False {'ale.lives': 5}\n",
      "0.0 False {'ale.lives': 5}\n",
      "0.0 False {'ale.lives': 5}\n",
      "0.0 False {'ale.lives': 5}\n",
      "0.0 False {'ale.lives': 5}\n",
      "0.0 False {'ale.lives': 5}\n",
      "0.0 False {'ale.lives': 5}\n",
      "0.0 False {'ale.lives': 5}\n",
      "0.0 False {'ale.lives': 5}\n",
      "0.0 False {'ale.lives': 5}\n",
      "0.0 False {'ale.lives': 5}\n",
      "0.0 False {'ale.lives': 5}\n",
      "0.0 False {'ale.lives': 5}\n",
      "0.0 False {'ale.lives': 5}\n",
      "0.0 False {'ale.lives': 5}\n",
      "0.0 False {'ale.lives': 5}\n",
      "0.0 False {'ale.lives': 5}\n",
      "0.0 False {'ale.lives': 5}\n",
      "0.0 False {'ale.lives': 5}\n",
      "0.0 False {'ale.lives': 5}\n",
      "0.0 False {'ale.lives': 5}\n",
      "0.0 False {'ale.lives': 5}\n",
      "0.0 False {'ale.lives': 5}\n",
      "0.0 False {'ale.lives': 5}\n",
      "0.0 False {'ale.lives': 5}\n",
      "0.0 False {'ale.lives': 5}\n",
      "0.0 False {'ale.lives': 5}\n",
      "0.0 False {'ale.lives': 5}\n",
      "0.0 False {'ale.lives': 5}\n",
      "0.0 False {'ale.lives': 5}\n",
      "0.0 False {'ale.lives': 5}\n",
      "0.0 False {'ale.lives': 5}\n",
      "0.0 False {'ale.lives': 5}\n",
      "0.0 False {'ale.lives': 5}\n",
      "0.0 False {'ale.lives': 5}\n",
      "0.0 False {'ale.lives': 5}\n",
      "0.0 False {'ale.lives': 5}\n",
      "0.0 False {'ale.lives': 5}\n",
      "0.0 False {'ale.lives': 5}\n",
      "0.0 False {'ale.lives': 5}\n",
      "0.0 False {'ale.lives': 5}\n",
      "0.0 False {'ale.lives': 5}\n",
      "0.0 False {'ale.lives': 5}\n",
      "0.0 False {'ale.lives': 5}\n",
      "0.0 False {'ale.lives': 5}\n",
      "0.0 False {'ale.lives': 5}\n",
      "0.0 False {'ale.lives': 5}\n",
      "0.0 False {'ale.lives': 5}\n",
      "0.0 False {'ale.lives': 5}\n",
      "0.0 False {'ale.lives': 5}\n",
      "1.0 False {'ale.lives': 5}\n",
      "0.0 False {'ale.lives': 5}\n",
      "0.0 False {'ale.lives': 5}\n",
      "0.0 False {'ale.lives': 5}\n",
      "0.0 False {'ale.lives': 5}\n",
      "0.0 False {'ale.lives': 5}\n",
      "0.0 False {'ale.lives': 5}\n",
      "0.0 False {'ale.lives': 5}\n",
      "0.0 False {'ale.lives': 5}\n",
      "0.0 False {'ale.lives': 5}\n",
      "0.0 False {'ale.lives': 5}\n",
      "0.0 False {'ale.lives': 5}\n",
      "0.0 False {'ale.lives': 5}\n",
      "0.0 False {'ale.lives': 5}\n",
      "0.0 False {'ale.lives': 5}\n",
      "0.0 False {'ale.lives': 5}\n",
      "0.0 False {'ale.lives': 5}\n",
      "0.0 False {'ale.lives': 5}\n",
      "0.0 False {'ale.lives': 5}\n",
      "0.0 False {'ale.lives': 5}\n",
      "0.0 False {'ale.lives': 5}\n",
      "0.0 False {'ale.lives': 5}\n",
      "0.0 False {'ale.lives': 5}\n",
      "0.0 False {'ale.lives': 5}\n",
      "0.0 False {'ale.lives': 5}\n",
      "0.0 False {'ale.lives': 5}\n",
      "0.0 False {'ale.lives': 5}\n",
      "0.0 False {'ale.lives': 5}\n",
      "0.0 False {'ale.lives': 5}\n",
      "0.0 False {'ale.lives': 5}\n",
      "0.0 False {'ale.lives': 5}\n",
      "0.0 False {'ale.lives': 5}\n",
      "0.0 False {'ale.lives': 5}\n",
      "0.0 False {'ale.lives': 5}\n",
      "0.0 False {'ale.lives': 5}\n",
      "0.0 False {'ale.lives': 5}\n",
      "0.0 False {'ale.lives': 5}\n",
      "0.0 False {'ale.lives': 5}\n",
      "0.0 False {'ale.lives': 5}\n",
      "0.0 False {'ale.lives': 5}\n",
      "0.0 False {'ale.lives': 5}\n",
      "0.0 False {'ale.lives': 5}\n",
      "0.0 False {'ale.lives': 4}\n"
     ]
    }
   ],
   "source": [
    "import gym\n",
    "env = gym.make(\"Breakout-v0\")\n",
    "env.reset()\n",
    "env.render()\n",
    "\n",
    "while True:\n",
    "    action = np.random.choice([0,1,2,3])\n",
    "    obs, reward, done, info = env.step(action)\n",
    "    print(reward, done, info)\n",
    "    env.render()\n",
    "    if info[\"ale.lives\"]==4:\n",
    "        break"
   ]
  },
  {
   "cell_type": "markdown",
   "id": "62f546f8",
   "metadata": {},
   "source": [
    "You should have seen that the paddle just missed the ball. However, the reward is still 0 in the last step. We therefore will hard code in a reward of -1 whenever the number of live remaining decreases by 1. "
   ]
  },
  {
   "cell_type": "markdown",
   "id": "1edacff0",
   "metadata": {},
   "source": [
    "### 2.3. The Script to Train the Model\n",
    "The program below trains the model."
   ]
  },
  {
   "cell_type": "code",
   "execution_count": null,
   "id": "7bf98732",
   "metadata": {},
   "outputs": [],
   "source": [
    "import numpy as np\n",
    "import pickle\n",
    "import gym\n",
    "\n",
    "# Hyperparameters\n",
    "num_actions = 4\n",
    "H = 200 \n",
    "batch_size = 10 \n",
    "learning_rate = 1e-4\n",
    "gamma = 0.99 \n",
    "decay_rate = 0.99 \n",
    "D = 80 * 80 \n",
    "\n",
    "# Create model\n",
    "model = {}\n",
    "model['W1'] = np.random.randn(H,D) / np.sqrt(D) \n",
    "model['W2'] = np.random.randn(num_actions,H) / np.sqrt(H)\n",
    "  \n",
    "grad_buffer = { k : np.zeros_like(v) for k,v in model.items() } \n",
    "rmsprop_cache = { k : np.zeros_like(v) for k,v in model.items() } \n",
    "\n",
    "# Define the one-hot encoder and softmax functions\n",
    "def onehot_encoder(action):\n",
    "    onehot=np.zeros((1,num_actions))\n",
    "    onehot[0,action]=1\n",
    "    return onehot\n",
    "\n",
    "def softmax(x):\n",
    "    xi=np.exp(x)\n",
    "    return xi/xi.sum() \n",
    "\n",
    "# Preprocss the pixels\n",
    "def prepro(I):\n",
    "  I = I[35:195] \n",
    "  I = I[::2,::2,0] \n",
    "  I[I == 144] = 0 \n",
    "  I[I == 109] = 0 \n",
    "  I[I != 0] = 1 \n",
    "  return I.astype(np.float).ravel()\n",
    "\n",
    "def discount_rewards(r):\n",
    "  discounted_r = np.zeros_like(r)\n",
    "  running_add = 0\n",
    "  for t in reversed(range(0, r.size)):\n",
    "    if r[t] != 0: running_add = 0 \n",
    "    running_add = running_add * gamma + r[t]\n",
    "    discounted_r[t] = running_add\n",
    "  return discounted_r\n",
    "\n",
    "def policy_forward(x):\n",
    "  h = np.dot(model['W1'], x)\n",
    "  h[h<0] = 0 \n",
    "  logp = np.dot(model['W2'], h)\n",
    "  p = softmax(logp)\n",
    "  return p, h \n",
    "\n",
    "def policy_backward(eph, epdlogp):\n",
    "  dW2 = np.dot(epdlogp.T, eph)\n",
    "  dh = np.dot(epdlogp, model['W2'])\n",
    "  dh[eph <= 0] = 0 \n",
    "  dW1 = np.dot(dh.T, epx)\n",
    "  return {'W1':dW1, 'W2':dW2}\n",
    "\n",
    "env = gym.make(\"Breakout-v0\")\n",
    "observation = env.reset()\n",
    "prev_x = None \n",
    "xs,hs,dlogps,drs = [],[],[],[]\n",
    "running_reward = None\n",
    "reward_sum = 0\n",
    "episode_number = 0\n",
    "\n",
    "# Count the number of lives to determine when to give reward -1\n",
    "lives=5\n",
    "\n",
    "while episode_number<250000:\n",
    "  # preprocess the observation, set input to network to be difference image\n",
    "  cur_x = prepro(observation)\n",
    "  x = cur_x - prev_x if prev_x is not None else np.zeros(D)\n",
    "  prev_x = cur_x\n",
    "  \n",
    "  # forward the policy network and sample an action from the returned probability\n",
    "  aprob, h = policy_forward(x)\n",
    "  action=np.random.choice([0,1,2,3], p=aprob)\n",
    "  # record various intermediates (needed later for backprop)\n",
    "  xs.append(x) \n",
    "  hs.append(h) \n",
    "  y = onehot_encoder(action)\n",
    "  # gradient for adjust weights, magic part\n",
    "  dlogps.append(y - aprob) \n",
    "\n",
    "  # step the environment and get new measurements\n",
    "  observation, reward, done, info = env.step(action)\n",
    "  # Not in Andrej's script, my addition to solve the reward structure problem\n",
    "  if (lives-info[\"ale.lives\"])==1:\n",
    "    lives -= 1\n",
    "    reward=-1\n",
    "  reward_sum += reward\n",
    "\n",
    "  drs.append(reward) \n",
    "\n",
    "  if done==True:\n",
    "    episode_number += 1\n",
    "    epx = np.vstack(xs)\n",
    "    eph = np.vstack(hs)\n",
    "    epdlogp = np.vstack(dlogps)\n",
    "    epr = np.vstack(drs)\n",
    "    xs,hs,dlogps,drs = [],[],[],[] # reset array memory\n",
    "    \n",
    "    # compute the discounted reward backwards through time\n",
    "    discounted_epr = discount_rewards(epr)\n",
    "    discounted_epr -= np.mean(discounted_epr)\n",
    "    discounted_epr /= np.std(discounted_epr)\n",
    "    # modulate the gradient with advantage (PG magic happens right here.)\n",
    "    epdlogp *= discounted_epr \n",
    "    grad = policy_backward(eph, epdlogp)\n",
    "    for k in model: grad_buffer[k] += grad[k] \n",
    "\n",
    "    # Reset lives to 5 after each episode\n",
    "    lives=5\n",
    "    fire=True\n",
    "    reward_sum = 0    \n",
    "    observation = env.reset() \n",
    "    prev_x = None        \n",
    "    \n",
    "    # perform rmsprop parameter update every batch_size episodes\n",
    "    if episode_number % batch_size == 0:\n",
    "      for k,v in model.items():\n",
    "        g = grad_buffer[k] \n",
    "        rmsprop_cache[k] = decay_rate * rmsprop_cache[k] + (1 - decay_rate) * g**2\n",
    "        model[k] += learning_rate * g / (np.sqrt(rmsprop_cache[k]) + 1e-5)\n",
    "        grad_buffer[k] = np.zeros_like(v) \n",
    "    \n",
    "    # Show progress and save model\n",
    "    if episode_number % 10 == 0: \n",
    "        print(f'this is episode {episode_number} with reward {reward_sum}')\n",
    "    if episode_number % 100 == 0: \n",
    "        pickle.dump(model, open('v0breakpg.p', 'wb'))\n",
    "    if episode_number % 10000 == 0: \n",
    "        pickle.dump(model, open(f'v0breakpg{episode_number}.p', 'wb'))\n"
   ]
  },
  {
   "cell_type": "markdown",
   "id": "9aa6a8d3",
   "metadata": {},
   "source": [
    "It takes several days to train the model. I trained the model half a million episodes. The trained model v0breakpg.p is paced in files/ch17/ in this GitHub repository. "
   ]
  },
  {
   "cell_type": "markdown",
   "id": "6d794163",
   "metadata": {},
   "source": [
    "## 3. Test the Trained Model\n",
    "We'll play the game using the trained model. We'll test it on 100 games and see what's the average score. "
   ]
  },
  {
   "cell_type": "markdown",
   "id": "fe7c6a97",
   "metadata": {},
   "source": [
    "### 3.1. Play One Game\n",
    "You'll play one game using the trained model. You'll turn on the graphical rendering so you can see the game frames. The program below tests the game for one episode. Each time the ball hit a brick, there is a reward of 1. "
   ]
  },
  {
   "cell_type": "code",
   "execution_count": 27,
   "id": "2eee3708",
   "metadata": {},
   "outputs": [
    {
     "name": "stdout",
     "output_type": "stream",
     "text": [
      "reward total is 57.0\n"
     ]
    }
   ],
   "source": [
    "model = pickle.load(open('files/ch17/v0breakpg.p', 'rb'))\n",
    "env = gym.make(\"Breakout-v0\")\n",
    "observation = env.reset()\n",
    "prev_x = None \n",
    "reward_sum = 0\n",
    "\n",
    "while True:\n",
    "\n",
    "  env.render()\n",
    "  # preprocess the observation, set input to network to be difference image\n",
    "  cur_x = prepro(observation)\n",
    "  x = cur_x - prev_x if prev_x is not None else np.zeros(D)\n",
    "  prev_x = cur_x\n",
    "\n",
    "  aprob, h = policy_forward(x)\n",
    "  action=np.random.choice([0,1,2,3], p=aprob)\n",
    "\n",
    "  # step the environment and get new measurements\n",
    "  observation, reward, done, info = env.step(action)\n",
    "  reward_sum += reward  \n",
    "\n",
    "  if done==True:\n",
    "    print(f'reward total is {reward_sum}')\n",
    "    break        \n",
    "\n",
    "env.close()"
   ]
  },
  {
   "cell_type": "markdown",
   "id": "34d1a8fb",
   "metadata": {},
   "source": [
    "It's clear that the trained agent is able to catch the ball quite often. But it's far from perfect."
   ]
  },
  {
   "cell_type": "markdown",
   "id": "3058e09d",
   "metadata": {},
   "source": [
    "### 3.2. Play Multiple Games"
   ]
  },
  {
   "cell_type": "markdown",
   "id": "2514ab27",
   "metadata": {},
   "source": [
    "We now play 5 games and turn off the graphical rendering. We'll see what the average score is."
   ]
  },
  {
   "cell_type": "code",
   "execution_count": 29,
   "id": "245a2649",
   "metadata": {},
   "outputs": [
    {
     "name": "stdout",
     "output_type": "stream",
     "text": [
      "episode 1 reward total was 36.0\n",
      "episode 2 reward total was 33.0\n",
      "episode 3 reward total was 25.0\n",
      "episode 4 reward total was 69.0\n",
      "episode 5 reward total was 25.0\n",
      "running mean: 37.6\n"
     ]
    }
   ],
   "source": [
    "model = pickle.load(open('files/ch17/v0breakpg.p', 'rb'))\n",
    "env = gym.make(\"Breakout-v0\")\n",
    "observation = env.reset()\n",
    "prev_x = None \n",
    "running_reward = []\n",
    "reward_sum = 0\n",
    "episode_number = 0\n",
    "\n",
    "# See five episode in action\n",
    "while episode_number<5:\n",
    "\n",
    "  #env.render()\n",
    "  # preprocess the observation, set input to network to be difference image\n",
    "  cur_x = prepro(observation)\n",
    "  x = cur_x - prev_x if prev_x is not None else np.zeros(D)\n",
    "  prev_x = cur_x\n",
    "\n",
    "  aprob, h = policy_forward(x)\n",
    "  action=np.random.choice([0,1,2,3], p=aprob)\n",
    "\n",
    "  # step the environment and get new measurements\n",
    "  observation, reward, done, info = env.step(action)\n",
    "  reward_sum += reward  \n",
    "\n",
    "  if done==True:\n",
    "    episode_number += 1\n",
    "    print(f'episode {episode_number} reward total was {reward_sum}')\n",
    "    running_reward.append(reward_sum)\n",
    "    reward_sum = 0    \n",
    "    observation = env.reset() # reset env\n",
    "    prev_x = None        \n",
    "    \n",
    "print(f'running mean: {np.mean(running_reward)}')"
   ]
  },
  {
   "cell_type": "markdown",
   "id": "3c4b7b39",
   "metadata": {},
   "source": [
    "The average score is 37.6 per episode.\n",
    "\n",
    "Next, we'll search for episodes that the agent successfully sends the ball to the back of the wall to score more efficiently. "
   ]
  },
  {
   "cell_type": "markdown",
   "id": "2afdb60c",
   "metadata": {},
   "source": [
    "## 4. Search for Successful Episodes\n",
    "If the agent sends the ball to the back of the wall, the ball can hit multiple bricks and have a high score in the episode. We therefore look for an episode with total rewards above, say, 100. "
   ]
  },
  {
   "cell_type": "markdown",
   "id": "5ec2649d",
   "metadata": {},
   "source": [
    "### 4.1. Collect Successful Episodes\n",
    "We'll first record a full game using the trained model.\n",
    "\n",
    "The script below accomplishes that."
   ]
  },
  {
   "cell_type": "code",
   "execution_count": null,
   "id": "c60f2169",
   "metadata": {},
   "outputs": [],
   "source": [
    "import numpy as np\n",
    "import pickle\n",
    "import gym\n",
    "import imageio\n",
    "\n",
    "# Hyperparameters\n",
    "num_actions = 4\n",
    "D = 80 * 80 \n",
    "model = pickle.load(open('files/ch17/v0breakpg.p', 'rb'))\n",
    "\n",
    "def onehot_encoder(action):\n",
    "    onehot=np.zeros((1,num_actions))\n",
    "    onehot[0,action]=1\n",
    "    return onehot\n",
    "\n",
    "def softmax(x):\n",
    "    xi=np.exp(x)\n",
    "    return xi/xi.sum() \n",
    "\n",
    "# Preprocss the pixels\n",
    "def prepro(I):\n",
    "  I = I[35:195] \n",
    "  I = I[::2,::2,0] \n",
    "  I[I == 144] = 0 \n",
    "  I[I == 109] = 0 \n",
    "  I[I != 0] = 1 \n",
    "  return I.astype(np.float).ravel()\n",
    "\n",
    "def policy_forward(x):\n",
    "  h = np.dot(model['W1'], x)\n",
    "  h[h<0] = 0 \n",
    "  logp = np.dot(model['W2'], h)\n",
    "  p = softmax(logp)\n",
    "  return p, h \n",
    "\n",
    "env = gym.make(\"Breakout-v0\")\n",
    "observation = env.reset()\n",
    "prev_x = None \n",
    "running_reward = []\n",
    "reward_sum = 0\n",
    "episode_number = 0\n",
    "\n",
    "\n",
    "frames=[]\n",
    "while True:\n",
    "  frames.append(env.render(mode='rgb_array'))\n",
    "  cur_x = prepro(observation)\n",
    "  x = cur_x - prev_x if prev_x is not None else np.zeros(D)\n",
    "  prev_x = cur_x\n",
    "\n",
    "  aprob, h = policy_forward(x)\n",
    "  action=np.random.choice([0,1,2,3], p=aprob)\n",
    "\n",
    "  # step the environment and get new measurements\n",
    "  observation, reward, done, info = env.step(action)\n",
    "  reward_sum += reward  \n",
    "\n",
    "  if done==True:\n",
    "    episode_number += 1\n",
    "    print(f'episode {episode_number} reward total was {reward_sum}')\n",
    "    # usually, if episode reward is above 60, you have a tunnel\n",
    "    if reward_sum>100:\n",
    "        pickle.dump(frames, open(f'files/ch17/frames{episode_number}.p', 'wb'))\n",
    "        imageio.mimsave(f\"files/ch17/frames{episode_number}.gif\", frames, fps=60)\n",
    "        break\n",
    "    running_reward.append(reward_sum)\n",
    "    reward_sum = 0    \n",
    "    observation = env.reset() \n",
    "    prev_x = None \n",
    "    frame = []\n",
    "    \n",
    "print(f'running mean: {np.mean(running_reward)}')"
   ]
  },
  {
   "cell_type": "markdown",
   "id": "4cd1fd1b",
   "metadata": {},
   "source": [
    "It usually takes 5 to 10 minutes for you to have an episode with rewards above 100. Once done, you'll have an animation in your local folder. "
   ]
  },
  {
   "cell_type": "markdown",
   "id": "e36f1eb1",
   "metadata": {},
   "source": [
    "The animation is usually fairly long. We need to zoom in on the part of the animation that the agent sends the ball to the back of the wall. "
   ]
  },
  {
   "cell_type": "markdown",
   "id": "85d6f6e2",
   "metadata": {},
   "source": [
    "### 4.2. Zoom in on Certain Steps\n",
    "Next, we'll zoom in on the steps of the game when the agent sends the ball to the back of the wall. \n",
    "For example, I have recorded an episode named frames84.p. So I extract the interesting parts of the video as follows."
   ]
  },
  {
   "cell_type": "code",
   "execution_count": 2,
   "id": "fec0f970",
   "metadata": {},
   "outputs": [],
   "source": [
    "import numpy as np\n",
    "import pickle\n",
    "import imageio\n",
    "\n",
    "frames = pickle.load(open('files/ch17/frames84.p', 'rb'))\n",
    "imageio.mimsave(\"files/ch17/episode84.gif\", frames[800:-10], fps=240)\n"
   ]
  },
  {
   "cell_type": "markdown",
   "id": "48c69a94",
   "metadata": {},
   "source": [
    "The resulting animation episode84.gif looks as follows:"
   ]
  },
  {
   "cell_type": "code",
   "execution_count": 3,
   "id": "c7c1718a",
   "metadata": {},
   "outputs": [
    {
     "data": {
      "text/html": [
       "<img src=\"https://gattonweb.uky.edu/faculty/lium/ml/episode84.gif\" />\n"
      ],
      "text/plain": [
       "<IPython.core.display.HTML object>"
      ]
     },
     "metadata": {},
     "output_type": "display_data"
    }
   ],
   "source": [
    "%%HTML \n",
    "<img src=\"https://gattonweb.uky.edu/faculty/lium/ml/episode84.gif\" />"
   ]
  },
  {
   "cell_type": "markdown",
   "id": "d8f0a6a9",
   "metadata": {},
   "source": [
    "I have recorded another episode named frames606.p. So I extract the interesting parts of the video as follows."
   ]
  },
  {
   "cell_type": "code",
   "execution_count": 4,
   "id": "b62badf5",
   "metadata": {},
   "outputs": [],
   "source": [
    "frames = pickle.load(open('files/ch17/frames606.p', 'rb'))\n",
    "imageio.mimsave(\"files/ch17/episode606.gif\", frames[600:], fps=240)"
   ]
  },
  {
   "cell_type": "markdown",
   "id": "dfdaf7da",
   "metadata": {},
   "source": [
    "The resulting animation episode606.gif looks as follows:"
   ]
  },
  {
   "cell_type": "code",
   "execution_count": 5,
   "id": "b712cee7",
   "metadata": {},
   "outputs": [
    {
     "data": {
      "text/html": [
       "<img src=\"https://gattonweb.uky.edu/faculty/lium/ml/episode606.gif\" />\n"
      ],
      "text/plain": [
       "<IPython.core.display.HTML object>"
      ]
     },
     "metadata": {},
     "output_type": "display_data"
    }
   ],
   "source": [
    "%%HTML \n",
    "<img src=\"https://gattonweb.uky.edu/faculty/lium/ml/episode606.gif\" />"
   ]
  },
  {
   "cell_type": "markdown",
   "id": "2023e7e1",
   "metadata": {},
   "source": [
    "### 4.3. Combine the Animations\n",
    "We'll combine the two animations into one."
   ]
  },
  {
   "cell_type": "code",
   "execution_count": 8,
   "id": "8821b368",
   "metadata": {},
   "outputs": [
    {
     "name": "stdout",
     "output_type": "stream",
     "text": [
      "484\n",
      "378\n"
     ]
    }
   ],
   "source": [
    "frames1 = pickle.load(open('files/ch17/frames84.p', 'rb'))\n",
    "frames1=frames1[800:-10]\n",
    "frames1=frames1+frames1\n",
    "print(len(frames1))\n",
    "\n",
    "\n",
    "frames2 = pickle.load(open('files/ch17/frames606.p', 'rb'))\n",
    "frames2=frames2[600:]\n",
    "print(len(frames2))\n",
    "\n",
    "fs = []\n",
    "for i in range(len(frames2)):\n",
    "    f = frames2[i]\n",
    "    rf = frames1[i]\n",
    "    middle = np.full(f.shape, 255).astype(\"uint8\")\n",
    "    frf = np.concatenate([f, middle, rf], axis=1)\n",
    "    fs.append(frf)\n",
    "imageio.mimsave('files/ch17/breakout_tunnel.gif', fs, fps=240) "
   ]
  },
  {
   "cell_type": "markdown",
   "id": "f7c728bb",
   "metadata": {},
   "source": [
    "The animation looks as follows:"
   ]
  },
  {
   "cell_type": "code",
   "execution_count": 9,
   "id": "731b2efd",
   "metadata": {},
   "outputs": [
    {
     "data": {
      "text/html": [
       "<img src=\"https://gattonweb.uky.edu/faculty/lium/ml/breakout_tunnel.gif\" />\n"
      ],
      "text/plain": [
       "<IPython.core.display.HTML object>"
      ]
     },
     "metadata": {},
     "output_type": "display_data"
    }
   ],
   "source": [
    "%%HTML\n",
    "<img src=\"https://gattonweb.uky.edu/faculty/lium/ml/breakout_tunnel.gif\" />"
   ]
  },
  {
   "cell_type": "markdown",
   "id": "e802cfdb",
   "metadata": {},
   "source": [
    "It's clear that the agent has learned to send the ball to the back of the wall to score more efficiently. This is because doing so earns higher rewards. The training has adjusted the parameters based on the rewards, and that is the essence of policy gradients. "
   ]
  }
 ],
 "metadata": {
  "kernelspec": {
   "display_name": "Python 3 (ipykernel)",
   "language": "python",
   "name": "python3"
  },
  "language_info": {
   "codemirror_mode": {
    "name": "ipython",
    "version": 3
   },
   "file_extension": ".py",
   "mimetype": "text/x-python",
   "name": "python",
   "nbconvert_exporter": "python",
   "pygments_lexer": "ipython3",
   "version": "3.9.12"
  }
 },
 "nbformat": 4,
 "nbformat_minor": 5
}
