{
 "cells": [
  {
   "cell_type": "markdown",
   "id": "653089c9",
   "metadata": {},
   "source": [
    "# Chapter 20: Scale Up Double Deep Q Learning\n",
    "\n",
    "You'll learn to scale up the double deep Q network to play any Atari game. To make this point clear, you'll define a function that trains any Atari games with the same deep Q network. All you need is to put in the name of the game as the only argument in the function. \n",
    "\n",
    "Once the function is defined, you'll test it on two Atari games: Seaquest and Beam Rider. You'll see that the defined function can train the two games successfully by just taking one piece of information: the name of the game. \n",
    "\n",
    "Even though the agent does not know the rules of the Seaquest or Beam Rider game, it manages to have perfect scores, just by learning from repeated interactions with the game environment and the rewards it receives as a result.  \n",
    "\n",
    "This shows that machine learning models are highly scalable. This can potentially have large implications for artificial intelligence (AI): it means we can turn narrow AI into general AI by scaling up the model and by applying it to different situations.  \n",
    "\n",
    "At the end of the chapter, you'll capture an episode of the Seaquest game and an episode of the Beam Rider game. You'll put them side by side in an animation so that you can see the trained model in action, like so: \n",
    "<img src=\"https://gattonweb.uky.edu/faculty/lium/ml/Seaquest_BeamRider.gif\" />"
   ]
  },
  {
   "cell_type": "markdown",
   "id": "e3b25bf6",
   "metadata": {},
   "source": [
    "***\n",
    "$\\mathbf{\\text{Create a subfolder for files in Chapter 20}}$<br>\n",
    "***\n",
    "We'll put all files in Chapter 20 in a subfolder /files/ch20. The code in the cell below will create the subfolder.\n",
    "\n",
    "***"
   ]
  },
  {
   "cell_type": "code",
   "execution_count": 1,
   "id": "117477d3",
   "metadata": {},
   "outputs": [],
   "source": [
    "import os\n",
    "\n",
    "os.makedirs(\"files/ch20\", exist_ok=True)"
   ]
  },
  {
   "cell_type": "markdown",
   "id": "2f7dbb5c",
   "metadata": {},
   "source": [
    "## 1. Get Started with the Seaquest Game\n",
    "\n",
    "In this section, you'll learn how to play the Seaquest game, both with and without the help from the baselines package."
   ]
  },
  {
   "cell_type": "markdown",
   "id": "a0b7aaab",
   "metadata": {},
   "source": [
    "### 1.1. The Seaquest Game in OpenAI Gym\n",
    "\n",
    "You'll first learn to play the Seaquest game in OpenAI Gym.\n",
    "\n",
    "These lines of code will get you started."
   ]
  },
  {
   "cell_type": "code",
   "execution_count": 33,
   "id": "3667df7d",
   "metadata": {},
   "outputs": [
    {
     "data": {
      "text/plain": [
       "True"
      ]
     },
     "execution_count": 33,
     "metadata": {},
     "output_type": "execute_result"
    }
   ],
   "source": [
    "import gym\n",
    "env = gym.make(\"Seaquest-v0\")\n",
    "env.reset()\n",
    "env.render()"
   ]
  },
  {
   "cell_type": "markdown",
   "id": "0e26b04e",
   "metadata": {},
   "source": [
    "You should see a Seaquest game frame in a separate window. \n",
    "\n",
    "You can check the action space and observation space of the game as follows:"
   ]
  },
  {
   "cell_type": "code",
   "execution_count": 34,
   "id": "48ee5e38",
   "metadata": {},
   "outputs": [
    {
     "name": "stdout",
     "output_type": "stream",
     "text": [
      "The action space for the Seaquest game is Discrete(18)\n",
      "The meanings of the actions for the Seaquest game are\n",
      " ['NOOP', 'FIRE', 'UP', 'RIGHT', 'LEFT', 'DOWN', 'UPRIGHT', 'UPLEFT', 'DOWNRIGHT', 'DOWNLEFT', 'UPFIRE', 'RIGHTFIRE', 'LEFTFIRE', 'DOWNFIRE', 'UPRIGHTFIRE', 'UPLEFTFIRE', 'DOWNRIGHTFIRE', 'DOWNLEFTFIRE']\n",
      "The observation space for the Seaquest game is Box(210, 160, 3)\n"
     ]
    }
   ],
   "source": [
    "# Print out all possible actions in this game\n",
    "actions = env.action_space\n",
    "print(f\"The action space for the Seaquest game is {actions}\")\n",
    "meanings = env.env.get_action_meanings()\n",
    "print(f\"The meanings of the actions for the Seaquest game are\\n {meanings}\")\n",
    "\n",
    "# Print out the observation space in this game\n",
    "obs_space = env.observation_space\n",
    "print(f\"The observation space for the Seaquest game is {obs_space}\")"
   ]
  },
  {
   "cell_type": "markdown",
   "id": "86a68bf5",
   "metadata": {},
   "source": [
    "There are 18 possible actions the agent can take. However, the agent doesn't even need to understand the game to learn to play it. All we need is the right reward system. So I won't disucss the meanings of all the possible actions. \n",
    "\n",
    "Each observation is a color picture that is 210 pixels tall and 160 pixels wide. The same as any other Atari game. The following cell displays an observation."
   ]
  },
  {
   "cell_type": "code",
   "execution_count": 35,
   "id": "1401e695",
   "metadata": {},
   "outputs": [
    {
     "data": {
      "image/png": "[encoded data removed]",
      "text/plain": [
       "<Figure size 432x288 with 1 Axes>"
      ]
     },
     "metadata": {
      "needs_background": "light"
     },
     "output_type": "display_data"
    }
   ],
   "source": [
    "import matplotlib.pyplot as plt\n",
    "import numpy as np\n",
    "\n",
    "num_actions = env.action_space.n\n",
    "\n",
    "env.reset()\n",
    "for _ in range(20):\n",
    "    action = np.random.choice(num_actions)\n",
    "    obs, reward, done, info = env.step(action)\n",
    "plt.imshow(obs)\n",
    "plt.show()\n",
    "env.close()"
   ]
  },
  {
   "cell_type": "markdown",
   "id": "3196b34e",
   "metadata": {},
   "source": [
    "Next, you'll print out the outputs of the game to understand the reward system."
   ]
  },
  {
   "cell_type": "code",
   "execution_count": 36,
   "id": "91bebcfe",
   "metadata": {},
   "outputs": [
    {
     "name": "stdout",
     "output_type": "stream",
     "text": [
      "[[0.0, False, {'ale.lives': 4}],\n",
      " [0.0, False, {'ale.lives': 4}],\n",
      " [0.0, False, {'ale.lives': 4}],\n",
      " [0.0, False, {'ale.lives': 4}],\n",
      " [0.0, False, {'ale.lives': 4}],\n",
      " [0.0, False, {'ale.lives': 4}],\n",
      " [0.0, False, {'ale.lives': 4}],\n",
      " [0.0, False, {'ale.lives': 4}],\n",
      " [0.0, False, {'ale.lives': 4}],\n",
      " [0.0, False, {'ale.lives': 3}]]\n"
     ]
    }
   ],
   "source": [
    "import gym\n",
    "from pprint import pprint\n",
    "env = gym.make(\"Seaquest-v0\")\n",
    "env.reset()\n",
    "env.render()\n",
    "\n",
    "history = []\n",
    "while True:\n",
    "    action = np.random.choice(num_actions)\n",
    "    obs, reward, done, info = env.step(action)\n",
    "    env.render()\n",
    "    history.append([reward, done, info])\n",
    "    if len(history)>1:\n",
    "        if info[\"ale.lives\"]<history[-2][2][\"ale.lives\"]:\n",
    "            pprint(history[-10:])\n",
    "            break\n",
    "env.close()        "
   ]
  },
  {
   "cell_type": "markdown",
   "id": "169018a0",
   "metadata": {},
   "source": [
    "The agent has four lives in this game. When one life is lost, the reward is still 0, not -1 as in the Pong game. Further, the variable *done* is still False after a life is lost. The variable *done* turns True only after all lives are lost.\n",
    "\n",
    "Therefore, we need the help of the baselines package to break an episode into smaller episodes. "
   ]
  },
  {
   "cell_type": "markdown",
   "id": "894f24ec",
   "metadata": {},
   "source": [
    "### 1.2. The Seaquest Game with OpenAI Baselines\n",
    "\n",
    "With the baselines game wrapper, the agent has one life in each episode. That is, each time the agent loses a life, the episode ends and the variable *done* turns True. This makes reconfiguring the reward system much easier. Each time the game ends (i.e., done==True), we set the Q-value to -1. This is crucial for the success of the training. \n",
    "\n",
    "Let's make sure that's indeed the case. Run the code in the cell below."
   ]
  },
  {
   "cell_type": "code",
   "execution_count": 37,
   "id": "adfa3a2c",
   "metadata": {},
   "outputs": [
    {
     "name": "stdout",
     "output_type": "stream",
     "text": [
      "[[11, 0.0, False, {'ale.lives': 4}],\n",
      " [15, 0.0, False, {'ale.lives': 4}],\n",
      " [17, 0.0, False, {'ale.lives': 4}],\n",
      " [9, 0.0, False, {'ale.lives': 4}],\n",
      " [15, 0.0, False, {'ale.lives': 4}],\n",
      " [16, 0.0, False, {'ale.lives': 4}],\n",
      " [9, 0.0, False, {'ale.lives': 4}],\n",
      " [7, 0.0, False, {'ale.lives': 4}],\n",
      " [12, 0.0, False, {'ale.lives': 4}],\n",
      " [4, 0.0, True, {'ale.lives': 3}]]\n"
     ]
    }
   ],
   "source": [
    "from baselines.common.atari_wrappers import make_atari, wrap_deepmind\n",
    "\n",
    "# Use the Baseline Atari environment\n",
    "env = make_atari(\"SeaquestNoFrameskip-v4\")\n",
    "# Process and stack the frames\n",
    "env = wrap_deepmind(env, frame_stack=True, scale=True)\n",
    "\n",
    "obs = env.reset()\n",
    "history = []\n",
    "while True:\n",
    "    # randomly pick actions\n",
    "    action = env.action_space.sample()\n",
    "    obs, reward, done, info = env.step(action)\n",
    "    history.append([action, reward, done, info])\n",
    "    # Render the env\n",
    "    env.render()\n",
    "    if done:\n",
    "        pprint(history[-10:])\n",
    "        break\n",
    "env.close()        "
   ]
  },
  {
   "cell_type": "markdown",
   "id": "49c9c7ab",
   "metadata": {},
   "source": [
    "As you can see, when the number of lives changes from 3 to 2, the variable done becomes True and the episode ends. Note that the reward is 4, not -1, when a life is lost. But we can code it as -1 by using this line of code; you'll see it in the script for training later:\n",
    "\n",
    "```python\n",
    "    # Each time the agent loses a life, set Q to -1; important\n",
    "    new_Qs = Qs * (1 - dones) - dones\n",
    "```"
   ]
  },
  {
   "cell_type": "markdown",
   "id": "20db9147",
   "metadata": {},
   "source": [
    "### 1.3. Preprocessed Frames from OpenAI Baselines\n",
    "\n",
    "The baselines game wrapper preprocesses the game images for you. In every time step, it returns four consecutive frames of preprocessed images, each with a size of 84 by 84.  \n",
    "\n",
    "Let's visualize the preprocessed images from the baseline package. Run the code in the cell below."
   ]
  },
  {
   "cell_type": "code",
   "execution_count": 38,
   "id": "02285e44",
   "metadata": {},
   "outputs": [
    {
     "data": {
      "image/png": "[encoded data removed]",
      "text/plain": [
       "<Figure size 432x288 with 1 Axes>"
      ]
     },
     "metadata": {
      "needs_background": "light"
     },
     "output_type": "display_data"
    },
    {
     "data": {
      "image/png": "[encoded data removed]",
      "text/plain": [
       "<Figure size 432x288 with 1 Axes>"
      ]
     },
     "metadata": {
      "needs_background": "light"
     },
     "output_type": "display_data"
    },
    {
     "data": {
      "image/png": "[encoded data removed]",
      "text/plain": [
       "<Figure size 432x288 with 1 Axes>"
      ]
     },
     "metadata": {
      "needs_background": "light"
     },
     "output_type": "display_data"
    },
    {
     "data": {
      "image/png": "[encoded data removed]",
      "text/plain": [
       "<Figure size 432x288 with 1 Axes>"
      ]
     },
     "metadata": {
      "needs_background": "light"
     },
     "output_type": "display_data"
    }
   ],
   "source": [
    "import matplotlib.pyplot as plt\n",
    "import numpy as np\n",
    "\n",
    "npobs=np.array(obs)\n",
    "for i in range(4):\n",
    "    plt.imshow(npobs[:,:,i])\n",
    "    plt.show()"
   ]
  },
  {
   "cell_type": "markdown",
   "id": "2a761dba",
   "metadata": {},
   "source": [
    "You can see that the four pictures are different from each other. The agent can detect movements from these frames during the training process."
   ]
  },
  {
   "cell_type": "markdown",
   "id": "3608b0ab",
   "metadata": {},
   "source": [
    "## 2. Get Started with the Beam Rider Game\n",
    "\n",
    "In this section, you'll learn how to play another Atari game, the Beam Rider game, both with and without the help from the baselines package."
   ]
  },
  {
   "cell_type": "markdown",
   "id": "89f811cd",
   "metadata": {},
   "source": [
    "### 2.1. The Beam Rider Game in OpenAI Gym\n",
    "\n",
    "You'll first learn to play the Beam Rider game in OpenAI Gym.\n",
    "\n",
    "The cell below will get you started."
   ]
  },
  {
   "cell_type": "code",
   "execution_count": 1,
   "id": "2eaf5ed0",
   "metadata": {},
   "outputs": [
    {
     "data": {
      "text/plain": [
       "True"
      ]
     },
     "execution_count": 1,
     "metadata": {},
     "output_type": "execute_result"
    }
   ],
   "source": [
    "import gym\n",
    "env = gym.make(\"BeamRider-v0\")\n",
    "env.reset()\n",
    "env.render()"
   ]
  },
  {
   "cell_type": "markdown",
   "id": "06c4df05",
   "metadata": {},
   "source": [
    "You should see a Beam Rider game frame in a separate window. \n",
    "\n",
    "You can check the action space and observation space of the game as follows:"
   ]
  },
  {
   "cell_type": "code",
   "execution_count": 2,
   "id": "3e8bdd6b",
   "metadata": {},
   "outputs": [
    {
     "name": "stdout",
     "output_type": "stream",
     "text": [
      "The action space for the Beam Rider game is Discrete(9)\n",
      "The meanings of the actions for the Beam Rider game are\n",
      " ['NOOP', 'FIRE', 'UP', 'RIGHT', 'LEFT', 'UPRIGHT', 'UPLEFT', 'RIGHTFIRE', 'LEFTFIRE']\n",
      "The observation space for the Beam Rider game is Box(210, 160, 3)\n"
     ]
    }
   ],
   "source": [
    "# Print out all possible actions in this game\n",
    "actions = env.action_space\n",
    "print(f\"The action space for the Beam Rider game is {actions}\")\n",
    "\n",
    "meanings = env.env.get_action_meanings()\n",
    "print(f\"The meanings of the actions for the Beam Rider game are\\n {meanings}\")\n",
    "\n",
    "# Print out the observation space in this game\n",
    "obs_space = env.observation_space\n",
    "print(f\"The observation space for the Beam Rider game is {obs_space}\")"
   ]
  },
  {
   "cell_type": "markdown",
   "id": "99a8bd0f",
   "metadata": {},
   "source": [
    "There are 9 possible actions the agent can take. However, the agent doesn't even need to understand the game to learn to play it. All we need is the right reward system. So I won't disucss all the possible actions. \n",
    "\n",
    "Each observation is a color picture of size 210 by 160 by 3. The same as any other Atari game. The following cell displays an observation."
   ]
  },
  {
   "cell_type": "code",
   "execution_count": 3,
   "id": "f9ea5edc",
   "metadata": {},
   "outputs": [
    {
     "data": {
      "image/png": "[encoded data removed]",
      "text/plain": [
       "<Figure size 432x288 with 1 Axes>"
      ]
     },
     "metadata": {
      "needs_background": "light"
     },
     "output_type": "display_data"
    }
   ],
   "source": [
    "import matplotlib.pyplot as plt\n",
    "import numpy as np\n",
    "\n",
    "num_actions = env.action_space.n\n",
    "\n",
    "env.reset()\n",
    "for _ in range(20):\n",
    "    action = np.random.choice(num_actions)\n",
    "    obs, reward, done, info = env.step(action)\n",
    "plt.imshow(obs)\n",
    "plt.show()\n",
    "env.close()"
   ]
  },
  {
   "cell_type": "markdown",
   "id": "2e3c797a",
   "metadata": {},
   "source": [
    "Next, you'll print out the outputs of the game to understand the reward system."
   ]
  },
  {
   "cell_type": "code",
   "execution_count": 5,
   "id": "b5540783",
   "metadata": {},
   "outputs": [
    {
     "name": "stdout",
     "output_type": "stream",
     "text": [
      "[[0.0, False, {'ale.lives': 3}],\n",
      " [0.0, False, {'ale.lives': 3}],\n",
      " [0.0, False, {'ale.lives': 3}],\n",
      " [0.0, False, {'ale.lives': 3}],\n",
      " [0.0, False, {'ale.lives': 3}],\n",
      " [0.0, False, {'ale.lives': 3}],\n",
      " [0.0, False, {'ale.lives': 3}],\n",
      " [0.0, False, {'ale.lives': 3}],\n",
      " [0.0, False, {'ale.lives': 3}],\n",
      " [0.0, False, {'ale.lives': 2}]]\n"
     ]
    }
   ],
   "source": [
    "import gym\n",
    "from pprint import pprint\n",
    "env = gym.make(\"BeamRider-v0\")\n",
    "env.reset()\n",
    "env.render()\n",
    "\n",
    "history = []\n",
    "while True:\n",
    "    action = np.random.choice(num_actions)\n",
    "    obs, reward, done, info = env.step(action)\n",
    "    env.render()\n",
    "    history.append([reward, done, info])\n",
    "    if len(history)>1:\n",
    "        if info[\"ale.lives\"]<history[-2][2][\"ale.lives\"]:\n",
    "            pprint(history[-10:])\n",
    "            break\n",
    "env.close()        "
   ]
  },
  {
   "cell_type": "markdown",
   "id": "60896a0f",
   "metadata": {},
   "source": [
    "The agent has three lives in this game. When one life is lost, the reward is still 0, not -1 as in the Pong game. Further, the variable *done* is still False after a life is lost. The variable *done* turns True only after all lives are lost.\n",
    "\n",
    "Therefore, we need the help of the baselines package to break an episode into smaller episodes. "
   ]
  },
  {
   "cell_type": "markdown",
   "id": "ead4e520",
   "metadata": {},
   "source": [
    "### 2.2. The Beam Rider Game with OpenAI Baselines\n",
    "\n",
    "With the baselines game wrapper, the agent has one life in each episode. That is, each time the agent loses a life, the episode ends and the variable *done* turns True. This makes reconfiguring the reward system much easier. Each time the game ends (i.e., done==True), we set the Q-value to -1. This is crucial for the success of the training. \n",
    "\n",
    "Let's make sure that's indeed the case. Run the code in the cell below."
   ]
  },
  {
   "cell_type": "code",
   "execution_count": 44,
   "id": "f9370fe6",
   "metadata": {},
   "outputs": [
    {
     "name": "stdout",
     "output_type": "stream",
     "text": [
      "[[1, 0.0, False, {'ale.lives': 3}],\n",
      " [7, 0.0, False, {'ale.lives': 3}],\n",
      " [7, 0.0, False, {'ale.lives': 3}],\n",
      " [7, 0.0, False, {'ale.lives': 3}],\n",
      " [0, 0.0, False, {'ale.lives': 3}],\n",
      " [8, 0.0, False, {'ale.lives': 3}],\n",
      " [5, 0.0, False, {'ale.lives': 3}],\n",
      " [5, 0.0, False, {'ale.lives': 3}],\n",
      " [8, 0.0, False, {'ale.lives': 3}],\n",
      " [7, 0.0, True, {'ale.lives': 2}]]\n"
     ]
    }
   ],
   "source": [
    "from baselines.common.atari_wrappers import make_atari, wrap_deepmind\n",
    "\n",
    "# Use the Baseline Atari environment\n",
    "env = make_atari(\"BeamRiderNoFrameskip-v4\")\n",
    "# Process and stack the frames\n",
    "env = wrap_deepmind(env, frame_stack=True, scale=True)\n",
    "\n",
    "obs = env.reset()\n",
    "history = []\n",
    "while True:\n",
    "    # randomly pick actions\n",
    "    action = env.action_space.sample()\n",
    "    obs, reward, done, info = env.step(action)\n",
    "    history.append([action, reward, done, info])\n",
    "    # Render the env\n",
    "    env.render()\n",
    "    if done:\n",
    "        pprint(history[-10:])\n",
    "        break\n",
    "env.close()        "
   ]
  },
  {
   "cell_type": "markdown",
   "id": "bcb36cda",
   "metadata": {},
   "source": [
    "As you can see, when the number of lives changes from 3 to 2, the variable done becomes True and the episode ends. Note that the reward is 7, not -1, but we can code it as -1 by using this line of code; you'll see it in the script for training later:\n",
    "\n",
    "```python\n",
    "    # Each time the agent loses a life, set Q to -1; important\n",
    "    new_Qs = Qs * (1 - dones) - dones\n",
    "```"
   ]
  },
  {
   "cell_type": "markdown",
   "id": "51b2dd98",
   "metadata": {},
   "source": [
    "### 2.3. Preprocessed Frames from OpenAI Baselines\n",
    "\n",
    "The baselines game wrapper preprocesses the game images for you. In every time step, it returns four consecutive frames of preprocessed images, each with a size of 84 by 84.  \n",
    "\n",
    "Let's visualize the preprocessed images from the baseline package. Run the code in the cell below."
   ]
  },
  {
   "cell_type": "code",
   "execution_count": 45,
   "id": "db9f0c8e",
   "metadata": {},
   "outputs": [
    {
     "data": {
      "image/png": "[encoded data removed]",
      "text/plain": [
       "<Figure size 432x288 with 1 Axes>"
      ]
     },
     "metadata": {
      "needs_background": "light"
     },
     "output_type": "display_data"
    },
    {
     "data": {
      "image/png": "[encoded data removed]",
      "text/plain": [
       "<Figure size 432x288 with 1 Axes>"
      ]
     },
     "metadata": {
      "needs_background": "light"
     },
     "output_type": "display_data"
    },
    {
     "data": {
      "image/png": "[encoded data removed]",
      "text/plain": [
       "<Figure size 432x288 with 1 Axes>"
      ]
     },
     "metadata": {
      "needs_background": "light"
     },
     "output_type": "display_data"
    },
    {
     "data": {
      "image/png": "[encoded data removed]",
      "text/plain": [
       "<Figure size 432x288 with 1 Axes>"
      ]
     },
     "metadata": {
      "needs_background": "light"
     },
     "output_type": "display_data"
    }
   ],
   "source": [
    "import matplotlib.pyplot as plt\n",
    "import numpy as np\n",
    "\n",
    "npobs=np.array(obs)\n",
    "for i in range(4):\n",
    "    plt.imshow(npobs[:,:,i])\n",
    "    plt.show()"
   ]
  },
  {
   "cell_type": "markdown",
   "id": "d81d3164",
   "metadata": {},
   "source": [
    "You can see the four consecutive frames. The four images look slighly different from each other."
   ]
  },
  {
   "cell_type": "markdown",
   "id": "7daa4284",
   "metadata": {},
   "source": [
    "## 3. Scale Up the Double Deep Q Network\n",
    "Next, we'll scale up the double deep Q network to train any Atari game. Specifically, we'll define a function to train all games, and the only argument needed is the name of the game. "
   ]
  },
  {
   "cell_type": "markdown",
   "id": "331792c8",
   "metadata": {},
   "source": [
    "### 3.1. Differences Among Atari Games\n",
    "\n",
    "What are the differences among Atari games? \n",
    "\n",
    "#### Game environment\n",
    "\n",
    "Obviously, the names of the games are different. But there is a pattern. For the four games Breakout, Space Invaders, Seaquest, and Beam Rider, their environment names are:\n",
    "* BreakoutNoFrameskip-v4\n",
    "* SpaceInvadersNoFrameskip-v4\n",
    "* SeaquestNoFrameskip-v4\n",
    "* BeamRiderNoFrameskip-v4\n",
    "respectively. Therefore we can use \n",
    "\n",
    "```python\n",
    "f\"{name}NoFrameskip-v4\"\n",
    "```\n",
    "\n",
    "to scale up the game environment. \n",
    "\n",
    "#### The number of actions\n",
    "\n",
    "The number of actions are different in different games. For the four games Breakout, Space Invaders, Seaquest, and Beam Rider, the numbers of actions are 4, 6, 18, and 9, respectively. However, we can use the code:\n",
    "\n",
    "```python\n",
    "num_actions = env.action_space.n\n",
    "```\n",
    "\n",
    "to retrieve the number of actions for each game.  \n",
    "\n",
    "We can leave everyting else in the training program the same."
   ]
  },
  {
   "cell_type": "markdown",
   "id": "1e05834f",
   "metadata": {},
   "source": [
    "### 3.2. Define A Function to Train All Atari Games\n",
    "\n",
    "Next, we define a function to train all Atari games. "
   ]
  },
  {
   "cell_type": "code",
   "execution_count": 46,
   "id": "ba2d3545",
   "metadata": {},
   "outputs": [],
   "source": [
    "# Define the train_atari() function\n",
    "def train_atari(name):\n",
    "    import random\n",
    "    from collections import deque\n",
    "    import numpy as np\n",
    "    import tensorflow as tf\n",
    "    from tensorflow.keras import layers\n",
    "    from baselines.common.atari_wrappers import make_atari\n",
    "    from baselines.common.atari_wrappers import wrap_deepmind\n",
    "\n",
    "    # Use the Baseline Atari environment\n",
    "    env = make_atari(f\"{name}NoFrameskip-v4\")\n",
    "    # Process and stack the frames\n",
    "    env = wrap_deepmind(env, frame_stack=True, scale=True)\n",
    "\n",
    "    # Discount factor for past rewards\n",
    "    gamma = 0.99 \n",
    "    # batch size\n",
    "    batch_size = 32  \n",
    "\n",
    "    # The number of actions \n",
    "    num_actions = env.action_space.n\n",
    "\n",
    "    # The same double Q deep neural network, applies to all Atari games\n",
    "    def create_model():\n",
    "        # Network defined by the Deepmind paper\n",
    "        inputs = layers.Input(shape=(84, 84, 4,))\n",
    "        # Convolutions on the frames on the screen\n",
    "        layer1 = layers.Conv2D(32, 8, strides=4, activation=\"relu\")(inputs)\n",
    "        layer2 = layers.Conv2D(64, 4, strides=2, activation=\"relu\")(layer1)\n",
    "        layer3 = layers.Conv2D(64, 3, strides=1, activation=\"relu\")(layer2)\n",
    "        layer4 = layers.Flatten()(layer3)\n",
    "        layer5 = layers.Dense(512, activation=\"relu\")(layer4)\n",
    "        action = layers.Dense(num_actions, activation=\"linear\")(layer5)\n",
    "        return tf.keras.Model(inputs=inputs, outputs=action)\n",
    "\n",
    "    # Double Deep Q Learning here\n",
    "    # The model predicts Q-values, to determine action \n",
    "    dnn = create_model()\n",
    "    # Target model predicts future rewards\n",
    "    # The weights of a target model are updated every 10000 frames thus when the\n",
    "    # loss between the Q-values is calculated the target Q-value is stable.\n",
    "    target_dnn = create_model()\n",
    "\n",
    "    # Optimizer and loss function\n",
    "    optimizer = tf.keras.optimizers.Adam(learning_rate=0.00025, clipnorm=1.0)\n",
    "    loss_function = tf.keras.losses.Huber()\n",
    "\n",
    "    # See how many trainable parameters in the deep neural network\n",
    "    print(dnn.summary())\n",
    "\n",
    "    # Create a replay buffer with a maximum length of 50000\n",
    "    # If you don't have enough memory on your computer, change it to 20000\n",
    "    memory=deque(maxlen=50000)\n",
    "    # Create a running rewards list with a length of 100\n",
    "    running_rewards=deque(maxlen=100)\n",
    "\n",
    "    # Replay and update model parameters\n",
    "    def replay():\n",
    "        # select a batch from the buffer memory\n",
    "        samples = random.sample(memory,batch_size)\n",
    "        dones = []\n",
    "        frames = []\n",
    "        new_frames = []\n",
    "        rewards = []\n",
    "        actions = []\n",
    "        for sample in samples:\n",
    "            frame, new_frame, action, reward, done = sample\n",
    "            frames.append(frame)\n",
    "            new_frames.append(new_frame)\n",
    "            actions.append(action)\n",
    "            dones.append(done)\n",
    "            rewards.append(reward)\n",
    "        frames=np.array(frames)\n",
    "        new_frames=np.array(new_frames)\n",
    "        dones=tf.convert_to_tensor(dones)\n",
    "\n",
    "        # update the Q table\n",
    "        preds = target_dnn.predict(new_frames, verbose=0)\n",
    "        Qs = rewards + gamma * tf.reduce_max(preds, axis=1)\n",
    "        # Each time the agent loses a life, set Q to -1; important\n",
    "        new_Qs = Qs * (1 - dones) - dones\n",
    "\n",
    "        # update model parameters\n",
    "        onehot = tf.one_hot(actions, num_actions)\n",
    "        with tf.GradientTape() as t:\n",
    "            Q_preds = dnn(frames)\n",
    "            # Calculate old Qs for the action taken\n",
    "            old_Qs = tf.reduce_sum(tf.multiply(Q_preds, onehot),axis=1)\n",
    "            # Calculate loss between new Qs and old Qs\n",
    "            loss = loss_function(new_Qs, old_Qs)\n",
    "        # Update using backpropagation\n",
    "        gs = t.gradient(loss,dnn.trainable_variables)\n",
    "        optimizer.apply_gradients(zip(gs,dnn.trainable_variables))\n",
    "\n",
    "    # Let the game begin\n",
    "    running_reward = 0\n",
    "    frame_count = 0\n",
    "    # Number of frames to take random action and observe output\n",
    "    epsilon_random_frames = 50000\n",
    "\n",
    "    # Train the model after 4 actions\n",
    "    update_after_actions = 4\n",
    "    # How often to update the target network\n",
    "    update_target_network = 10000\n",
    "\n",
    "    for episode in range(1, 100000): \n",
    "        # reset state and episode reward before each episode\n",
    "        state = np.array(env.reset())\n",
    "        episode_reward = 0\n",
    "\n",
    "        # Allow 10,000 steps per episode\n",
    "        for timestep in range(1, 10001):\n",
    "            frame_count += 1\n",
    "            # Calculate current epsilon based on frame count\n",
    "            epsilon = max(0.1, 1 - frame_count * (1-0.1) /1000000)\n",
    "            # Use epsilon-greedy for exploration\n",
    "            if frame_count < epsilon_random_frames or epsilon > np.random.rand(1)[0]:\n",
    "                # Take random action\n",
    "                action = np.random.choice(num_actions)\n",
    "            # Use exploitation\n",
    "            else:\n",
    "                # Predict action Q-values\n",
    "                # From environment state\n",
    "                state_tensor = tf.convert_to_tensor(state)\n",
    "                state_tensor = tf.expand_dims(state_tensor, 0)\n",
    "                action_probs = dnn(state_tensor, training=False)\n",
    "                # Take best action\n",
    "                action = tf.argmax(action_probs[0]).numpy()\n",
    "\n",
    "            # Apply the sampled action in our environment\n",
    "            state_next, reward, done, _ = env.step(action)\n",
    "            state_next = np.array(state_next)\n",
    "            episode_reward += reward\n",
    "            # Change done from True/False to 1.0 or 0.0 to prevent error\n",
    "            if done==True:\n",
    "                done=1.0\n",
    "            else:\n",
    "                done=0.0\n",
    "            # Save actions and states in replay buffer\n",
    "            memory.append([state, state_next, action, reward, done])\n",
    "            # current state becomes the next state in next round\n",
    "            state = state_next\n",
    "\n",
    "            # Update every fourth frame and once batch size is over 32\n",
    "            if frame_count % update_after_actions == 0 and \\\n",
    "                len(memory) > batch_size:\n",
    "                replay()\n",
    "\n",
    "            if frame_count % update_target_network == 0:\n",
    "                # update the the target network with new weights\n",
    "                target_dnn.set_weights(dnn.get_weights())\n",
    "                running_reward = np.mean(np.array(running_rewards))\n",
    "                # Log details\n",
    "                template=\"running reward: {:.2f} episode {}, frame count {}\"\n",
    "                print(template.format(running_reward, episode, frame_count))\n",
    "                # Periodically save the model\n",
    "                dnn.save(f\"files/ch20/DoubleQ_{name}.h5\")\n",
    "            if done==1.0:\n",
    "                running_rewards.append(episode_reward)\n",
    "                break\n",
    "        # Condition to consider the task solved\n",
    "        if running_reward > 20:  \n",
    "            print(f\"Solved at episode {episode}!\")\n",
    "            # save the final model\n",
    "            dnn.save(\"files/ch20/DoubleQ_{name}_final.h5\")        \n",
    "            break"
   ]
  },
  {
   "cell_type": "markdown",
   "id": "d1d2bf6b",
   "metadata": {},
   "source": [
    "We are now ready to use this function to train any Atari game. "
   ]
  },
  {
   "cell_type": "markdown",
   "id": "2558834a",
   "metadata": {},
   "source": [
    "## 4. Try It on Seaquest\n",
    "Next, you'll apply the scaled up double deep Q network on the Seaquest game. You'll use the function *train_atari()* we defined in the last section to train the agent. After that, you'll test how effective the pre-trained model is. "
   ]
  },
  {
   "cell_type": "markdown",
   "id": "343be396",
   "metadata": {},
   "source": [
    "### 4.1. Train the Model\n",
    "The following line of code will train the agent in the Seaquest game."
   ]
  },
  {
   "cell_type": "code",
   "execution_count": null,
   "id": "82cb90d1",
   "metadata": {},
   "outputs": [],
   "source": [
    "train_atari(\"Seaquest\")"
   ]
  },
  {
   "cell_type": "markdown",
   "id": "c854b27e",
   "metadata": {},
   "source": [
    "The training takes a couple of days. But you can use a pre-trained model that I put on GitHub, saved as files/ch20/Seaquest.h5."
   ]
  },
  {
   "cell_type": "markdown",
   "id": "f042ac6e",
   "metadata": {},
   "source": [
    "### 4.2. Test One Original Episode\n",
    "The original Atari Seaquest game has 4 lives in each episode. But the baseline package breaks it down to 4 smaller episodes. \n",
    "\n",
    "Here you'll play the game four consecutive episodes with the baseline package so that you'll have one full original episode. \n",
    "\n",
    "You'll turn on the graphical rendering of the game frames so that you can visualize the game in action."
   ]
  },
  {
   "cell_type": "code",
   "execution_count": 7,
   "id": "619c3cbb",
   "metadata": {},
   "outputs": [
    {
     "name": "stdout",
     "output_type": "stream",
     "text": [
      "WARNING:tensorflow:No training configuration found in the save file, so the model was *not* compiled. Compile it manually.\n",
      "the score is 30.0\n",
      "the score is 30.0\n",
      "the score is 25.0\n",
      "the score is 29.0\n"
     ]
    }
   ],
   "source": [
    "import numpy as np\n",
    "from baselines.common.atari_wrappers import make_atari, wrap_deepmind\n",
    "import tensorflow as tf\n",
    "\n",
    "reload = tf.keras.models.load_model(\"files/ch20/Seaquest.h5\")\n",
    "\n",
    "# Use the Baseline Atari environment\n",
    "env = make_atari(\"SeaquestNoFrameskip-v4\")\n",
    "# Process and stack the frames\n",
    "env = wrap_deepmind(env, frame_stack=True, scale=True)\n",
    "num_actions = env.action_space.n\n",
    "\n",
    "for i in range(4):\n",
    "    score = 0\n",
    "    state = env.reset()\n",
    "    for j in range(10000):\n",
    "        if np.random.rand(1)[0]<0.01:\n",
    "            action = np.random.choice(num_actions)\n",
    "        else:\n",
    "            state_tensor = tf.convert_to_tensor(state)\n",
    "            state_tensor = tf.expand_dims(state_tensor, 0)\n",
    "            action_probs = reload(state_tensor, training=False)\n",
    "            # Take the best action\n",
    "            action = tf.argmax(action_probs[0]).numpy()    \n",
    "        obs, reward, done, info = env.step(action)\n",
    "        score += reward\n",
    "        env.render()\n",
    "        state=obs\n",
    "        if done:\n",
    "            print(\"the score is\", score)\n",
    "            break\n",
    "\n",
    "env.close()"
   ]
  },
  {
   "cell_type": "markdown",
   "id": "70243134",
   "metadata": {},
   "source": [
    "As you can see, the trained model is able to have high scores. It earned between 25 and 30 points in each episode.  "
   ]
  },
  {
   "cell_type": "markdown",
   "id": "3058e09d",
   "metadata": {},
   "source": [
    "### 4.3. Play Multiple Games and Test the Average Score"
   ]
  },
  {
   "cell_type": "markdown",
   "id": "2514ab27",
   "metadata": {},
   "source": [
    "We now play 40 games and turn off the graphical rendering. We'll see what the average score is.  "
   ]
  },
  {
   "cell_type": "code",
   "execution_count": 50,
   "id": "245a2649",
   "metadata": {},
   "outputs": [
    {
     "name": "stdout",
     "output_type": "stream",
     "text": [
      "WARNING:tensorflow:No training configuration found in the save file, so the model was *not* compiled. Compile it manually.\n",
      "the score in episode 1 is 3.0\n",
      "the score in episode 2 is 29.0\n",
      "the score in episode 3 is 28.0\n",
      "the score in episode 4 is 30.0\n",
      "the score in episode 5 is 28.0\n",
      "the score in episode 6 is 28.0\n",
      "the score in episode 7 is 29.0\n",
      "the score in episode 8 is 26.0\n",
      "the score in episode 9 is 30.0\n",
      "the score in episode 10 is 30.0\n",
      "the score in episode 11 is 27.0\n",
      "the score in episode 12 is 30.0\n",
      "the score in episode 13 is 30.0\n",
      "the score in episode 14 is 28.0\n",
      "the score in episode 15 is 29.0\n",
      "the score in episode 16 is 28.0\n",
      "the score in episode 17 is 30.0\n",
      "the score in episode 18 is 27.0\n",
      "the score in episode 19 is 29.0\n",
      "the score in episode 20 is 27.0\n",
      "the score in episode 21 is 28.0\n",
      "the score in episode 22 is 22.0\n",
      "the score in episode 23 is 30.0\n",
      "the score in episode 24 is 26.0\n",
      "the score in episode 25 is 3.0\n",
      "the score in episode 26 is 28.0\n",
      "the score in episode 27 is 30.0\n",
      "the score in episode 28 is 30.0\n",
      "the score in episode 29 is 30.0\n",
      "the score in episode 30 is 26.0\n",
      "the score in episode 31 is 27.0\n",
      "the score in episode 32 is 26.0\n",
      "the score in episode 33 is 3.0\n",
      "the score in episode 34 is 30.0\n",
      "the score in episode 35 is 28.0\n",
      "the score in episode 36 is 27.0\n",
      "the score in episode 37 is 3.0\n",
      "the score in episode 38 is 28.0\n",
      "the score in episode 39 is 32.0\n",
      "the score in episode 40 is 30.0\n",
      "the average score is 25.825\n"
     ]
    }
   ],
   "source": [
    "import numpy as np\n",
    "from baselines.common.atari_wrappers import make_atari, wrap_deepmind\n",
    "import tensorflow as tf\n",
    "\n",
    "reload = tf.keras.models.load_model(\"files/ch20/Seaquest.h5\")\n",
    "\n",
    "# Use the Baseline Atari environment\n",
    "env = make_atari(\"SeaquestNoFrameskip-v4\")\n",
    "# Process and stack the frames\n",
    "env = wrap_deepmind(env, frame_stack=True, scale=True)\n",
    "scores = []\n",
    "num_actions = env.action_space.n\n",
    "for i in range(40):\n",
    "    state = env.reset()\n",
    "    score = 0\n",
    "    for j in range(10000):\n",
    "        if np.random.rand(1)[0]<0.01:\n",
    "            action = np.random.choice(num_actions)\n",
    "        else:\n",
    "            state_tensor = tf.convert_to_tensor(state)\n",
    "            state_tensor = tf.expand_dims(state_tensor, 0)\n",
    "            action_probs = reload(state_tensor, training=False)\n",
    "            # Take the best action\n",
    "            action = tf.argmax(action_probs[0]).numpy()    \n",
    "        obs, reward, done, info = env.step(action)\n",
    "        #env.render()\n",
    "        state=obs\n",
    "        score += reward\n",
    "        if done:\n",
    "            print(f\"the score in episode {i+1} is {score}\")\n",
    "            scores.append(score)\n",
    "            break\n",
    "env.close()\n",
    "\n",
    "print(f\"the average score is {np.array(scores).mean()}\")"
   ]
  },
  {
   "cell_type": "markdown",
   "id": "3c4b7b39",
   "metadata": {},
   "source": [
    "The average score is about 25 per episode."
   ]
  },
  {
   "cell_type": "markdown",
   "id": "2afdb60c",
   "metadata": {},
   "source": [
    "### 4.4. Animate Successful Episodes\n",
    "We'll highlight episodes where the agent performs well."
   ]
  },
  {
   "cell_type": "markdown",
   "id": "5ec2649d",
   "metadata": {},
   "source": [
    "We'll first record 20 episodes, and this is equivalent to five full original Atari Seaquest games. \n",
    "\n",
    "The script below accomplishes that."
   ]
  },
  {
   "cell_type": "code",
   "execution_count": 52,
   "id": "c60f2169",
   "metadata": {},
   "outputs": [],
   "source": [
    "import imageio\n",
    "\n",
    "frames = []\n",
    "num_actions = env.action_space.n\n",
    "for i in range(20):\n",
    "    state = env.reset()\n",
    "    episode_frames = []\n",
    "    for j in range(10000):\n",
    "        if np.random.rand(1)[0]<0.01:\n",
    "            action = np.random.choice(num_actions)\n",
    "        else:\n",
    "            state_tensor = tf.convert_to_tensor(state)\n",
    "            state_tensor = tf.expand_dims(state_tensor, 0)\n",
    "            action_probs = reload(state_tensor, training=False)\n",
    "            # Take the best action\n",
    "            action = tf.argmax(action_probs[0]).numpy()    \n",
    "        obs, reward, done, info = env.step(action)\n",
    "        #env.render()\n",
    "        state=obs\n",
    "        episode_frames.append(env.render(mode='rgb_array'))\n",
    "        if done:\n",
    "            frames.append(episode_frames)\n",
    "            imageio.mimsave(f\"files/ch20/Seaquest_episode{i+1}.gif\",\\\n",
    "                            episode_frames, fps=240)\n",
    "            break\n",
    "env.close()\n",
    "\n",
    "import pickle \n",
    "pickle.dump(frames, open(f'files/ch20/Seaquest_frames.p', 'wb'))"
   ]
  },
  {
   "cell_type": "markdown",
   "id": "4cd1fd1b",
   "metadata": {},
   "source": [
    "You'll see 20 short animations in your local folder. If you view them as extra large icons, you'll see the starting score in each episode from the thumbnail picture of the animation. You can calculate the points earned in most episodes by looking at the starting scores of this episode and the next episode. "
   ]
  },
  {
   "cell_type": "markdown",
   "id": "85d6f6e2",
   "metadata": {},
   "source": [
    "Next, we'll select successful episodes. In my case, the starting score of episode 2 is 600, and the starting score of episode 3 is 1200. Therefore, I can tell that the agent has earned 600 points in episode 2. \n",
    "\n",
    "Therefore, I will zoom in episode 2 (the episode for you will likely be different)."
   ]
  },
  {
   "cell_type": "markdown",
   "id": "7451ef96",
   "metadata": {},
   "source": [
    "***\n",
    "$\\mathbf{\\text{How to select successful episodes}}$<br>\n",
    "***\n",
    "First, make sure you view the animations as extra large icons in the local folder on your computer. You'll see the starting score in each episode from the thumbnail picture of the animation. You can calculate the points earned in most episodes by looking at the starting scores of this episode and the next episode. If the next episode has a much higher score than the current episode, the agent has earned high scores in the current episode.\n",
    "\n",
    "***"
   ]
  },
  {
   "cell_type": "markdown",
   "id": "4d2b5e83",
   "metadata": {},
   "source": [
    "In the animation below, you can see episode 2 in action."
   ]
  },
  {
   "cell_type": "code",
   "execution_count": 53,
   "id": "38512731",
   "metadata": {},
   "outputs": [
    {
     "data": {
      "text/html": [
       "<img src=\"https://gattonweb.uky.edu/faculty/lium/ml/Seaquest_episode2.gif\" />\n"
      ],
      "text/plain": [
       "<IPython.core.display.HTML object>"
      ]
     },
     "metadata": {},
     "output_type": "display_data"
    }
   ],
   "source": [
    "%%HTML\n",
    "<img src=\"https://gattonweb.uky.edu/faculty/lium/ml/Seaquest_episode2.gif\" />"
   ]
  },
  {
   "cell_type": "markdown",
   "id": "e948c524",
   "metadata": {},
   "source": [
    "## 5. Try It on Beam Rider\n",
    "Next, you'll apply the scaled up double deep Q network on the Beam Rider game. You'll use the function *train_atari()* we defined earlier to train the agent. After that, you'll test how effective the pre-trained model is. "
   ]
  },
  {
   "cell_type": "markdown",
   "id": "de826de5",
   "metadata": {},
   "source": [
    "### 5.1. Train the Model\n",
    "The following line of code will train the agent in the Beam Rider game."
   ]
  },
  {
   "cell_type": "code",
   "execution_count": null,
   "id": "5af420a2",
   "metadata": {},
   "outputs": [],
   "source": [
    "train_atari(\"BeamRider\")"
   ]
  },
  {
   "cell_type": "markdown",
   "id": "44d0a61a",
   "metadata": {},
   "source": [
    "The training takes a couple of days. But you can use a pre-trained model that I put on GitHub, saved as files/ch20/BeamRider.h5."
   ]
  },
  {
   "cell_type": "markdown",
   "id": "4884e9e4",
   "metadata": {},
   "source": [
    "### 5.2. Test One Original Episode\n",
    "The original Atari Beam Rider game has 3 lives in each episode. But the baseline package breaks it down to 3 smaller episodes. \n",
    "\n",
    "Here you'll play the game 3 consecutive episodes with the baseline package so that you'll have one full original episode. \n",
    "\n",
    "You'll turn on the graphical rendering of the game frames so that you can visualize the game in action."
   ]
  },
  {
   "cell_type": "code",
   "execution_count": 9,
   "id": "f9376630",
   "metadata": {},
   "outputs": [
    {
     "name": "stdout",
     "output_type": "stream",
     "text": [
      "WARNING:tensorflow:No training configuration found in the save file, so the model was *not* compiled. Compile it manually.\n",
      "the score is 66.0\n",
      "the score is 15.0\n",
      "the score is 8.0\n"
     ]
    }
   ],
   "source": [
    "import numpy as np\n",
    "from baselines.common.atari_wrappers import make_atari, wrap_deepmind\n",
    "import tensorflow as tf\n",
    "\n",
    "reload = tf.keras.models.load_model(\"files/ch20/BeamRider.h5\")\n",
    "\n",
    "# Use the Baseline Atari environment\n",
    "env = make_atari(\"BeamRiderNoFrameskip-v4\")\n",
    "# Process and stack the frames\n",
    "env = wrap_deepmind(env, frame_stack=True, scale=True)\n",
    "num_actions = env.action_space.n\n",
    "\n",
    "for i in range(3):\n",
    "    state = env.reset()\n",
    "    score = 0\n",
    "    for j in range(10000):\n",
    "        if np.random.rand(1)[0]<0.01:\n",
    "            action = np.random.choice(num_actions)\n",
    "        else:\n",
    "            state_tensor = tf.convert_to_tensor(state)\n",
    "            state_tensor = tf.expand_dims(state_tensor, 0)\n",
    "            action_probs = reload(state_tensor, training=False)\n",
    "            # Take the best action\n",
    "            action = tf.argmax(action_probs[0]).numpy()    \n",
    "        obs, reward, done, info = env.step(action)\n",
    "        score += reward\n",
    "        env.render()\n",
    "        state=obs\n",
    "        if done:\n",
    "            print(\"the score is\", score)\n",
    "            break\n",
    "\n",
    "env.close()"
   ]
  },
  {
   "cell_type": "markdown",
   "id": "73043128",
   "metadata": {},
   "source": [
    "The trained model is able to have a score as high as 66, based on results above.  "
   ]
  },
  {
   "cell_type": "markdown",
   "id": "45be5c50",
   "metadata": {},
   "source": [
    "### 5.3. Play Multiple Games and Test the Average Score"
   ]
  },
  {
   "cell_type": "markdown",
   "id": "025a1194",
   "metadata": {},
   "source": [
    "We now play 30 games and turn off the graphical rendering. We'll see what the average score is.  "
   ]
  },
  {
   "cell_type": "code",
   "execution_count": 55,
   "id": "018c3969",
   "metadata": {},
   "outputs": [
    {
     "name": "stdout",
     "output_type": "stream",
     "text": [
      "WARNING:tensorflow:No training configuration found in the save file, so the model was *not* compiled. Compile it manually.\n",
      "the score in episode 1 is 9.0\n",
      "the score in episode 2 is 45.0\n",
      "the score in episode 3 is 19.0\n",
      "the score in episode 4 is 62.0\n",
      "the score in episode 5 is 18.0\n",
      "the score in episode 6 is 6.0\n",
      "the score in episode 7 is 27.0\n",
      "the score in episode 8 is 1.0\n",
      "the score in episode 9 is 1.0\n",
      "the score in episode 10 is 30.0\n",
      "the score in episode 11 is 5.0\n",
      "the score in episode 12 is 22.0\n",
      "the score in episode 13 is 69.0\n",
      "the score in episode 14 is 27.0\n",
      "the score in episode 15 is 2.0\n",
      "the score in episode 16 is 45.0\n",
      "the score in episode 17 is 10.0\n",
      "the score in episode 18 is 19.0\n",
      "the score in episode 19 is 67.0\n",
      "the score in episode 20 is 9.0\n",
      "the score in episode 21 is 8.0\n",
      "the score in episode 22 is 61.0\n",
      "the score in episode 23 is 15.0\n",
      "the score in episode 24 is 16.0\n",
      "the score in episode 25 is 58.0\n",
      "the score in episode 26 is 2.0\n",
      "the score in episode 27 is 15.0\n",
      "the score in episode 28 is 9.0\n",
      "the score in episode 29 is 23.0\n",
      "the score in episode 30 is 29.0\n",
      "the average score is 24.3\n"
     ]
    }
   ],
   "source": [
    "import numpy as np\n",
    "from baselines.common.atari_wrappers import make_atari, wrap_deepmind\n",
    "import tensorflow as tf\n",
    "\n",
    "reload = tf.keras.models.load_model(\"files/ch20/BeamRider.h5\")\n",
    "\n",
    "# Use the Baseline Atari environment\n",
    "env = make_atari(\"BeamRiderNoFrameskip-v4\")\n",
    "# Process and stack the frames\n",
    "env = wrap_deepmind(env, frame_stack=True, scale=True)\n",
    "scores = []\n",
    "num_actions = env.action_space.n\n",
    "for i in range(30):\n",
    "    state = env.reset()\n",
    "    score = 0\n",
    "    for j in range(10000):\n",
    "        if np.random.rand(1)[0]<0.01:\n",
    "            action = np.random.choice(num_actions)\n",
    "        else:\n",
    "            state_tensor = tf.convert_to_tensor(state)\n",
    "            state_tensor = tf.expand_dims(state_tensor, 0)\n",
    "            action_probs = reload(state_tensor, training=False)\n",
    "            # Take the best action\n",
    "            action = tf.argmax(action_probs[0]).numpy()    \n",
    "        obs, reward, done, info = env.step(action)\n",
    "        #env.render()\n",
    "        state=obs\n",
    "        score += reward\n",
    "        if done:\n",
    "            print(f\"the score in episode {i+1} is {score}\")\n",
    "            scores.append(score)\n",
    "            break\n",
    "env.close()\n",
    "\n",
    "print(f\"the average score is {np.array(scores).mean()}\")"
   ]
  },
  {
   "cell_type": "markdown",
   "id": "1e815e85",
   "metadata": {},
   "source": [
    "The average score is about 25 per episode."
   ]
  },
  {
   "cell_type": "markdown",
   "id": "757fa83f",
   "metadata": {},
   "source": [
    "### 5.4. Animate Successful Episodes\n",
    "We'll highlight episodes where the agent performs well."
   ]
  },
  {
   "cell_type": "markdown",
   "id": "3ae8049d",
   "metadata": {},
   "source": [
    "We'll first record 15 episodes, and this is equivalent to five full original Atari Beam Rider game. \n",
    "\n",
    "The script below accomplishes that."
   ]
  },
  {
   "cell_type": "code",
   "execution_count": 56,
   "id": "89d209b7",
   "metadata": {},
   "outputs": [],
   "source": [
    "import imageio\n",
    "\n",
    "frames = []\n",
    "num_actions = env.action_space.n\n",
    "for i in range(15):\n",
    "    state = env.reset()\n",
    "    episode_frames = []\n",
    "    for j in range(10000):\n",
    "        if np.random.rand(1)[0]<0.01:\n",
    "            action = np.random.choice(num_actions)\n",
    "        else:\n",
    "            state_tensor = tf.convert_to_tensor(state)\n",
    "            state_tensor = tf.expand_dims(state_tensor, 0)\n",
    "            action_probs = reload(state_tensor, training=False)\n",
    "            # Take the best action\n",
    "            action = tf.argmax(action_probs[0]).numpy()    \n",
    "        obs, reward, done, info = env.step(action)\n",
    "        #env.render()\n",
    "        state=obs\n",
    "        episode_frames.append(env.render(mode='rgb_array'))\n",
    "        if done:\n",
    "            frames.append(episode_frames)\n",
    "            imageio.mimsave(f\"files/ch20/BeamRider_episode{i+1}.gif\", episode_frames, fps=240)\n",
    "            break\n",
    "env.close()\n",
    "\n",
    "import pickle \n",
    "pickle.dump(frames, open(f'files/ch20/BeamRider_frames.p', 'wb'))"
   ]
  },
  {
   "cell_type": "markdown",
   "id": "1d0ecead",
   "metadata": {},
   "source": [
    "You'll see 15 short animations in your local folder. Make sure you view them as extra large icons on your computer. You can see the score at the beginning of the episode from the thumbnail picture of the video. If the next episode has a much higher score than the current episode, the current episode is successful."
   ]
  },
  {
   "cell_type": "markdown",
   "id": "64fe1280",
   "metadata": {},
   "source": [
    "For example, I will zoom in episode 4 because the agent earned 2972 points in this episode (the episode for you will likely be different)."
   ]
  },
  {
   "cell_type": "markdown",
   "id": "868bbcd6",
   "metadata": {},
   "source": [
    "In the animation below, you can see episode 4 in action."
   ]
  },
  {
   "cell_type": "code",
   "execution_count": 57,
   "id": "de2066d2",
   "metadata": {},
   "outputs": [
    {
     "data": {
      "text/html": [
       "<img src=\"https://gattonweb.uky.edu/faculty/lium/ml/BeamRider_episode4.gif\" />\n"
      ],
      "text/plain": [
       "<IPython.core.display.HTML object>"
      ]
     },
     "metadata": {},
     "output_type": "display_data"
    }
   ],
   "source": [
    "%%HTML\n",
    "<img src=\"https://gattonweb.uky.edu/faculty/lium/ml/BeamRider_episode4.gif\" />"
   ]
  },
  {
   "cell_type": "markdown",
   "id": "767833f1",
   "metadata": {},
   "source": [
    "## 6. Combine the Animations from Two Games\n",
    "Next, we'll combine the highlights from Seaquest and Beam Rider as one animation. "
   ]
  },
  {
   "cell_type": "code",
   "execution_count": 61,
   "id": "a7037093",
   "metadata": {},
   "outputs": [],
   "source": [
    "import pickle\n",
    "import imageio\n",
    "import numpy as np\n",
    "\n",
    "frames1 = pickle.load(open('files/ch20/Seaquest_frames.p', 'rb'))\n",
    "frames2 = pickle.load(open('files/ch20/BeamRider_frames.p', 'rb'))\n",
    "\n",
    "frames1a = frames1[1][80:-50]\n",
    "frames2a = frames2[3][100:-100]\n",
    "fs = []\n",
    "for i in range(min(len(frames1a), len(frames2a))):\n",
    "    if i%2==0:\n",
    "        f1 = frames1a[i]\n",
    "        f2 = frames2a[i]\n",
    "        middle = np.full(f1.shape, 255).astype(\"uint8\")\n",
    "        f12 = np.concatenate([f1, middle, f2], axis=1)\n",
    "        fs.append(f12)\n",
    "\n",
    "imageio.mimsave('files/ch20/Seaquest_BeamRider.gif', fs, fps=600) "
   ]
  },
  {
   "cell_type": "markdown",
   "id": "294ba140",
   "metadata": {},
   "source": [
    "If you open the local folder, you should see an animation as follows:"
   ]
  },
  {
   "cell_type": "code",
   "execution_count": 62,
   "id": "6d9d8613",
   "metadata": {},
   "outputs": [
    {
     "data": {
      "text/html": [
       "<img src=\"https://gattonweb.uky.edu/faculty/lium/ml/Seaquest_BeamRider.gif\" />\n"
      ],
      "text/plain": [
       "<IPython.core.display.HTML object>"
      ]
     },
     "metadata": {},
     "output_type": "display_data"
    }
   ],
   "source": [
    "%%HTML\n",
    "<img src=\"https://gattonweb.uky.edu/faculty/lium/ml/Seaquest_BeamRider.gif\" />"
   ]
  },
  {
   "cell_type": "markdown",
   "id": "c4e628b6",
   "metadata": {},
   "source": [
    "The above results show that the double deep Q network is highly scalable."
   ]
  }
 ],
 "metadata": {
  "kernelspec": {
   "display_name": "Python 3 (ipykernel)",
   "language": "python",
   "name": "python3"
  },
  "language_info": {
   "codemirror_mode": {
    "name": "ipython",
    "version": 3
   },
   "file_extension": ".py",
   "mimetype": "text/x-python",
   "name": "python",
   "nbconvert_exporter": "python",
   "pygments_lexer": "ipython3",
   "version": "3.9.12"
  }
 },
 "nbformat": 4,
 "nbformat_minor": 5
}
