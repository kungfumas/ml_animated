{
 "cells": [
  {
   "cell_type": "markdown",
   "id": "653089c9",
   "metadata": {},
   "source": [
    "# Chapter 6: Convolutional Neural Networks\n",
    "\n",
    "The invention of Convolutional Neural Networks (CNNs) has greatly improved the power of deep neural networks (DNNs). CNNs have put deep learning at the cutting edge of artificial intelligence. Because of CNNs, deep learning is now the most promising field in machine learning. \n",
    "\n",
    "CNNs use a different type of layers than dense layers. A convolutional layer treats an image as a two-dimensional object and finds patterns on the image. It then associates these patterns with the image labels. This greatly improves the predictive power of the model. \n",
    "\n",
    "In this chapter, you'll learn the basic concepts of a convolutional layer such as number of filters, kernel size, zero-padding, strides... Better yet, you'll learn to create animations to show step by step how to apply a 3 by 3 filter on a 3 by 3 image with zero-padding and a stride of 1 (as shown on the left of the animation below) and how to apply a 2 by 2 filter on a 6 by 6 image without zero-padding and with a stride of 2 (as shown on the right frame of the animation below):<br>\n",
    "<img src=\"https://gattonweb.uky.edu/faculty/lium/ml/slide_stride.gif\" />\n",
    "\n",
    "\n",
    "\n",
    "\n",
    "\n"
   ]
  },
  {
   "cell_type": "markdown",
   "id": "e3b25bf6",
   "metadata": {},
   "source": [
    "***\n",
    "$\\mathbf{\\text{Create a subfolder for files in Chapter 6}}$<br>\n",
    "***\n",
    "We'll put all files in Chapter 6 in a subfolder /files/ch06. Run the code in the cell below to create the subfolder.\n",
    "\n",
    "***"
   ]
  },
  {
   "cell_type": "code",
   "execution_count": 1,
   "id": "117477d3",
   "metadata": {},
   "outputs": [],
   "source": [
    "import os\n",
    "\n",
    "os.makedirs(\"files/ch06\", exist_ok=True)"
   ]
  },
  {
   "cell_type": "markdown",
   "id": "282ad876",
   "metadata": {},
   "source": [
    "## 1. What Are Convolutional Neural Networks (CNNs)?\n",
    "CNNs uses filters to find patterns on the input dataset. The CNN layer can automatically detect a large number of patterns and associate them with the target label. This is useful in both image classification and game strategy development in this book. \n",
    "\n",
    "Images can have complicated patterns. To make things worse, we don’t know what patterns we are looking for ex ante. \n",
    "\n",
    "In contrast, game boards have far fewer pixels and we can focus on certain patterns that we know are associated with game outcomes (vertical, horizontal, or diagonal lines in Tic Tac Toe and Connect Four games, for example). Therefore, I’ll use game boards to explain how CNNs work. \n"
   ]
  },
  {
   "cell_type": "markdown",
   "id": "79c437e8",
   "metadata": {},
   "source": [
    "Let’s say that the input data is the Tic Tac Toe game board. For simplicity let’s assume the board looks like the picture below:\n",
    "<img src=\"https://gattonweb.uky.edu/faculty/lium/ml/ttthorizontal.PNG\" />\n",
    "Of course, in a real Tic Tac Toe game, payer O will take turns too so you won’t see such a board in a real game. But let’s simplify things to make the calculation easier. \n",
    "We need to convert the board into numbers so that the program can process it. Let's code a cell with X as 1, a cell with O as -1, and an empty cell as 0. \n",
    "\n",
    "Run the code in the cell below. "
   ]
  },
  {
   "cell_type": "code",
   "execution_count": 2,
   "id": "36e76164",
   "metadata": {},
   "outputs": [],
   "source": [
    "import numpy as np\n",
    "import tensorflow as tf\n",
    "import matplotlib.pyplot as plt\n",
    "\n",
    "inputs = np.array([[1,1,1],\n",
    "                   [0,0,0],\n",
    "                   [0,0,0]]).reshape(-1,3,3,1)   "
   ]
  },
  {
   "cell_type": "markdown",
   "id": "d963a4e3",
   "metadata": {},
   "source": [
    "We represent the board with a 3 by 3 matrix: the first row has three ones since they are occupied by Xs. The rest cells are all zero since they are all empty. \n",
    "\n",
    "We use *reshape(-1,3,3,1)* to reshape the matrix to a four dimensional array: the first dimension represents how many images we have; the second and third dimensions are the width and height of the image. The last dimension is the color channels. For a color picture, there are three channels (RGB), but here we put the number of channel as one for simplicity. \n",
    "\n",
    "Below, we'll create a horizontal filter with a size of 3 by 3. The middle row has values 1, while the other two rows have 0s. "
   ]
  },
  {
   "cell_type": "markdown",
   "id": "2033eed1",
   "metadata": {},
   "source": [
    "### 1.1. A Horizontal Filter\n",
    "Below, we'll create a horizontal filter with a size of 3 by 3. The middle row has values 1, while the other two rows have 0s. "
   ]
  },
  {
   "cell_type": "code",
   "execution_count": 3,
   "id": "629df3fb",
   "metadata": {},
   "outputs": [],
   "source": [
    "# Create a horizontal filter\n",
    "h_filter = np.array([[0,0,0], \n",
    "                   [1,1,1],\n",
    "                   [0,0,0]]).reshape(3,3,1,1)  "
   ]
  },
  {
   "cell_type": "markdown",
   "id": "791cedf2",
   "metadata": {},
   "source": [
    "A horizontal filter highlights the horizontal features in the image and blurs the rest. \n",
    "We’ll apply the 3 by 3 horizontal filter on the Tic Tac Toe game board as follows:"
   ]
  },
  {
   "cell_type": "code",
   "execution_count": 4,
   "id": "18d3bb71",
   "metadata": {},
   "outputs": [
    {
     "name": "stdout",
     "output_type": "stream",
     "text": [
      "[[2 3 2]\n",
      " [0 0 0]\n",
      " [0 0 0]]\n"
     ]
    }
   ],
   "source": [
    "# Apply the filter on the game board\n",
    "outputs = tf.nn.conv2d(inputs, h_filter, strides=1, padding=\"SAME\")\n",
    "# Convert output to numpy array and print it output\n",
    "print(outputs.numpy().reshape(3,3))"
   ]
  },
  {
   "cell_type": "markdown",
   "id": "064889bb",
   "metadata": {},
   "source": [
    "In the output, the values are large in the first row. The values are all 0 in the other two rows. So the horizontal filter has correctly detected the horizontal pattern in the first row of the game board. \n",
    "\n",
    "But how exactly did the conv2d layer generates the output through the filter? \n",
    "\n",
    "First, the padding=\"SAME\" argument in the conv2d() function means that the network add 0s around the input image. The cell below draws the iamge with zero padding.  "
   ]
  },
  {
   "cell_type": "code",
   "execution_count": 5,
   "id": "aac17214",
   "metadata": {},
   "outputs": [
    {
     "data": {
      "text/plain": [
       "(-6.25, -0.75, -1.25, 4.25)"
      ]
     },
     "execution_count": 5,
     "metadata": {},
     "output_type": "execute_result"
    },
    {
     "data": {
      "image/png": "[encoded data removed]",
      "text/plain": [
       "<Figure size 600x400 with 1 Axes>"
      ]
     },
     "metadata": {
      "needs_background": "light"
     },
     "output_type": "display_data"
    }
   ],
   "source": [
    "fig = plt.figure(dpi=100)\n",
    "ax = fig.add_subplot(111)\n",
    "\n",
    "def sqr(x,y,size=1, linestyle=\"-\", color=\"gray\", linewidth=1):\n",
    "    ax.plot([x, x + size], [y, y], linestyle=linestyle, \n",
    "            color=color, linewidth=linewidth)\n",
    "    ax.plot([x, x], [y + size, y], linestyle=linestyle, \n",
    "            color=color, linewidth=linewidth)\n",
    "    ax.plot([x+size, x + size], [y, y + size], linestyle=linestyle, \n",
    "            color=color, linewidth=linewidth)\n",
    "    ax.plot([x, x + size], [y + size, y + size], linestyle=linestyle, \n",
    "            color=color, linewidth=linewidth)\n",
    "for i in range(3):\n",
    "    for j in range(3):\n",
    "        sqr(-5+i,j,color=\"k\", linewidth=2)\n",
    "for i in range(5):\n",
    "    for j in range(5):\n",
    "        sqr(-6+i,-1+j, linestyle=\"dotted\")\n",
    "        \n",
    "for x in range(5):\n",
    "    for y in range(5):\n",
    "        if 1<=x<=3 and y==3:\n",
    "            ax.text(x-5.6, y-0.6, r\"1\", size=16, color=\"gray\")\n",
    "        else:\n",
    "            ax.text(x-5.6, y-0.6, r\"0\", size=16, color=\"gray\")\n",
    "ax.set_xlim(-6, -1)\n",
    "ax.set_ylim(-1, 4)\n",
    "\n",
    "plt.axis('equal')\n",
    "plt.axis('off')"
   ]
  },
  {
   "cell_type": "markdown",
   "id": "1e715ca5",
   "metadata": {},
   "source": [
    "***\n",
    "$\\mathbf{\\text{Kernels, Padding, and stride in a convolutional layer}}$<br>\n",
    "***\n",
    "* Filters are also called kernels.\n",
    "* Zero-padding means we put 0s around the edges of the image. \n",
    "* Stride=1 means the filter shifts one pixel to the right or down at a time on the image. \n",
    "\n",
    "***"
   ]
  },
  {
   "cell_type": "markdown",
   "id": "9bcbdf00",
   "metadata": {},
   "source": [
    "With zero-padding, the 3 by 3 image now becomes a 5 by 5 image. We then apply the 3 by 3 filter on the image. The filter will scan cover the image 9 times. We can create an animation to show how it works."
   ]
  },
  {
   "cell_type": "code",
   "execution_count": 6,
   "id": "cba1ba17",
   "metadata": {},
   "outputs": [],
   "source": [
    "import numpy as np\n",
    "from matplotlib import pyplot as plt\n",
    "from matplotlib.patches import Rectangle\n",
    "\n",
    "def scan(h,v):\n",
    "    fig = plt.figure(dpi=100)\n",
    "    ax = fig.add_subplot(111)\n",
    "    ax.set_xlim(-6, -1)\n",
    "    ax.set_ylim(-1, 4)\n",
    "    #ax.grid()\n",
    "    plt.axis('equal')\n",
    "    plt.axis('off')    \n",
    "    \n",
    "    def sqr(x,y,size=1, linestyle=\"-\", color=\"gray\", linewidth=1):\n",
    "        ax.plot([x, x + size], [y, y], linestyle=linestyle, \n",
    "                color=color, linewidth=linewidth)\n",
    "        ax.plot([x, x], [y + size, y], linestyle=linestyle, \n",
    "                color=color, linewidth=linewidth)\n",
    "        ax.plot([x+size, x + size], [y, y + size], linestyle=linestyle, \n",
    "                color=color, linewidth=linewidth)\n",
    "        ax.plot([x, x + size], [y + size, y + size], linestyle=linestyle, \n",
    "                color=color, linewidth=linewidth)   \n",
    "        \n",
    "    for i in range(3):\n",
    "        for j in range(3):\n",
    "            sqr(-5+i,j,color=\"k\", linewidth=2)\n",
    "    for i in range(5):\n",
    "        for j in range(5):\n",
    "            sqr(-6+i,-1+j, linestyle=\"dotted\")         \n",
    "    for x in range(5):\n",
    "        for y in range(5):\n",
    "            if 1<=x<=3 and y==3:\n",
    "                ax.text(x-5.6, y-0.6, r\"1\", size=16, color=\"gray\")\n",
    "            else:\n",
    "                ax.text(x-5.6, y-0.6, r\"0\", size=16, color=\"gray\")\n",
    "    for i in range(3):\n",
    "        for j in range(3):\n",
    "            sqr(-6+i+h, 1+j-v, color=\"r\", linewidth=3)                \n",
    "    plt.savefig(f\"files/ch06/scan{h}{v}.png\")\n",
    "    plt.close(fig)\n",
    "\n",
    "for v in range(3):\n",
    "    for h in range(3):\n",
    "        scan(h,v)            \n",
    "\n",
    "\n",
    "import PIL\n",
    "import imageio\n",
    "import numpy as np\n",
    "\n",
    "frames=[] \n",
    "for v in range(3):\n",
    "    for h in range(3):\n",
    "        frame=PIL.Image.open(f\"files/ch06/scan{h}{v}.png\")  \n",
    "        frame=np.asarray(frame)\n",
    "        frames.append(frame) \n",
    "imageio.mimsave('files/ch06/filter.gif', frames, fps=1) "
   ]
  },
  {
   "cell_type": "markdown",
   "id": "bfa3a085",
   "metadata": {},
   "source": [
    "If you open the file filter.gif in your local folder, you'll see an animation as follows:\n",
    "<img src=\"https://gattonweb.uky.edu/faculty/lium/ml/filter.gif\"/>"
   ]
  },
  {
   "cell_type": "markdown",
   "id": "44a3674b",
   "metadata": {},
   "source": [
    "### 1.2. Convoluation Operation\n",
    "Now let's figure out why the output matrix in the example above is \n",
    "[[2 3 2]\n",
    " [0 0 0]\n",
    " [0 0 0]]. \n",
    " \n",
    " When the filter is applied to the top left corner of the zero-padded image, the covered area is the red area in this picture: \n",
    " <img src=\"https://gattonweb.uky.edu/faculty/lium/ml/scan00.png\"/>"
   ]
  },
  {
   "cell_type": "markdown",
   "id": "22d2dd43",
   "metadata": {},
   "source": [
    "The covered area reprents a 3 by 3 by 1 tensor with values<br> \n",
    "   $$\n",
    "\\begin{bmatrix}\n",
    "[[0] & [0] & [0]] \\\\\n",
    "[[0] & [1] & [1]] \\\\\n",
    "[[0] & [0] & [0]]\n",
    "\\end{bmatrix}\n",
    "$$\n",
    "  The filter itself is also a 3 by 3 by 1 tensor$$\n",
    "\\begin{bmatrix}\n",
    "[[0] & [0] & [0]] \\\\\n",
    "[[1] & [1] & [1]] \\\\\n",
    "[[0] & [0] & [0]]\n",
    "\\end{bmatrix}\n",
    "$$The convolution operation finds the tensor dot of the two tensors. Specifically, it perform element-wise multiplication in each of the nine cells, then adds up the values in the nine cells. like so:\n",
    " $$tensordot(\\begin{bmatrix}\n",
    "[[0] & [0] & [0]] \\\\\n",
    "[[0] & [1] & [1]] \\\\\n",
    "[[0] & [0] & [0]]\n",
    "\\end{bmatrix}, \\begin{bmatrix}\n",
    "[[0] & [0] & [0]] \\\\\n",
    "[[1] & [1] & [1]] \\\\\n",
    "[[0] & [0] & [0]]\n",
    "\\end{bmatrix})=\n",
    "\\begin{bmatrix}\n",
    "0\\times0+ & 0\\times0+ & 0\\times0+ \\\\\n",
    "0\\times1+ & 1\\times1+ &1\\times1+ \\\\\n",
    "0\\times0+ & 0\\times0+ &0\\times0\n",
    "\\end{bmatrix}=2\n",
    "$$"
   ]
  },
  {
   "cell_type": "markdown",
   "id": "8d0df744",
   "metadata": {},
   "source": [
    "To verify the result, we can use the *tensordot()* function in ***numpy*** to calculate output. "
   ]
  },
  {
   "cell_type": "code",
   "execution_count": 7,
   "id": "0ea53d26",
   "metadata": {},
   "outputs": [
    {
     "name": "stdout",
     "output_type": "stream",
     "text": [
      "the output is\n",
      " [[2. 3. 2.]\n",
      " [0. 0. 0.]\n",
      " [0. 0. 0.]]\n"
     ]
    }
   ],
   "source": [
    "padded_image = np.zeros((5,5))\n",
    "\n",
    "image = np.array([[1,1,1],\n",
    "    \t\t\t  [0,0,0],\n",
    "    \t\t\t  [0,0,0]])\n",
    "\n",
    "padded_image[1:4,1:4] = image\n",
    "\n",
    "output = np.zeros((3,3))\n",
    "\n",
    "filter_array = np.array([[0,0,0],\n",
    "            \t\t\t [1,1,1],\n",
    "            \t\t\t [0,0,0]])\n",
    "\n",
    "for row in range(3):\n",
    "    for col in range(3):\n",
    "        covered_image = padded_image[row:row+3,col:col+3]\n",
    "        output[row,col] = np.tensordot(filter_array, covered_image)\n",
    "       \n",
    "print(f\"the output is\\n {output}\")"
   ]
  },
  {
   "cell_type": "markdown",
   "id": "fb762289",
   "metadata": {},
   "source": [
    "As you can see, the output is the same as what we have above.\n",
    "\n",
    "Next, we'll create an animation on how the output matrix is generated step by step. "
   ]
  },
  {
   "cell_type": "code",
   "execution_count": 13,
   "id": "438df29e",
   "metadata": {},
   "outputs": [],
   "source": [
    "output=np.array([[2, 3, 2],\n",
    "                 [0, 0, 0],\n",
    "                 [0, 0, 0]])\n",
    "\n",
    "def slide(h,v):\n",
    "    fig = plt.figure(figsize=(12,8), dpi=200)\n",
    "    ax = fig.add_subplot(111)\n",
    "    ax.set_xlim(-6, 6)\n",
    "    ax.set_ylim(-4, 4)\n",
    "    #ax.grid()\n",
    "    plt.axis(\"off\")\n",
    "    \n",
    "    # Define the sqr function to draw a square\n",
    "    def sqr(x,y,size=1, linestyle=\"-\", color=\"gray\", linewidth=1):\n",
    "        ax.plot([x, x + size], [y, y], linestyle=linestyle,\n",
    "                color=color, linewidth=linewidth)\n",
    "        ax.plot([x, x], [y + size, y], linestyle=linestyle,\n",
    "                color=color, linewidth=linewidth)\n",
    "        ax.plot([x+size, x + size], [y, y + size], linestyle=linestyle, \n",
    "                color=color, linewidth=linewidth)\n",
    "        ax.plot([x, x + size], [y + size, y + size], linestyle=linestyle,\n",
    "                color=color, linewidth=linewidth)\n",
    "    \n",
    "    # Draw the original image\n",
    "    for i in range(3):\n",
    "        for j in range(3):\n",
    "            sqr(-5+i,j, color=\"k\", linewidth=2)\n",
    "    # add text to explain \n",
    "    ax.annotate(\n",
    "        'Apply a 3 by 3 filter on a 3 by 3 image\\nwith zero-padding\\nstride=1', \n",
    "        xy=(0,0),\n",
    "        xytext = (0.02,0.1), \n",
    "        textcoords = 'axes fraction', \n",
    "        bbox = dict(boxstyle=\"round\", fc=\"0.9\"), \n",
    "        fontsize = 20)\n",
    "\n",
    "    # Draw filter on the side\n",
    "    for i in range(3):\n",
    "        for j in range(3):\n",
    "            sqr(3+i,j+1, color=\"r\", linewidth=3)    \n",
    "    ax.text(2, 2.5, \"filter=\", size=16, color=\"r\")\n",
    "    \n",
    "    # Draw the padded image\n",
    "    for i in range(5):\n",
    "        for j in range(5):\n",
    "            sqr(-6+i,-1+j, linestyle=\"dotted\")\n",
    "    \n",
    "    # Put numbers in cells        \n",
    "    for x in range(5):\n",
    "        for y in range(5):\n",
    "            if 1<=x<=3 and y==3:\n",
    "                ax.text(x-5.6, y-0.6, r\"1\", size=16, color=\"gray\")\n",
    "            else:\n",
    "                ax.text(x-5.6, y-0.6, r\"0\", size=16, color=\"gray\")\n",
    "    \n",
    "    # Apply filter        \n",
    "    for i in range(3):\n",
    "        for j in range(3):\n",
    "            sqr(-6+i+h, 1+j-v, color=\"r\", linewidth=3) \n",
    "    \n",
    "    # Draw the output matrix\n",
    "    for i in range(3):\n",
    "        for j in range(3):\n",
    "            sqr(2+i,j-3, linewidth=2, color=\"k\")\n",
    "            ax.text(2.4+i, -0.6-j, f\"{output[i,j]}\", size=16, color=\"gray\")\n",
    "    \n",
    "    plt.savefig(f\"files/ch06/slide{h}{v}step1.png\")\n",
    "    # add text to explain \n",
    "    ax.annotate('', xy = (2.3+h,-0.3-v), xytext = (-3+h,4-v), \n",
    "        arrowprops=dict(arrowstyle = '->', color = 'g', linewidth = 1))        \n",
    "    ax.annotate('', xy = (2.3+h,-0.3-v), xytext = (-6+h,1-v), \n",
    "        arrowprops=dict(arrowstyle = '->', color = 'g', linewidth = 1)) \n",
    "    plt.savefig(f\"files/ch06/slide{h}{v}step2.png\")\n",
    "    \n",
    "    ax.text(2.4+h, -0.6-v, f\"{output[h,v]}\", size=16, color=\"r\")\n",
    "    plt.savefig(f\"files/ch06/slide{h}{v}step3.png\")\n",
    "    plt.close(fig)\n",
    "\n",
    "\n",
    "for v in range(3):\n",
    "    for h in range(3):\n",
    "        slide(h,v)  \n",
    "\n",
    "import PIL\n",
    "import imageio\n",
    "import numpy as np\n",
    "\n",
    "frames=[] \n",
    "for v in range(3):\n",
    "    for h in range(3):\n",
    "        for step in range(1,4,1):\n",
    "            frame=PIL.Image.open(f\"files/ch06/slide{h}{v}step{step}.png\")  \n",
    "            frame=np.asarray(frame)\n",
    "            frames.append(frame) \n",
    "imageio.mimsave('files/ch06/slidefilter.gif', frames, fps=2) "
   ]
  },
  {
   "cell_type": "markdown",
   "id": "507a0fe6",
   "metadata": {},
   "source": [
    "You can view the animation below\n",
    "<img src=\"https://gattonweb.uky.edu/faculty/lium/ml/slidefilter.gif\"/>"
   ]
  },
  {
   "cell_type": "markdown",
   "id": "2f7dbb5c",
   "metadata": {},
   "source": [
    "### 1.3. Stride and Padding\n",
    "In the example we just saw, we use zero-padding and a stride size of 1. Next, we'll discuss what if we don't use zero-padding and use a stride size greater than 1.\n",
    "\n",
    "We'll apply a 2 by 2 diagonal filter on a 6 by 6 image without zero-padding. We'll set the stride size to 2."
   ]
  },
  {
   "cell_type": "code",
   "execution_count": 13,
   "id": "68e4e4f1",
   "metadata": {},
   "outputs": [],
   "source": [
    "# Create a 2 by 2 diagonal filter and a 6 by 6 image\n",
    "d_filter = np.array([[1,0],\n",
    "                   [0,1]]).reshape(2,2,1,1)\n",
    "image = np.array([[1,0,0,1,1,0],\n",
    "    \t\t\t  [1,0,1,0,0,1],\n",
    "    \t\t\t  [0,0,0,1,1,0],\n",
    "                  [0,1,1,0,1,0],\n",
    "    \t\t\t  [1,0,1,1,0,0],\n",
    "    \t\t\t  [0,1,0,0,1,0]]).reshape(-1,6,6,1)"
   ]
  },
  {
   "cell_type": "markdown",
   "id": "a0b7aaab",
   "metadata": {},
   "source": [
    "A diagonal filter finds out and highlights the diagonal features in the image. We’ll apply it on the 6 by 6 image:"
   ]
  },
  {
   "cell_type": "code",
   "execution_count": 14,
   "id": "9e00def3",
   "metadata": {},
   "outputs": [
    {
     "name": "stdout",
     "output_type": "stream",
     "text": [
      "[[1 0 2]\n",
      " [1 0 1]\n",
      " [2 1 0]]\n"
     ]
    }
   ],
   "source": [
    "# Apply the filter on the image\n",
    "outputs = tf.nn.conv2d(image, d_filter, strides=2, padding=\"VALID\")\n",
    "# Convert output to a numpy array and print the output\n",
    "print(outputs.numpy().reshape(3,3))"
   ]
  },
  {
   "cell_type": "markdown",
   "id": "b4bc40f0",
   "metadata": {},
   "source": [
    "Without zero-padding, we apply the 2 by 2 filter on the image, sliding 2 pixels to the right or down each time. The filter will scan over the image 9 times. We can create an animation to show how it works."
   ]
  },
  {
   "cell_type": "code",
   "execution_count": 14,
   "id": "6879fe18",
   "metadata": {},
   "outputs": [],
   "source": [
    "import numpy as np\n",
    "from matplotlib import pyplot as plt\n",
    "from matplotlib.patches import Rectangle\n",
    "\n",
    "d_filter = np.array([[1,0],\n",
    "                   [0,1]])\n",
    "\n",
    "image = np.array([[1,0,0,1,1,0],\n",
    "    \t\t\t  [1,0,1,0,0,1],\n",
    "    \t\t\t  [0,0,0,1,1,0],\n",
    "                  [0,1,1,0,1,0],\n",
    "    \t\t\t  [1,0,1,1,0,0],\n",
    "    \t\t\t  [0,1,0,0,1,0]])\n",
    "\n",
    "outputs = np.array([[1, 0, 2],\n",
    "                     [1, 0, 1],\n",
    "                     [2, 1, 0]])\n",
    "\n",
    "\n",
    "def scan(h,v):\n",
    "    fig = plt.figure(dpi=100)\n",
    "    ax = fig.add_subplot(111)\n",
    "    \n",
    "    def sqr(x,y,size=1, linestyle=\"-\", color=\"gray\", linewidth=1):\n",
    "        ax.plot([x, x + size], [y, y], linestyle=linestyle, \n",
    "                color=color, linewidth=linewidth)\n",
    "        ax.plot([x, x], [y + size, y], linestyle=linestyle, \n",
    "                color=color, linewidth=linewidth)\n",
    "        ax.plot([x+size, x + size], [y, y + size], linestyle=linestyle, \n",
    "                color=color, linewidth=linewidth)\n",
    "        ax.plot([x, x + size], [y + size, y + size], linestyle=linestyle, \n",
    "                color=color, linewidth=linewidth)\n",
    "    \n",
    "    # Draw the 6 by 6 image \n",
    "    for i in range(6):\n",
    "        for j in range(6):\n",
    "            sqr(-6+i,-2+j)\n",
    "            ax.text(i-5.6, 3.4-j, image[j,i], size=16, color=\"gray\")\n",
    "    \n",
    "    # Draw the filter       \n",
    "    for i in range(2):\n",
    "        for j in range(2):\n",
    "            sqr(-6+i+2*h, 2+j-2*v, color=\"b\", linewidth=2)         \n",
    "    \n",
    "    ax.set_xlim(-6, 0)\n",
    "    ax.set_ylim(-2, 4)\n",
    "    #ax.grid()\n",
    "    plt.axis('equal')\n",
    "    plt.axis('off')\n",
    "    plt.savefig(f\"files/ch06/stride{h}{v}.png\")\n",
    "    plt.close(fig)\n",
    "    \n",
    "for v in range(3):\n",
    "    for h in range(3):\n",
    "        scan(h,v) \n",
    "        \n",
    "        \n",
    "import PIL\n",
    "import imageio\n",
    "import numpy as np\n",
    "\n",
    "frames=[] \n",
    "for v in range(3):\n",
    "    for h in range(3):\n",
    "        frame=PIL.Image.open(f\"files/ch06/stride{h}{v}.png\")  \n",
    "        frame=np.asarray(frame)\n",
    "        frames.append(frame) \n",
    "imageio.mimsave('files/ch06/stride.gif', frames, fps=1)      "
   ]
  },
  {
   "cell_type": "markdown",
   "id": "6aab6eaf",
   "metadata": {},
   "source": [
    "If you open the file filter.gif in your local folder, you'll see an animation as follows:\n",
    "<img src=\"https://gattonweb.uky.edu/faculty/lium/ml/stride.gif\"/>"
   ]
  },
  {
   "cell_type": "markdown",
   "id": "9bb90d26",
   "metadata": {},
   "source": [
    "Next, we'll create an animation on how the output matrix is generated step by step. "
   ]
  },
  {
   "cell_type": "code",
   "execution_count": 15,
   "id": "8aba3315",
   "metadata": {},
   "outputs": [],
   "source": [
    "import numpy as np\n",
    "from matplotlib import pyplot as plt\n",
    "from matplotlib.patches import Rectangle\n",
    "\n",
    "d_filter = np.array([[1,0],\n",
    "                   [0,1]])\n",
    "\n",
    "image = np.array([[1,0,0,1,1,0],\n",
    "    \t\t\t  [1,0,1,0,0,1],\n",
    "    \t\t\t  [0,0,0,1,1,0],\n",
    "                  [0,1,1,0,1,0],\n",
    "    \t\t\t  [1,0,1,1,0,0],\n",
    "    \t\t\t  [0,1,0,0,1,0]])\n",
    "\n",
    "output = np.array([[1, 0, 2],\n",
    "                     [1, 0, 1],\n",
    "                     [2, 1, 0]])\n",
    "\n",
    "\n",
    "\n",
    "def stride(h,v):\n",
    "    fig = plt.figure(figsize=(12,8), dpi=200)\n",
    "    ax = fig.add_subplot(111)\n",
    "    ax.set_xlim(-6, 6)\n",
    "    ax.set_ylim(-4, 4)\n",
    "    #ax.grid()\n",
    "    plt.axis(\"off\")\n",
    "    \n",
    "    # Define the sqr function to draw square\n",
    "    def sqr(x,y,size=1, linestyle=\"-\", color=\"gray\", linewidth=1):\n",
    "        ax.plot([x, x + size], [y, y], linestyle=linestyle,\n",
    "                color=color, linewidth=linewidth)\n",
    "        ax.plot([x, x], [y + size, y], linestyle=linestyle,\n",
    "                color=color, linewidth=linewidth)\n",
    "        ax.plot([x+size, x + size], [y, y + size], linestyle=linestyle, \n",
    "                color=color, linewidth=linewidth)\n",
    "        ax.plot([x, x + size], [y + size, y + size], linestyle=linestyle,\n",
    "                color=color, linewidth=linewidth)\n",
    "    \n",
    "    # Draw the 6 by 6 image \n",
    "    for i in range(6):\n",
    "        for j in range(6):\n",
    "            sqr(-6+i,-2+j,linewidth=2)\n",
    "            ax.text(i-5.6, 3.4-j, image[j,i],size=16, color=\"gray\")\n",
    "            \n",
    "    # add text to explain \n",
    "    ax.annotate(\n",
    "        'Apply a 2 by 2 filter on a 6 by 6 image\\nwithout zero-padding\\nstride=2', \n",
    "        xy=(0,0),\n",
    "        xytext = (0.02,0.05), \n",
    "        textcoords = 'axes fraction', \n",
    "        bbox = dict(boxstyle=\"round\", fc=\"0.9\"), \n",
    "        fontsize = 20)\n",
    "\n",
    "    # Draw a filter on the side\n",
    "    ax.text(2.8,2.8, \"filter=\", size=20, color=\"b\")\n",
    "    for i in range(2):\n",
    "        for j in range(2):\n",
    "            sqr(4+i,2+j, color=\"b\", linewidth=3)\n",
    "            ax.text(4.4+i, 2.4+j, d_filter[i,j], size=16, color=\"b\")      \n",
    "\n",
    "\n",
    "    # Apply filter        \n",
    "    for i in range(2):\n",
    "        for j in range(2):\n",
    "            sqr(-6+i+2*h, 2+j-2*v, color=\"b\", linewidth=3)    \n",
    "    \n",
    "    # Draw the output matrix\n",
    "    for i in range(3):\n",
    "        for j in range(3):\n",
    "            sqr(2+i,j-3, linewidth=2, color=\"k\")\n",
    "            ax.text(2.4+i, -0.6-j, f\"{output[j,i]}\", size=16, color=\"gray\")\n",
    "    \n",
    "    plt.savefig(f\"files/ch06/stride{h}{v}step1.png\")\n",
    "    # add text to explain \n",
    "  \n",
    "    ax.annotate('', xy = (2.3+h,-0.3-v), xytext = (-8+i+2*h, j-2*v), \n",
    "        arrowprops=dict(arrowstyle = '->', color = 'g', linewidth = 1))        \n",
    "    ax.annotate('', xy = (2.3+h,-0.3-v), xytext = (-6+i+2*h, 2+j-2*v), \n",
    "        arrowprops=dict(arrowstyle = '->', color = 'g', linewidth = 1)) \n",
    "    plt.savefig(f\"files/ch06/stride{h}{v}step2.png\")\n",
    "    \n",
    "    ax.text(2.4+h, -0.6-v, f\"{output[v,h]}\", size=16, color=\"b\")\n",
    "    plt.savefig(f\"files/ch06/stride{h}{v}step3.png\")\n",
    "    plt.close(fig)\n",
    "\n",
    "\n",
    "for v in range(3):\n",
    "    for h in range(3):\n",
    "        stride(h,v)  \n",
    "\n",
    "import PIL\n",
    "import imageio\n",
    "import numpy as np\n",
    "\n",
    "frames=[] \n",
    "for v in range(3):\n",
    "    for h in range(3):\n",
    "        for step in range(1,4,1):\n",
    "            frame=PIL.Image.open(f\"files/ch06/stride{h}{v}step{step}.png\")  \n",
    "            frame=np.asarray(frame)\n",
    "            frames.append(frame) \n",
    "imageio.mimsave('files/ch06/stridesteps.gif', frames, fps=2) "
   ]
  },
  {
   "cell_type": "markdown",
   "id": "0d06b89d",
   "metadata": {},
   "source": [
    "You can view the animation below\n",
    "<img src=\"https://gattonweb.uky.edu/faculty/lium/ml/stridesteps.gif\"/>"
   ]
  },
  {
   "cell_type": "markdown",
   "id": "df7020c1",
   "metadata": {},
   "source": [
    "### 1.4. Combine the Two Animations\n",
    "Next, you'll put the two animations side by side in one single animation."
   ]
  },
  {
   "cell_type": "code",
   "execution_count": 16,
   "id": "42d0f5e9",
   "metadata": {},
   "outputs": [],
   "source": [
    "frames=[] \n",
    "for v in range(3):\n",
    "    for h in range(3):\n",
    "        for step in range(1,4,1):\n",
    "            frame1=PIL.Image.open(f\"files/ch06/slide{h}{v}step{step}.png\")  \n",
    "            frame1=np.asarray(frame1)\n",
    "\n",
    "            frame2=PIL.Image.open(f\"files/ch06/stride{h}{v}step{step}.png\")  \n",
    "            frame2=np.asarray(frame2)\n",
    "            \n",
    "            frame=np.concatenate([frame1, frame2], axis =1)\n",
    "            frames.append(frame) \n",
    "imageio.mimsave('files/ch06/slide_stride.gif', frames, fps=2) "
   ]
  },
  {
   "cell_type": "markdown",
   "id": "88377a17",
   "metadata": {},
   "source": [
    "The resulting animation works as follows:<br>\n",
    "<img src=\"https://gattonweb.uky.edu/faculty/lium/ml/slide_stride.gif\" />"
   ]
  },
  {
   "cell_type": "markdown",
   "id": "85f032b8",
   "metadata": {},
   "source": [
    "## 2. Max Pooling\n",
    "After we process the images with convolutional layers, we can also use the MaxPooling2D layer to furtherer highlight patterns by taking the maximum value over an input window. \n",
    "\n",
    "Recall that in the last section, after we apply a 2 by 2 diagonal filter on a 6 by 6 image, the output is a 3 by 3 matrix in the form of [[1, 0, 2],\n",
    "                     [1, 0, 1],\n",
    "                     [2, 1, 0]].\n",
    "                     \n",
    "We can apply a max_pool2d layer on the output, with a filter size of 2 by 2, a stride size of 1, without zero-padding, like so:                \n",
    "                     "
   ]
  },
  {
   "cell_type": "code",
   "execution_count": 18,
   "id": "708651d2",
   "metadata": {},
   "outputs": [
    {
     "name": "stdout",
     "output_type": "stream",
     "text": [
      "the output after the conv2d layer is \n",
      " [[1 0 2]\n",
      " [1 0 1]\n",
      " [2 1 0]]\n",
      "the output after the max_pool2d layer is \n",
      " [[1 2]\n",
      " [2 1]]\n"
     ]
    }
   ],
   "source": [
    "\n",
    "\n",
    "import numpy as np\n",
    "import tensorflow as tf\n",
    "import matplotlib.pyplot as plt\n",
    "# Create a 2 by 2 diagonal filter and a 6 by 6 image\n",
    "d_filter = np.array([[1,0],\n",
    "                   [0,1]]).reshape(2,2,1,1)\n",
    "image = np.array([[1,0,0,1,1,0],\n",
    "    \t\t\t  [1,0,1,0,0,1],\n",
    "    \t\t\t  [0,0,0,1,1,0],\n",
    "                  [0,1,1,0,1,0],\n",
    "    \t\t\t  [1,0,1,1,0,0],\n",
    "    \t\t\t  [0,1,0,0,1,0]]).reshape(-1,6,6,1)\n",
    " \n",
    "# Apply the filter on the image\n",
    "outputs = tf.nn.conv2d(image, d_filter, strides=2, padding=\"VALID\")\n",
    "# Convert output to a numpy array and print the output\n",
    "print(\"the output after the conv2d layer is \\n\", \\\n",
    "      outputs.numpy().reshape(3,3))\n",
    "\n",
    "pooled_outputs = tf.nn.max_pool2d(input=outputs,\\\n",
    "                 ksize=2, strides=1, padding=\"VALID\")\n",
    "\n",
    "print(\"the output after the max_pool2d layer is \\n\", \\\n",
    "      pooled_outputs.numpy().reshape(2,2))\n"
   ]
  },
  {
   "cell_type": "markdown",
   "id": "0c2785d9",
   "metadata": {},
   "source": [
    "It works as follows: \n",
    "* the 2 by 2 max_pool2d filter first scans the top left corner of the output matrix, which covers four numbers  [[1, 0], [1, 0]]. The maximum number among the four cells is 1, hence the value 1 in the top left corner of the pooled_outputs matrix. \n",
    "* the 2 by 2 max_pool2d filter then scans the top right corner of the output matrix, which covers four numbers  [[0, 2], [0, 1]]. The maximum number among the four cells is 2, hence the value 2 in the top right corner of the pooled_outputs matrix. \n",
    "* the 2 by 2 max_pool2d filter scans the bottom left corner of the output matrix, which covers four numbers  [[1, 0], [2, 1]]. The maximum number among the four cells is 2, hence the value 2 in the bottom left corner of the pooled_outputs matrix. \n",
    "* the 2 by 2 max_pool2d filter finally scans the bottom right corner of the output matrix, which covers four numbers  [[0, 1], [1, 0]]. The maximum number among the four cells is 1, hence the value 1 in the bottom right corner of the pooled_outputs matrix. "
   ]
  },
  {
   "cell_type": "markdown",
   "id": "b3771ca1",
   "metadata": {},
   "source": [
    "## 3. Binary Classification with Convolutional Layers\n",
    "Now that you know how convolutional layers work, we’ll apply them (along with max pooling layers) to the binary classification problem outlined in Chapter 5. \n",
    "\n",
    "To compare apples with apples, we'll use the same input data. We'll compare the confusion matrix as well as the accuracy scores. "
   ]
  },
  {
   "cell_type": "code",
   "execution_count": 37,
   "id": "f4000ee6",
   "metadata": {},
   "outputs": [
    {
     "name": "stdout",
     "output_type": "stream",
     "text": [
      "(160, 32, 32, 1)\n",
      "(41, 32, 32, 1)\n",
      "(160,)\n",
      "(41,)\n"
     ]
    }
   ],
   "source": [
    "import matplotlib.pyplot as plt\n",
    "import pickle\n",
    "import numpy as np\n",
    "from sklearn.model_selection import train_test_split\n",
    "\n",
    "def unpickle(file):\n",
    "    with open(file, 'rb') as fo:\n",
    "        dict = pickle.load(fo, encoding='bytes')\n",
    "    return dict\n",
    "\n",
    "batch1 = unpickle(\"files/cifar10/cifar-10-batches-py/data_batch_1\")\n",
    "\n",
    "# Must put b in front of the keys since they are bits literal\n",
    "data = batch1[b\"data\"]\n",
    "labels = batch1[b'labels']\n",
    "\n",
    "# Keep deer and horses only\n",
    "# Change y to a dummy of 1 (horse) or 0 (deer)\n",
    "X=[]\n",
    "y=[]\n",
    "for i in range(1000):\n",
    "    if labels[i]==4:\n",
    "        X.append(data[i])\n",
    "        y.append(0)\n",
    "    if labels[i]==7:\n",
    "        X.append(data[i])\n",
    "        y.append(1)\n",
    "        \n",
    "# Reshape X\n",
    "X = np.array(X, dtype=float)\n",
    "# change channel first to channel last\n",
    "X = X.reshape(-1,3,32,32).transpose(0,2,3,1)\n",
    "# Change an integer to a float between 0 and 1\n",
    "X = X/255\n",
    "# Reshpae y\n",
    "y = np.array(y, dtype=float).reshape(-1,)\n",
    "\n",
    "#Split train data for cross validation\n",
    "x_train,x_test,y_train,y_test = train_test_split\\\n",
    "    (X,y,test_size=0.2,random_state=0)\n",
    "\n",
    "# Use only the first channel to reduce data size\n",
    "X_train = x_train[:,:,:,0].reshape(-1,32,32,1)\n",
    "X_test = x_test[:,:,:,0].reshape(-1,32,32,1)\n",
    "print(X_train.shape)\n",
    "print(X_test.shape)\n",
    "print(y_train.shape)\n",
    "print(y_test.shape)\n",
    "\n",
    "# Training the model\n",
    "import tensorflow as tf\n",
    "from tensorflow.keras import layers\n",
    "tf.random.set_seed(0)\n",
    "dnn = tf.keras.Sequential()\n",
    "dnn.add(layers.Conv2D(filters=64, kernel_size=(3,3),\\\n",
    "                      activation=\"relu\", input_shape=(32,32,1)))\n",
    "dnn.add(layers.MaxPooling2D(pool_size=(2,2)))\n",
    "dnn.add(layers.Conv2D(filters=32, kernel_size=(3,3), activation=\"relu\"))\n",
    "dnn.add(layers.MaxPooling2D(pool_size=(2,2)))\n",
    "dnn.add(layers.Flatten())\n",
    "dnn.add(layers.Dense(units=128, activation=\"relu\"))\n",
    "dnn.add(layers.Dropout(rate=0.2))\n",
    "dnn.add(layers.Dense(1, activation='sigmoid'))\n",
    "dnn.compile(optimizer=\"adam\", \n",
    "            loss=\"binary_crossentropy\",\n",
    "            metrics=[\"accuracy\"])\n",
    "hist = dnn.fit(X_train, y_train, \n",
    "                  validation_data=(X_test, y_test),\n",
    "                  verbose=0, epochs=125)\n",
    "dnn.save('files/ch06/binary_conv.h5')"
   ]
  },
  {
   "cell_type": "markdown",
   "id": "c2e572b4",
   "metadata": {},
   "source": [
    "Note that I have also added in a dropout layer to control for overfitting.\n",
    "\n",
    "Now that the model is trained, we can look at the accuracy of the model during the training process."
   ]
  },
  {
   "cell_type": "code",
   "execution_count": 38,
   "id": "ffd7e826",
   "metadata": {},
   "outputs": [
    {
     "data": {
      "image/png": "[encoded data removed]",
      "text/plain": [
       "<Figure size 432x288 with 1 Axes>"
      ]
     },
     "metadata": {
      "needs_background": "light"
     },
     "output_type": "display_data"
    }
   ],
   "source": [
    "# View the training and validation loss \n",
    "plt.plot(hist.history[\"accuracy\"],label='Traning Accuracy',color=\"r\")\n",
    "plt.plot(hist.history[\"val_accuracy\"],label='Validation Accuracy',color=\"g\")\n",
    "plt.legend()\n",
    "plt.show()"
   ]
  },
  {
   "cell_type": "markdown",
   "id": "acc6bf47",
   "metadata": {},
   "source": [
    "The graph clearly shows overfitting in the training process because the accuracy in the training dataset reaches 100% after about 50 epochs. The accuracy in the testing dataset is close to 70% after about 70 epochs. \n",
    "\n",
    "Below, we print out the confusion matrix, and the exact accuracy score."
   ]
  },
  {
   "cell_type": "code",
   "execution_count": 39,
   "id": "3d37660f",
   "metadata": {},
   "outputs": [
    {
     "name": "stdout",
     "output_type": "stream",
     "text": [
      "2/2 [==============================] - 0s 6ms/step\n",
      "the confusion matrix is\n",
      " [[17  7]\n",
      " [ 6 11]]\n",
      "the accuracy of the prediction is 0.6829268292682927\n"
     ]
    }
   ],
   "source": [
    "from sklearn.metrics import confusion_matrix\n",
    "from sklearn.metrics import accuracy_score\n",
    "pred_model=dnn.predict(X_test)\n",
    "# Convert values between 0 and 1 to Y or N \n",
    "pred_yn = np.where(pred_model > 0.5, 1, 0)\n",
    "\n",
    "ma5=confusion_matrix(y_test,pred_yn)\n",
    "print(\"the confusion matrix is\\n\", ma5) \n",
    "\n",
    "# Print out the accuracy score\n",
    "accuracy=accuracy_score(y_test,pred_yn)\n",
    "print(f\"the accuracy of the prediction is {accuracy}\") "
   ]
  },
  {
   "cell_type": "markdown",
   "id": "cf542256",
   "metadata": {},
   "source": [
    "The confusion matrix shows that the new model now predicts 17 true negative, 11 true positives, 7 false positives, and 6 false negatives. \n",
    "\n",
    "The accuracy score is 68.29%. \n",
    "\n",
    "This is quite an improvement over the predictions in Chapter 5, when we used only dense layers. If you recall, the accuracy score with only dense layers is 60.98%. "
   ]
  },
  {
   "cell_type": "code",
   "execution_count": null,
   "id": "0cd17062",
   "metadata": {},
   "outputs": [],
   "source": []
  }
 ],
 "metadata": {
  "kernelspec": {
   "display_name": "Python 3 (ipykernel)",
   "language": "python",
   "name": "python3"
  },
  "language_info": {
   "codemirror_mode": {
    "name": "ipython",
    "version": 3
   },
   "file_extension": ".py",
   "mimetype": "text/x-python",
   "name": "python",
   "nbconvert_exporter": "python",
   "pygments_lexer": "ipython3",
   "version": "3.9.12"
  }
 },
 "nbformat": 4,
 "nbformat_minor": 5
}
