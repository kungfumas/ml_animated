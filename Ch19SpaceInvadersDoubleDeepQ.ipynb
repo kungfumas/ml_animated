{
 "cells": [
  {
   "cell_type": "markdown",
   "id": "653089c9",
   "metadata": {},
   "source": [
    "# Chapter 19: Space Invaders with Double Deep Q Learning\n",
    "\n",
    "In Chapter 18, you learned how to use a double deep Q network to train the agent in the Breakout game to send the ball to the back of the wall to score more efficiently. The trained agent is able to eliminate almost all bricks on the screen. \n",
    "\n",
    "In this chapter, you'll apply the double deep Q learning to another Atari game, Space Invaders. You'll learn the features of the game that are different from the Breakout game so that you know how to tweak the training process. \n",
    "\n",
    "You then feed the raw pixels to the double deep Q network to train the agent. Even though the agent does not know the rules of the Space Invaders game, it has managed to eliminate all invaders on the screen, just by learning from the reward system via repeated interactions with the game environment. \n",
    "\n",
    "At the end of the chapter, you'll learn how to capture an episode of the game in which the trained agent eliminates all invaders. You'll also learn how to enhance the quality of the graphs so that the animation has four times the resolution as the original OpenAI Gym videos. The animation is below (notice the high resolution):<br>\n",
    "\n",
    "\n",
    "<img src=\"https://gattonweb.uky.edu/faculty/lium/ml/spaceinvaders_enhanced.gif\" />"
   ]
  },
  {
   "cell_type": "markdown",
   "id": "e3b25bf6",
   "metadata": {},
   "source": [
    "***\n",
    "$\\mathbf{\\text{Create a subfolder for files in Chapter 19}}$<br>\n",
    "***\n",
    "We'll put all files in Chapter 19 in a subfolder /files/ch19. The code in the cell below will create the subfolder.\n",
    "\n",
    "***"
   ]
  },
  {
   "cell_type": "code",
   "execution_count": 1,
   "id": "117477d3",
   "metadata": {},
   "outputs": [],
   "source": [
    "import os\n",
    "\n",
    "os.makedirs(\"files/ch19\", exist_ok=True)"
   ]
  },
  {
   "cell_type": "markdown",
   "id": "2f7dbb5c",
   "metadata": {},
   "source": [
    "## 1. Get Started with the Space Invaders Game\n",
    "\n",
    "In this section, you'll learn how to play the Space Invaders game, both with and without the help from the baselines package. I'll focus on the features that are important in terms of training game strategies."
   ]
  },
  {
   "cell_type": "markdown",
   "id": "a0b7aaab",
   "metadata": {},
   "source": [
    "### 1.1. The Space Invaders Game in OpenAI Gym\n",
    "\n",
    "You'll first learn to play the Space Invaders game in OpenAI Gym.\n",
    "\n",
    "The lines of code below will get you started."
   ]
  },
  {
   "cell_type": "code",
   "execution_count": 1,
   "id": "298f0170",
   "metadata": {},
   "outputs": [
    {
     "data": {
      "text/plain": [
       "True"
      ]
     },
     "execution_count": 1,
     "metadata": {},
     "output_type": "execute_result"
    }
   ],
   "source": [
    "import gym\n",
    "env = gym.make(\"SpaceInvaders-v0\")\n",
    "env.reset()\n",
    "env.render()"
   ]
  },
  {
   "cell_type": "markdown",
   "id": "0e26b04e",
   "metadata": {},
   "source": [
    "You should see a Space Invaders game frame in a separate window. \n",
    "\n",
    "You can check the action space and observation space of the game as follows:"
   ]
  },
  {
   "cell_type": "code",
   "execution_count": 4,
   "id": "48ee5e38",
   "metadata": {},
   "outputs": [
    {
     "name": "stdout",
     "output_type": "stream",
     "text": [
      "The action space for the Space Invaders game is Discrete(6)\n",
      "The meanings of the actions for the Space Invaders game are\n",
      " ['NOOP', 'FIRE', 'RIGHT', 'LEFT', 'RIGHTFIRE', 'LEFTFIRE']\n",
      "The observation space for the Space Invaders game is Box(210, 160, 3)\n"
     ]
    }
   ],
   "source": [
    "# Print out all possible actions in this game\n",
    "actions = env.action_space\n",
    "print(f\"The action space for the Space Invaders game is {actions}\")\n",
    "meanings = env.env.get_action_meanings()\n",
    "print(f\"The meanings of the actions for the Space Invaders game are\\n {meanings}\")\n",
    "\n",
    "# Print out the observation space in this game\n",
    "obs_space = env.observation_space\n",
    "print(f\"The observation space for the Space Invaders game is {obs_space}\")"
   ]
  },
  {
   "cell_type": "markdown",
   "id": "86a68bf5",
   "metadata": {},
   "source": [
    "There are six possible actions the agent can take: \n",
    "* action 0: doing nothing\n",
    "* action 1: firing bullets\n",
    "* action 2: moving to the right\n",
    "* action 3: moving to the left\n",
    "* action 4: moving to the right and firing bullets\n",
    "* action 5: moving to the left and firing bullets\n",
    "\n",
    "Each observation is a color picture that is 210 pixels tall and 160 pixels wide. The following cell displays an observation."
   ]
  },
  {
   "cell_type": "code",
   "execution_count": 7,
   "id": "1401e695",
   "metadata": {},
   "outputs": [
    {
     "data": {
      "image/png": "[encoded data removed]",
      "text/plain": [
       "<Figure size 432x288 with 1 Axes>"
      ]
     },
     "metadata": {
      "needs_background": "light"
     },
     "output_type": "display_data"
    }
   ],
   "source": [
    "import matplotlib.pyplot as plt\n",
    "import numpy as np\n",
    "\n",
    "num_actions = env.action_space.n\n",
    "\n",
    "env.reset()\n",
    "\n",
    "for _ in range(20):\n",
    "    action = np.random.choice(num_actions)\n",
    "    obs, reward, done, info = env.step(action)\n",
    "plt.imshow(obs)\n",
    "plt.show()\n",
    "env.close()"
   ]
  },
  {
   "cell_type": "markdown",
   "id": "233a9c5f",
   "metadata": {},
   "source": [
    "The number of lives left is displayed at the bottom and the scores are displayed at the top."
   ]
  },
  {
   "cell_type": "markdown",
   "id": "6893fff0",
   "metadata": {},
   "source": [
    "Next, you'll print out the outputs of the game to understand the reward system."
   ]
  },
  {
   "cell_type": "code",
   "execution_count": 14,
   "id": "5859b2ed",
   "metadata": {},
   "outputs": [
    {
     "name": "stdout",
     "output_type": "stream",
     "text": [
      "[[0.0, False, {'ale.lives': 3}],\n",
      " [0.0, False, {'ale.lives': 3}],\n",
      " [0.0, False, {'ale.lives': 3}],\n",
      " [0.0, False, {'ale.lives': 3}],\n",
      " [0.0, False, {'ale.lives': 3}],\n",
      " [0.0, False, {'ale.lives': 3}],\n",
      " [0.0, False, {'ale.lives': 3}],\n",
      " [0.0, False, {'ale.lives': 3}],\n",
      " [0.0, False, {'ale.lives': 3}],\n",
      " [0.0, False, {'ale.lives': 2}]]\n"
     ]
    }
   ],
   "source": [
    "import gym\n",
    "from pprint import pprint\n",
    "env = gym.make(\"SpaceInvaders-v0\")\n",
    "env.reset()\n",
    "env.render()\n",
    "\n",
    "history = []\n",
    "while True:\n",
    "    action = np.random.choice(num_actions)\n",
    "    obs, reward, done, info = env.step(action)\n",
    "    env.render()\n",
    "    history.append([reward, done, info])\n",
    "    if info[\"ale.lives\"]==2:\n",
    "        pprint(history[-10:])\n",
    "        break\n",
    "env.close()        "
   ]
  },
  {
   "cell_type": "markdown",
   "id": "a3ebb437",
   "metadata": {},
   "source": [
    "The agent has three lives in this game. When one life is lost, the reward is still 0, not -1 as in the Pong game. Further, the variable *done* is still False after a life is lost. The variable *done* turns True only after all three lives are lost.\n",
    "\n",
    "Therefore, we need the help of the baselines package to break an episode into smaller episodes. "
   ]
  },
  {
   "cell_type": "markdown",
   "id": "80f59a55",
   "metadata": {},
   "source": [
    "### 1.2. The Space Invaders Game with the OpenAI Baselines\n",
    "\n",
    "With the baselines game wrapper, the agent has one life in each episode. That is, each time the agent loses a life, the episode ends and the variable done turns True. This makes reconfiguring the reward system much easier. Each time the game ends (i.e., done==True), we set the Q-value to -1. This is crucial for the success of the training. \n",
    "\n",
    "Let's make sure that's indeed the case. Run the code in the cell below."
   ]
  },
  {
   "cell_type": "code",
   "execution_count": 16,
   "id": "adfa3a2c",
   "metadata": {},
   "outputs": [
    {
     "name": "stdout",
     "output_type": "stream",
     "text": [
      "[[1, 0.0, False, {'ale.lives': 3}],\n",
      " [3, 0.0, False, {'ale.lives': 3}],\n",
      " [4, 0.0, False, {'ale.lives': 3}],\n",
      " [1, 0.0, False, {'ale.lives': 3}],\n",
      " [5, 0.0, False, {'ale.lives': 3}],\n",
      " [1, 0.0, False, {'ale.lives': 3}],\n",
      " [2, 0.0, False, {'ale.lives': 3}],\n",
      " [1, 0.0, False, {'ale.lives': 3}],\n",
      " [5, 0.0, False, {'ale.lives': 3}],\n",
      " [1, 0.0, True, {'ale.lives': 2}]]\n"
     ]
    }
   ],
   "source": [
    "from baselines.common.atari_wrappers import make_atari, wrap_deepmind\n",
    "\n",
    "# Use the Baseline Atari environment\n",
    "env = make_atari(\"SpaceInvadersNoFrameskip-v4\")\n",
    "# Process and stack the frames\n",
    "env = wrap_deepmind(env, frame_stack=True, scale=True)\n",
    "\n",
    "obs = env.reset()\n",
    "history = []\n",
    "while True:\n",
    "    # randomly pick actions\n",
    "    action = env.action_space.sample()\n",
    "    obs, reward, done, info = env.step(action)\n",
    "    history.append([action, reward, done, info])\n",
    "    # Render the env\n",
    "    env.render()\n",
    "    if done:\n",
    "        pprint(history[-10:])\n",
    "        break\n",
    "       "
   ]
  },
  {
   "cell_type": "markdown",
   "id": "97a28c47",
   "metadata": {},
   "source": [
    "As you can see, when the number of lives changes from 3 to 2, the variable done becomes True and the episode ends. Note that the reward is still 0, but we can code it as -1 by using this line of code; you'll see it in the script for training later:\n",
    "\n",
    "```python\n",
    "    # Each time the agent loses a life, set Q to -1; important\n",
    "    new_Qs = Qs * (1 - dones) - dones\n",
    "```"
   ]
  },
  {
   "cell_type": "markdown",
   "id": "1afebfcb",
   "metadata": {},
   "source": [
    "Run the following to close the game window."
   ]
  },
  {
   "cell_type": "code",
   "execution_count": 17,
   "id": "acb2f596",
   "metadata": {},
   "outputs": [],
   "source": [
    "env.close()"
   ]
  },
  {
   "cell_type": "markdown",
   "id": "20db9147",
   "metadata": {},
   "source": [
    "### 1.3. Preprocessed Frames from the OpenAI Baselines\n",
    "\n",
    "The baselines game wrapper preprocesses the game images for you. In every time step, it returns four consecutive frames of preprocessed images, each with a size of 84 by 84.  \n",
    "\n",
    "Let's visualize the preprocessed images from the baseline package. Run the code in the cell below."
   ]
  },
  {
   "cell_type": "code",
   "execution_count": 18,
   "id": "02285e44",
   "metadata": {},
   "outputs": [
    {
     "name": "stderr",
     "output_type": "stream",
     "text": [
      "Exception ignored in: <function SimpleImageViewer.__del__ at 0x0000016179E28E50>\n",
      "Traceback (most recent call last):\n",
      "  File \"C:\\Users\\hlliu2\\Anaconda3\\envs\\animatedML\\lib\\site-packages\\gym\\envs\\classic_control\\rendering.py\", line 369, in __del__\n",
      "    self.close()\n",
      "  File \"C:\\Users\\hlliu2\\Anaconda3\\envs\\animatedML\\lib\\site-packages\\gym\\envs\\classic_control\\rendering.py\", line 365, in close\n",
      "    self.window.close()\n",
      "  File \"C:\\Users\\hlliu2\\Anaconda3\\envs\\animatedML\\lib\\site-packages\\pyglet\\window\\win32\\__init__.py\", line 299, in close\n",
      "    super(Win32Window, self).close()\n",
      "  File \"C:\\Users\\hlliu2\\Anaconda3\\envs\\animatedML\\lib\\site-packages\\pyglet\\window\\__init__.py\", line 823, in close\n",
      "    app.windows.remove(self)\n",
      "  File \"C:\\Users\\hlliu2\\Anaconda3\\envs\\animatedML\\lib\\_weakrefset.py\", line 114, in remove\n",
      "    self.data.remove(ref(item))\n",
      "KeyError: <weakref at 0x00000161037F4040; to 'Win32Window' at 0x00000161037C4A90>\n"
     ]
    },
    {
     "data": {
      "image/png": "[encoded data removed]",
      "text/plain": [
       "<Figure size 432x288 with 1 Axes>"
      ]
     },
     "metadata": {
      "needs_background": "light"
     },
     "output_type": "display_data"
    },
    {
     "data": {
      "image/png": "[encoded data removed]",
      "text/plain": [
       "<Figure size 432x288 with 1 Axes>"
      ]
     },
     "metadata": {
      "needs_background": "light"
     },
     "output_type": "display_data"
    },
    {
     "data": {
      "image/png": "[encoded data removed]",
      "text/plain": [
       "<Figure size 432x288 with 1 Axes>"
      ]
     },
     "metadata": {
      "needs_background": "light"
     },
     "output_type": "display_data"
    },
    {
     "data": {
      "image/png": "[encoded data removed]",
      "text/plain": [
       "<Figure size 432x288 with 1 Axes>"
      ]
     },
     "metadata": {
      "needs_background": "light"
     },
     "output_type": "display_data"
    }
   ],
   "source": [
    "import matplotlib.pyplot as plt\n",
    "import numpy as np\n",
    "\n",
    "npobs=np.array(obs)\n",
    "for i in range(4):\n",
    "    plt.imshow(npobs[:,:,i])\n",
    "    plt.show()"
   ]
  },
  {
   "cell_type": "markdown",
   "id": "d81d3164",
   "metadata": {},
   "source": [
    "You can see the four consecutive frames. "
   ]
  },
  {
   "cell_type": "markdown",
   "id": "7daa4284",
   "metadata": {},
   "source": [
    "## 2. Use the Double Deep Q Network to Train the Agent\n",
    "We can use the same Double Deep Q Network in Chapter 18 to train the Space Invaders game. The only thing we need to change is the number of actions. In the Breakout game, the number of actions is 4. In the Space Invaders game, the number of actions is 6. So we need to change it accordingly."
   ]
  },
  {
   "cell_type": "markdown",
   "id": "d1d2bf6b",
   "metadata": {},
   "source": [
    "We'll use the same script we used in Chapter 18, which in turn is largely based on the example script by Jacob Chapman and Mathias Lechner https://keras.io/examples/rl/deep_q_network_breakout/. "
   ]
  },
  {
   "cell_type": "code",
   "execution_count": null,
   "id": "64090c0d",
   "metadata": {},
   "outputs": [],
   "source": [
    "import random\n",
    "from collections import deque\n",
    "import numpy as np\n",
    "import tensorflow as tf\n",
    "from tensorflow.keras import layers\n",
    "from baselines.common.atari_wrappers import make_atari\n",
    "from baselines.common.atari_wrappers import wrap_deepmind\n",
    "\n",
    "# Use the Baseline Atari environment\n",
    "env = make_atari(\"SpaceInvadersNoFrameskip-v4\")\n",
    "# Process and stack the frames\n",
    "env = wrap_deepmind(env, frame_stack=True, scale=True)\n",
    "\n",
    "# Discount factor for past rewards\n",
    "gamma = 0.99 \n",
    "# batch size\n",
    "batch_size = 32  \n",
    "\n",
    "# The number of actions in Space Invaders is 6\n",
    "num_actions = 6\n",
    "\n",
    "# The same double Q deep neural network, applies to all Atari games\n",
    "def create_model():\n",
    "    # Network defined by the Deepmind paper\n",
    "    inputs = layers.Input(shape=(84, 84, 4,))\n",
    "    # Convolutions on the frames on the screen\n",
    "    layer1 = layers.Conv2D(32, 8, strides=4, activation=\"relu\")(inputs)\n",
    "    layer2 = layers.Conv2D(64, 4, strides=2, activation=\"relu\")(layer1)\n",
    "    layer3 = layers.Conv2D(64, 3, strides=1, activation=\"relu\")(layer2)\n",
    "    layer4 = layers.Flatten()(layer3)\n",
    "    layer5 = layers.Dense(512, activation=\"relu\")(layer4)\n",
    "    action = layers.Dense(num_actions, activation=\"linear\")(layer5)\n",
    "    return tf.keras.Model(inputs=inputs, outputs=action)\n",
    "\n",
    "# Double Deep Q Learning here\n",
    "# The model predicts Q-values, to determine action \n",
    "dnn=create_model()\n",
    "# Target model predicts future rewards\n",
    "# The weights of a target model are updated every 10000 frames thus when the\n",
    "# loss between the Q-values is calculated the target Q-value is stable.\n",
    "target_dnn=create_model()\n",
    "\n",
    "# Optimizer and loss function\n",
    "optimizer = tf.keras.optimizers.Adam(learning_rate=0.00025, clipnorm=1.0)\n",
    "loss_function = tf.keras.losses.Huber()\n",
    "\n",
    "# See how many trainable parameters in the deep neural network\n",
    "print(dnn.summary())\n",
    "\n",
    "# Create a replay buffer with a maximum length of 50000\n",
    "# If you don't have enough memory on your computer, change it to 20000\n",
    "memory=deque(maxlen=50000)\n",
    "# Create a running rewards list with a length of 100\n",
    "running_rewards=deque(maxlen=100)\n",
    "\n",
    "# Replay and update model parameters\n",
    "def replay():\n",
    "    # select a batch from the buffer memory\n",
    "    samples = random.sample(memory,batch_size)\n",
    "    dones = []\n",
    "    frames = []\n",
    "    new_frames = []\n",
    "    rewards = []\n",
    "    actions = []\n",
    "    for sample in samples:\n",
    "        frame, new_frame, action, reward, done = sample\n",
    "        frames.append(frame)\n",
    "        new_frames.append(new_frame)\n",
    "        actions.append(action)\n",
    "        dones.append(done)\n",
    "        rewards.append(reward)\n",
    "    frames=np.array(frames)\n",
    "    new_frames=np.array(new_frames)\n",
    "    dones=tf.convert_to_tensor(dones)\n",
    "\n",
    "    # update the Q table\n",
    "    preds = target_dnn.predict(new_frames, verbose=0)\n",
    "    Qs = rewards + gamma * tf.reduce_max(preds, axis=1)\n",
    "    # Each time the agent loses a life, set Q to -1; important\n",
    "    new_Qs = Qs * (1 - dones) - dones\n",
    "\n",
    "    # update model parameters\n",
    "    onehot = tf.one_hot(actions, num_actions)\n",
    "    with tf.GradientTape() as t:\n",
    "        Q_preds = dnn(frames)\n",
    "        # Calculate old Qs for the action taken\n",
    "        old_Qs = tf.reduce_sum(tf.multiply(Q_preds, onehot),axis=1)\n",
    "        # Calculate loss between new Qs and old Qs\n",
    "        loss = loss_function(new_Qs, old_Qs)\n",
    "    # Update using backpropagation\n",
    "    gs = t.gradient(loss,dnn.trainable_variables)\n",
    "    optimizer.apply_gradients(zip(gs,dnn.trainable_variables))\n",
    "    \n",
    "# Let the game begin\n",
    "running_reward = 0\n",
    "frame_count = 0\n",
    "# Number of frames to take random action and observe output\n",
    "epsilon_random_frames = 50000\n",
    "\n",
    "# Train the model after 4 actions\n",
    "update_after_actions = 4\n",
    "# How often to update the target network\n",
    "update_target_network = 10000\n",
    "\n",
    "for episode in range(1, 100000): \n",
    "    # reset state and episode reward before each episode\n",
    "    state = np.array(env.reset())\n",
    "    episode_reward = 0\n",
    "    \n",
    "    # Allow 10,000 steps per episode\n",
    "    for timestep in range(1, 10001):\n",
    "        frame_count += 1\n",
    "        # Calculate current epsilon based on frame count\n",
    "        epsilon = max(0.1, 1 - frame_count * (1-0.1) /1000000)\n",
    "        # Use epsilon-greedy for exploration\n",
    "        if frame_count < epsilon_random_frames or epsilon > np.random.rand(1)[0]:\n",
    "            # Take random action\n",
    "            action = np.random.choice(num_actions)\n",
    "        # Use exploitation\n",
    "        else:\n",
    "            # Predict action Q-values\n",
    "            # From environment state\n",
    "            state_tensor = tf.convert_to_tensor(state)\n",
    "            state_tensor = tf.expand_dims(state_tensor, 0)\n",
    "            action_probs = dnn(state_tensor, training=False)\n",
    "            # Take best action\n",
    "            action = tf.argmax(action_probs[0]).numpy()\n",
    "\n",
    "        # Apply the sampled action in our environment\n",
    "        state_next, reward, done, _ = env.step(action)\n",
    "        state_next = np.array(state_next)\n",
    "        episode_reward += reward\n",
    "        # Change done from True/False to 1.0 or 0.0 to prevent error\n",
    "        if done==True:\n",
    "            done=1.0\n",
    "        else:\n",
    "            done=0.0\n",
    "        # Save actions and states in replay buffer\n",
    "        memory.append([state, state_next, action, reward, done])\n",
    "        # current state becomes the next state in next round\n",
    "        state = state_next\n",
    "\n",
    "        # Update every fourth frame and once batch size is over 32\n",
    "        if frame_count % update_after_actions == 0 and len(memory) > batch_size:\n",
    "            replay()\n",
    "\n",
    "        if frame_count % update_target_network == 0:\n",
    "            # update the the target network with new weights\n",
    "            target_dnn.set_weights(dnn.get_weights())\n",
    "            running_reward = np.mean(np.array(running_rewards))\n",
    "            # Log details\n",
    "            template = \"running reward: {:.2f} at episode {}, frame count {}\"\n",
    "            print(template.format(running_reward, episode, frame_count))\n",
    "            # Periodically save the model\n",
    "            dnn.save(\"files/ch19/DoubleQ_SpaceInvaders.h5\")\n",
    "        if done==1.0:\n",
    "            running_rewards.append(episode_reward)\n",
    "            break\n",
    "    # Condition to consider the task solved\n",
    "    if running_reward > 40:  \n",
    "        print(f\"Solved at episode {episode}!\")\n",
    "        # save the final model\n",
    "        dnn.save(\"files/ch19/DoubleQ_SpaceInvaders_final.h5\")        \n",
    "        break"
   ]
  },
  {
   "cell_type": "markdown",
   "id": "449b783b",
   "metadata": {},
   "source": [
    "The number of trainable parameters is 1,687,206. The model takes several days to train. But you can use a trained model saved as files/ch19/spaceinvaders.h5. "
   ]
  },
  {
   "cell_type": "markdown",
   "id": "2558834a",
   "metadata": {},
   "source": [
    "## 3. Test the Trained Model\n",
    "Next, you'll first play three episodes of the game using the pre-trained model, so that you can visualize the pre-trained model in action. \n",
    "\n",
    "After that, you'll play the game 30 episodes and see what the average score is, without the graphical rendering of the game frames. "
   ]
  },
  {
   "cell_type": "markdown",
   "id": "f042ac6e",
   "metadata": {},
   "source": [
    "### 3.1. Testing One Original Episode\n",
    "The original Atari Space Invaders game has 3 lives in each episode. But the baseline package breaks it down to 3 smaller episodes, each with one life. \n",
    "\n",
    "Here you'll play the game 3 consecutive episodes with the baseline package so that you'll have one full original episode. \n",
    "\n",
    "You'll turn on the graphical rendering of the game frames so that you can visualize the game in action."
   ]
  },
  {
   "cell_type": "code",
   "execution_count": 21,
   "id": "619c3cbb",
   "metadata": {},
   "outputs": [
    {
     "name": "stdout",
     "output_type": "stream",
     "text": [
      "WARNING:tensorflow:No training configuration found in the save file, so the model was *not* compiled. Compile it manually.\n"
     ]
    }
   ],
   "source": [
    "import numpy as np\n",
    "from baselines.common.atari_wrappers import make_atari, wrap_deepmind\n",
    "import tensorflow as tf\n",
    "\n",
    "reload = tf.keras.models.load_model(\"files/ch19/spaceinvaders.h5\")\n",
    "num_actions = 6\n",
    "\n",
    "# Use the Baseline Atari environment\n",
    "env = make_atari(\"SpaceInvadersNoFrameskip-v4\")\n",
    "# Process and stack the frames\n",
    "env = wrap_deepmind(env, frame_stack=True, scale=True)\n",
    "\n",
    "for i in range(3):\n",
    "    state = env.reset()\n",
    "    for j in range(10000):\n",
    "        if np.random.rand(1)[0]<0.01:\n",
    "            action = np.random.choice(num_actions)\n",
    "        else:\n",
    "            state_tensor = tf.convert_to_tensor(state)\n",
    "            state_tensor = tf.expand_dims(state_tensor, 0)\n",
    "            action_probs = reload(state_tensor, training=False)\n",
    "            # Take the best action\n",
    "            action = tf.argmax(action_probs[0]).numpy()    \n",
    "        obs, reward, done, info = env.step(action)\n",
    "        env.render()\n",
    "        state=obs\n",
    "        if done:\n",
    "            break\n",
    "\n",
    "env.close()"
   ]
  },
  {
   "cell_type": "markdown",
   "id": "70243134",
   "metadata": {},
   "source": [
    "The trained model is able to eliminate all invaders in most episodes. You can try the above code several times.  "
   ]
  },
  {
   "cell_type": "markdown",
   "id": "3058e09d",
   "metadata": {},
   "source": [
    "### 3.2. Play Multiple Games and Test the Average Score"
   ]
  },
  {
   "cell_type": "markdown",
   "id": "2514ab27",
   "metadata": {},
   "source": [
    "We now play 30 games and turn off the graphical rendering. We'll see what the average score is.  "
   ]
  },
  {
   "cell_type": "code",
   "execution_count": 22,
   "id": "245a2649",
   "metadata": {},
   "outputs": [
    {
     "name": "stdout",
     "output_type": "stream",
     "text": [
      "WARNING:tensorflow:No training configuration found in the save file, so the model was *not* compiled. Compile it manually.\n",
      "the score in episode 1 is 16.0\n",
      "the score in episode 2 is 12.0\n",
      "the score in episode 3 is 5.0\n",
      "the score in episode 4 is 16.0\n",
      "the score in episode 5 is 19.0\n",
      "the score in episode 6 is 0.0\n",
      "the score in episode 7 is 34.0\n",
      "the score in episode 8 is 0.0\n",
      "the score in episode 9 is 0.0\n",
      "the score in episode 10 is 12.0\n",
      "the score in episode 11 is 4.0\n",
      "the score in episode 12 is 19.0\n",
      "the score in episode 13 is 12.0\n",
      "the score in episode 14 is 14.0\n",
      "the score in episode 15 is 6.0\n",
      "the score in episode 16 is 15.0\n",
      "the score in episode 17 is 13.0\n",
      "the score in episode 18 is 3.0\n",
      "the score in episode 19 is 12.0\n",
      "the score in episode 20 is 19.0\n",
      "the score in episode 21 is 3.0\n",
      "the score in episode 22 is 12.0\n",
      "the score in episode 23 is 19.0\n",
      "the score in episode 24 is 5.0\n",
      "the score in episode 25 is 15.0\n",
      "the score in episode 26 is 19.0\n",
      "the score in episode 27 is 1.0\n",
      "the score in episode 28 is 34.0\n",
      "the score in episode 29 is 9.0\n",
      "the score in episode 30 is 24.0\n",
      "the average score is 12.4\n"
     ]
    }
   ],
   "source": [
    "import numpy as np\n",
    "from baselines.common.atari_wrappers import make_atari, wrap_deepmind\n",
    "import tensorflow as tf\n",
    "\n",
    "reload = tf.keras.models.load_model(\"files/ch19/spaceinvaders.h5\")\n",
    "\n",
    "# Use the Baseline Atari environment\n",
    "env = make_atari(\"SpaceInvadersNoFrameskip-v4\")\n",
    "# Process and stack the frames\n",
    "env = wrap_deepmind(env, frame_stack=True, scale=True)\n",
    "scores = []\n",
    "for i in range(30):\n",
    "    state = env.reset()\n",
    "    score = 0\n",
    "    for j in range(10000):\n",
    "        if np.random.rand(1)[0]<0.01:\n",
    "            action = np.random.choice(4)\n",
    "        else:\n",
    "            state_tensor = tf.convert_to_tensor(state)\n",
    "            state_tensor = tf.expand_dims(state_tensor, 0)\n",
    "            action_probs = reload(state_tensor, training=False)\n",
    "            # Take the best action\n",
    "            action = tf.argmax(action_probs[0]).numpy()    \n",
    "        obs, reward, done, info = env.step(action)\n",
    "        #env.render()\n",
    "        state=obs\n",
    "        score += reward\n",
    "        if done:\n",
    "            print(f\"the score in episode {i+1} is {score}\")\n",
    "            scores.append(score)\n",
    "            break\n",
    "env.close()\n",
    "\n",
    "print(f\"the average score is {np.array(scores).mean()}\")"
   ]
  },
  {
   "cell_type": "markdown",
   "id": "3c4b7b39",
   "metadata": {},
   "source": [
    "The average score is about 12 per episode."
   ]
  },
  {
   "cell_type": "markdown",
   "id": "2afdb60c",
   "metadata": {},
   "source": [
    "## 4. Animate Successful Episodes\n",
    "We'll highlight episodes where the agent eliminates all invaders."
   ]
  },
  {
   "cell_type": "markdown",
   "id": "5ec2649d",
   "metadata": {},
   "source": [
    "### 4.1. Collect Successful Episodes\n",
    "We'll first record 15 episodes, and this is equivalent to five full original Atari Space Invaders game. \n",
    "\n",
    "The script below accomplishes that."
   ]
  },
  {
   "cell_type": "code",
   "execution_count": 24,
   "id": "c60f2169",
   "metadata": {},
   "outputs": [],
   "source": [
    "import imageio\n",
    "\n",
    "frames = []\n",
    "for i in range(15):\n",
    "    state = env.reset()\n",
    "    episode_frames = []\n",
    "    for j in range(10000):\n",
    "        if np.random.rand(1)[0]<0.01:\n",
    "            action = np.random.choice(4)\n",
    "        else:\n",
    "            state_tensor = tf.convert_to_tensor(state)\n",
    "            state_tensor = tf.expand_dims(state_tensor, 0)\n",
    "            action_probs = reload(state_tensor, training=False)\n",
    "            # Take the best action\n",
    "            action = tf.argmax(action_probs[0]).numpy()    \n",
    "        obs, reward, done, info = env.step(action)\n",
    "        #env.render()\n",
    "        state=obs\n",
    "        episode_frames.append(env.render(mode='rgb_array'))\n",
    "        if done:\n",
    "            frames.append(episode_frames)\n",
    "            imageio.mimsave(f\"files/ch19/spaceinvaders_episode{i+1}.gif\", episode_frames, fps=240)\n",
    "            break\n",
    "env.close()\n",
    "\n",
    "import pickle \n",
    "pickle.dump(frames, open(f'files/ch19/spaceinvaders_frames.p', 'wb'))"
   ]
  },
  {
   "cell_type": "markdown",
   "id": "4cd1fd1b",
   "metadata": {},
   "source": [
    "You'll see 15 short animations in your local folder. You can watch every third episode to tell the ones in which the agent eliminates all invaders. "
   ]
  },
  {
   "cell_type": "markdown",
   "id": "85d6f6e2",
   "metadata": {},
   "source": [
    "### 4.2. Zoom in on Certain Steps\n",
    "Next, we'll zoom in on the steps of the game when the agent eliminates all invaders. \n",
    "For example, I will zoom in episodes 5 and 6 (the episodes for you will likely be different).\n",
    "\n",
    "Next, you'll combine those two episodes into one to show the actions of eliminating all invaders."
   ]
  },
  {
   "cell_type": "code",
   "execution_count": 28,
   "id": "f8f7fedb",
   "metadata": {},
   "outputs": [],
   "source": [
    "frames = pickle.load(open('files/ch19/spaceinvaders_frames.p', 'rb'))\n",
    "fs =frames[4]+frames[5]\n",
    "imageio.mimsave(\"files/ch19/spaceinvaders_highlight.gif\", fs[::2], fps=600)"
   ]
  },
  {
   "cell_type": "markdown",
   "id": "4d2b5e83",
   "metadata": {},
   "source": [
    "In the animation below, you can see that the agent has managed to eliminate all invaders."
   ]
  },
  {
   "cell_type": "code",
   "execution_count": 29,
   "id": "f0e25cb7",
   "metadata": {},
   "outputs": [
    {
     "data": {
      "text/html": [
       "<img src=\"https://gattonweb.uky.edu/faculty/lium/ml/spaceinvaders_highlight.gif\" />\n"
      ],
      "text/plain": [
       "<IPython.core.display.HTML object>"
      ]
     },
     "metadata": {},
     "output_type": "display_data"
    }
   ],
   "source": [
    "%%HTML\n",
    "<img src=\"https://gattonweb.uky.edu/faculty/lium/ml/spaceinvaders_highlight.gif\" />"
   ]
  },
  {
   "cell_type": "markdown",
   "id": "761f3862",
   "metadata": {},
   "source": [
    "### 4.3. Enhance the Resolution of Graphs and Animations\n",
    "Next, you'll learn a trick to enhance the resolution of a picture or a video.\n",
    "\n",
    "The *repeat()* method in ***numpy*** allows you to repeat all elements in a certain dimension. We'll use this trick to double the height and width of each frame so the animation will have four times the resolution of the original one. "
   ]
  },
  {
   "cell_type": "code",
   "execution_count": 31,
   "id": "d5e0b235",
   "metadata": {},
   "outputs": [],
   "source": [
    "frames = pickle.load(open('files/ch19/spaceinvaders_frames.p', 'rb'))\n",
    "fs =frames[4]+frames[5]\n",
    "enhanced = []\n",
    "for i in range(len(fs)):\n",
    "    if i%2==0:\n",
    "        f = fs[i].repeat(2, axis=0).repeat(2,axis=1)\n",
    "        enhanced.append(f)\n",
    "imageio.mimsave(\"files/ch19/spaceinvaders_enhanced.gif\", enhanced, fps=600)"
   ]
  },
  {
   "cell_type": "markdown",
   "id": "d3a5d28f",
   "metadata": {},
   "source": [
    "In the animation below, you can see that the agent has managed to eliminate all invaders. The video quality is four times of the previous one. "
   ]
  },
  {
   "cell_type": "code",
   "execution_count": 32,
   "id": "6106ee29",
   "metadata": {},
   "outputs": [
    {
     "data": {
      "text/html": [
       "<img src=\"https://gattonweb.uky.edu/faculty/lium/ml/spaceinvaders_enhanced.gif\" />\n"
      ],
      "text/plain": [
       "<IPython.core.display.HTML object>"
      ]
     },
     "metadata": {},
     "output_type": "display_data"
    }
   ],
   "source": [
    "%%HTML\n",
    "<img src=\"https://gattonweb.uky.edu/faculty/lium/ml/spaceinvaders_enhanced.gif\" />"
   ]
  },
  {
   "cell_type": "markdown",
   "id": "b9ee9ac8",
   "metadata": {},
   "source": [
    "This shows that we can easily apply the double deep Q network to other Atari games."
   ]
  }
 ],
 "metadata": {
  "kernelspec": {
   "display_name": "Python 3 (ipykernel)",
   "language": "python",
   "name": "python3"
  },
  "language_info": {
   "codemirror_mode": {
    "name": "ipython",
    "version": 3
   },
   "file_extension": ".py",
   "mimetype": "text/x-python",
   "name": "python",
   "nbconvert_exporter": "python",
   "pygments_lexer": "ipython3",
   "version": "3.9.12"
  }
 },
 "nbformat": 4,
 "nbformat_minor": 5
}
