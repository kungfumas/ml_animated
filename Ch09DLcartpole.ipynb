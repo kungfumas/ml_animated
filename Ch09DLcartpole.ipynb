{
 "cells": [
  {
   "cell_type": "markdown",
   "id": "653089c9",
   "metadata": {},
   "source": [
    "# Chapter 9: Apply Deep Learning to Any Game\n",
    "\n",
    "Games in the OpenAI Gym environment are designed for reinforcement learning, how to win a game with a deep learning game strategy sometimes proves challenging. \n",
    "\n",
    "The CartPole game is such a case. Winning is defined as making the Cart Pole stand upright for at least 195 consecutive steps. If we randomly choose actions, we'll end up with all losing games. Then the simulated data have no use for training purpose. \n",
    "\n",
    "In such cases, we need to be creative and redefine what's considered \"winning.\" Specifically, in this chapter, you'll use random actions to simulate 10,000 games. The last ten steps of the game are considered \"losing\" while all steps before that are considered \"winning.\" You can think of winning as the ability to stay upright for at least another ten steps. You can use other cutoff values such as 15 or 20 instead of 10 steps, and the strategy works just the same. \n",
    "\n",
    "After that, you'll feed the data into a deep neural network. Once the model is trained, the agent will ask the model this question: for the given situation, what's the probability of winning if I were to take move left hypothetically; also for the given situation, what's the probability of winning if I were to move right hypothetically?. The agent will pick the action with the higher probability of winning. Such a strategy will help the agent win the game 100% of the time. That is, the agent can stay upright for at least 195 steps in every game.\n",
    "\n",
    "At the end of this chapter, you'll create an animation to show how the game is played with and without deep learning strategy. Readers can see the two scenarios side by side. \n",
    "The animation looks as follows:\n",
    "<img src=\"https://gattonweb.uky.edu/faculty/lium/ml/compare_cartpole.gif\" />"
   ]
  },
  {
   "cell_type": "markdown",
   "id": "e3b25bf6",
   "metadata": {},
   "source": [
    "***\n",
    "$\\mathbf{\\text{Create a subfolder for files in Chapter 9}}$<br>\n",
    "***\n",
    "We'll put all files in Chapter 9 in a subfolder /files/ch09. The code in the cell below will create the subfolder.\n",
    "\n",
    "***"
   ]
  },
  {
   "cell_type": "code",
   "execution_count": 1,
   "id": "117477d3",
   "metadata": {},
   "outputs": [],
   "source": [
    "import os\n",
    "\n",
    "os.makedirs(\"files/ch09\", exist_ok=True)"
   ]
  },
  {
   "cell_type": "markdown",
   "id": "282ad876",
   "metadata": {},
   "source": [
    "## 1. Play the Cart Pole Game in OpenAI Gym\n",
    "As we discussed in Chapter 8, you need to install the ***gym*** library first. Further, we'll use version 0.15.7 of the library because newer versions are not compatible with the ***Baselines*** library, which we need to play the Atari games.\n",
    "\n",
    "Before you get started, install the OpenAI Gym library as follows:\n",
    "\n",
    "`pip install gym==0.15.7`\n"
   ]
  },
  {
   "cell_type": "markdown",
   "id": "eee28a4e",
   "metadata": {},
   "source": [
    "### 1.1. Features of the Cart Pole Game "
   ]
  },
  {
   "cell_type": "markdown",
   "id": "d963a4e3",
   "metadata": {},
   "source": [
    "If you go to the official Cartpole game website https://gym.openai.com/envs/CartPole-v0/. \n",
    "\n",
    "The problem is considered solved as getting an average reward of 195 or above in 100 consecutive trials. \n",
    "\n",
    "The code in the cell below will get you started:"
   ]
  },
  {
   "cell_type": "code",
   "execution_count": 1,
   "id": "15b9c0d7",
   "metadata": {},
   "outputs": [
    {
     "name": "stderr",
     "output_type": "stream",
     "text": [
      "C:\\Users\\mark\\.conda\\envs\\animatedML\\lib\\site-packages\\gym\\logger.py:30: UserWarning: \u001b[33mWARN: Box bound precision lowered by casting to float32\u001b[0m\n",
      "  warnings.warn(colorize('%s: %s'%('WARN', msg % args), 'yellow'))\n"
     ]
    },
    {
     "data": {
      "text/plain": [
       "True"
      ]
     },
     "execution_count": 1,
     "metadata": {},
     "output_type": "execute_result"
    }
   ],
   "source": [
    "import gym \n",
    " \n",
    "env = gym.make(\"CartPole-v0\")\n",
    "env.reset()                    \n",
    "env.render()"
   ]
  },
  {
   "cell_type": "markdown",
   "id": "a156ac04",
   "metadata": {},
   "source": [
    "\n",
    "We can also print out all possible actions and states of the game as follows:"
   ]
  },
  {
   "cell_type": "code",
   "execution_count": 3,
   "id": "052e7981",
   "metadata": {},
   "outputs": [
    {
     "name": "stdout",
     "output_type": "stream",
     "text": [
      "The action space in the Cart Pole game is Discrete(2)\n",
      "The state space in the Cart Pole game is Box(4,)\n"
     ]
    }
   ],
   "source": [
    "# Print out all possible actions in this game\n",
    "actions = env.action_space\n",
    "print(f\"The action space in the Cart Pole game is {actions}\")\n",
    "\n",
    "# Print out all possible states in this game\n",
    "states = env.observation_space\n",
    "print(f\"The state space in the Cart Pole game is {states}\")\n",
    "\n",
    "env.close()"
   ]
  },
  {
   "cell_type": "markdown",
   "id": "2033eed1",
   "metadata": {},
   "source": [
    "The action space in the Cart Pole game has two values: 0 and 1, with the following meanings:\n",
    "* 0: moving left\n",
    "* 1: moving right\n",
    "\n",
    "The state in the Cart Pole game is a collection of four values, with the following meanings:\n",
    "\n",
    "* The position of the cart, with values between -4.8 and 4.8; \n",
    "* The velociyt of the cart, with values between -4 and 4; \n",
    "* The angle of the pole, with values between -0.42 and 0.42;\n",
    "* The angular velocity of the pole, with values between -4 and 4; \n",
    "\n",
    "\n",
    "The agent earns a reward of 1 for every time that the pole stays upright. If the pole is more than 15 degrees from \n",
    " vertical or the cart moves more than 2.4 units from the center, the agent loses the game."
   ]
  },
  {
   "cell_type": "markdown",
   "id": "7444cdab",
   "metadata": {},
   "source": [
    "### 1.2. Play A Full Game\n",
    "You can play a complete game as follows by using random actions."
   ]
  },
  {
   "cell_type": "code",
   "execution_count": 4,
   "id": "629df3fb",
   "metadata": {},
   "outputs": [
    {
     "name": "stdout",
     "output_type": "stream",
     "text": [
      "0\n",
      "[-0.00077322 -0.1786936   0.00362296  0.28238639] 1.0 False {}\n",
      "0\n",
      "[-0.00434709 -0.37386704  0.00927069  0.57620978] 1.0 False {}\n",
      "1\n",
      "[-0.01182443 -0.17887626  0.02079488  0.28646172] 1.0 False {}\n",
      "1\n",
      "[-0.01540195  0.01594305  0.02652412  0.00040919] 1.0 False {}\n",
      "0\n",
      "[-0.01508309 -0.17954906  0.0265323   0.30134138] 1.0 False {}\n",
      "0\n",
      "[-0.01867407 -0.37503893  0.03255913  0.60227256] 1.0 False {}\n",
      "1\n",
      "[-0.02617485 -0.18038716  0.04460458  0.32002035] 1.0 False {}\n",
      "0\n",
      "[-0.0297826  -0.37611503  0.05100499  0.62642954] 1.0 False {}\n",
      "1\n",
      "[-0.0373049  -0.18174075  0.06353358  0.35023625] 1.0 False {}\n",
      "1\n",
      "[-0.04093971  0.01242282  0.0705383   0.07824482] 1.0 False {}\n",
      "0\n",
      "[-0.04069126 -0.18363572  0.0721032   0.39232236] 1.0 False {}\n",
      "0\n",
      "[-0.04436397 -0.37970288  0.07994965  0.70683892] 1.0 False {}\n",
      "1\n",
      "[-0.05195803 -0.18577423  0.09408642  0.44035529] 1.0 False {}\n",
      "0\n",
      "[-0.05567351 -0.38209301  0.10289353  0.76115164] 1.0 False {}\n",
      "0\n",
      "[-0.06331537 -0.57847056  0.11811656  1.0843574 ] 1.0 False {}\n",
      "0\n",
      "[-0.07488478 -0.77493596  0.13980371  1.41164771] 1.0 False {}\n",
      "1\n",
      "[-0.0903835  -0.58179648  0.16803667  1.16573361] 1.0 False {}\n",
      "0\n",
      "[-0.10201943 -0.77865856  0.19135134  1.50603815] 1.0 False {}\n",
      "0\n",
      "[-0.1175926  -0.97551641  0.2214721   1.85185   ] 1.0 True {}\n"
     ]
    }
   ],
   "source": [
    "import gym\n",
    "\n",
    "env = gym.make('CartPole-v0')\n",
    "env.reset()   \n",
    "\n",
    "while True:\n",
    "    action = actions.sample()\n",
    "    print(action)\n",
    "    new_state, reward, done, info = env.step(action)\n",
    "    env.render()\n",
    "    print(new_state, reward, done, info)    \n",
    "    if done == True:\n",
    "        break\n",
    "\n",
    "env.close()        "
   ]
  },
  {
   "cell_type": "markdown",
   "id": "791cedf2",
   "metadata": {},
   "source": [
    "The above cell used several methods in the game environment:\n",
    "* The sample() method randomly selects an action from the action space. That is, it will return one of the values among {0, 1}. \n",
    "* The step() method is where the agent is interacting with the environment, and it takes the agent’s action as input. The output are four values: the new state, the reward, a variable *done* indicating whether the game has ended. The *info* variable provides some information about the game. \n",
    "* The render() method shows a diagram of the resulting state. \n",
    "\n",
    "The game loop is an infinite *while* loop. If the *done* variable returns a value *True*, the game ends, and we stop the infinite while loop.\n",
    "\n",
    "Note that since the actions are chosen randomly, when you run the script, you’ll most likely get different results."
   ]
  },
  {
   "cell_type": "markdown",
   "id": "bfa3a085",
   "metadata": {},
   "source": [
    "## 2. Deep Learning Game Strategies: Generating Data\n",
    "\n",
    "In the next few sections, you’ll learn how to use deep neural networks to train intelligent game strategies.\n",
    "\n",
    "First, you’ll learn how to generate simulated game data for training purpose. However, you'll see that all the rewards are 1. As soon as the game ends, another episode of game starts again. Therefore, we need to creatively define what's considered winning. \n",
    "\n",
    "Once you have a trained model, you’ll learn how to use the model to design a best-move game strategy and play against the computer. Finally, you’ll test the effectiveness of the game."
   ]
  },
  {
   "cell_type": "markdown",
   "id": "62465307",
   "metadata": {},
   "source": [
    "### 2.1. How to Define Winning and Losing?\n",
    "In the Frozen Lake game in Chapter 8, winning and losing is easy to define: if the agent reaches the goal, it's a win. On the other hand, if the agent falls into one of the hole, it's a loss. \n",
    "\n",
    "There could be other ways of defining winning and losing, but we'll define a step as a win if it survives at least another ten steps. Otherwise, it's a losing strategy. \n"
   ]
  },
  {
   "cell_type": "markdown",
   "id": "44a3674b",
   "metadata": {},
   "source": [
    "### 2.2. Prepare Data for the Neural Network\n",
    "How to use neural network to train a game strategy in this case? Here is a summary of what we’ll do to train the game strategy:\n",
    "1. We’ll let the player randomly choose actions and complete a game and record the whole game history. The game history will contain all the intermediate states and actions from the very first move to the very last move.\n",
    "2. We then associate each state-action pair with a game outcome (win or lose). The state-action pair is similar to X (i.e., image pixels) in our image classification problem, and the outcome is similar to y (i.e., image labels such as horse, deer, airplane and so on) in the image classification problem.\n",
    "3. We’ll simulate a large number of games, say, 10000 of them. Use the histories of the games and the corresponding outcome as X and y pairs to feed into a Deep Neural Networks model. After training is done, we have a trained model.\n",
    "4. At each move of the game, we look at all possible next moves, and feed the hypothetical state-action pair into the pretained model. The model will tell you the probability of winning the game if that state-action pair were chosen.\n",
    "5. You select the move with the highest chance of winning based on the model's predictions."
   ]
  },
  {
   "cell_type": "markdown",
   "id": "22d2dd43",
   "metadata": {},
   "source": [
    "#### Simulate One Game\n",
    "\n",
    "First we’ll simulate one game and record the whole game history and the game outcome. The script below accomplishes that:"
   ]
  },
  {
   "cell_type": "code",
   "execution_count": 3,
   "id": "0ea53d26",
   "metadata": {},
   "outputs": [
    {
     "name": "stdout",
     "output_type": "stream",
     "text": [
      "the game history is [[array([-0.00482245, -0.03372653,  0.01694466,  0.01906569]), 0, array([-0.00549698, -0.22908734,  0.01732597,  0.31704633]), 1.0, False], [array([-0.00549698, -0.22908734,  0.01732597,  0.31704633]), 1, array([-0.01007873, -0.0342164 ,  0.0236669 ,  0.02987737]), 1.0, False], [array([-0.01007873, -0.0342164 ,  0.0236669 ,  0.02987737]), 1, array([-0.01076306,  0.1605583 ,  0.02426445, -0.25524544]), 1.0, False], [array([-0.01076306,  0.1605583 ,  0.02426445, -0.25524544]), 0, array([-0.00755189, -0.03490154,  0.01915954,  0.04499106]), 1.0, False], [array([-0.00755189, -0.03490154,  0.01915954,  0.04499106]), 0, array([-0.00824992, -0.23029292,  0.02005936,  0.34365689]), 1.0, False], [array([-0.00824992, -0.23029292,  0.02005936,  0.34365689]), 0, array([-0.01285578, -0.42569441,  0.0269325 ,  0.64259722]), 1.0, False], [array([-0.01285578, -0.42569441,  0.0269325 ,  0.64259722]), 1, array([-0.02136967, -0.23095801,  0.03978444,  0.35851575]), 1.0, False], [array([-0.02136967, -0.23095801,  0.03978444,  0.35851575]), 0, array([-0.02598883, -0.42662229,  0.04695476,  0.66347346]), 1.0, False], [array([-0.02598883, -0.42662229,  0.04695476,  0.66347346]), 1, array([-0.03452128, -0.23218393,  0.06022423,  0.38593702]), 1.0, False], [array([-0.03452128, -0.23218393,  0.06022423,  0.38593702]), 1, array([-0.03916495, -0.03796633,  0.06794297,  0.11283399]), 1.0, False], [array([-0.03916495, -0.03796633,  0.06794297,  0.11283399]), 1, array([-0.03992428,  0.1561196 ,  0.07019965, -0.15766334]), 1.0, False], [array([-0.03992428,  0.1561196 ,  0.07019965, -0.15766334]), 0, array([-0.03680189, -0.03993353,  0.06704638,  0.1563138 ]), 1.0, False], [array([-0.03680189, -0.03993353,  0.06704638,  0.1563138 ]), 0, array([-0.03760056, -0.23594818,  0.07017266,  0.46937204]), 1.0, False], [array([-0.03760056, -0.23594818,  0.07017266,  0.46937204]), 0, array([-0.04231952, -0.43198762,  0.0795601 ,  0.78332132]), 1.0, False], [array([-0.04231952, -0.43198762,  0.0795601 ,  0.78332132]), 1, array([-0.05095928, -0.23804392,  0.09522652,  0.51669202]), 1.0, False], [array([-0.05095928, -0.23804392,  0.09522652,  0.51669202]), 1, array([-0.05572015, -0.04438276,  0.10556036,  0.25547069]), 1.0, False], [array([-0.05572015, -0.04438276,  0.10556036,  0.25547069]), 0, array([-0.05660781, -0.24084109,  0.11066978,  0.579495  ]), 1.0, False], [array([-0.05660781, -0.24084109,  0.11066978,  0.579495  ]), 1, array([-0.06142463, -0.04742982,  0.12225968,  0.32362346]), 1.0, False], [array([-0.06142463, -0.04742982,  0.12225968,  0.32362346]), 0, array([-0.06237323, -0.24406128,  0.12873215,  0.65222392]), 1.0, False], [array([-0.06237323, -0.24406128,  0.12873215,  0.65222392]), 0, array([-0.06725445, -0.44071868,  0.14177663,  0.98251195]), 1.0, False], [array([-0.06725445, -0.44071868,  0.14177663,  0.98251195]), 0, array([-0.07606883, -0.63742632,  0.16142686,  1.31615574]), 1.0, False], [array([-0.07606883, -0.63742632,  0.16142686,  1.31615574]), 0, array([-0.08881735, -0.83417982,  0.18774998,  1.65470264]), 1.0, False], [array([-0.08881735, -0.83417982,  0.18774998,  1.65470264]), 0, array([-0.10550095, -1.03093142,  0.22084403,  1.99951844]), 1.0, True]]\n",
      "the win/loss history is [1, 1, 1, 1, 1, 1, 1, 1, 1, 1, 1, 1, 1, 0, 0, 0, 0, 0, 0, 0, 0, 0, 0]\n",
      "the game has lasted 23 steps\n"
     ]
    }
   ],
   "source": [
    "import gym\n",
    "import numpy as np\n",
    "\n",
    "env = gym.make('CartPole-v0')\n",
    "# create lists to record all game histories and outcomes \n",
    "history = []\n",
    "winlose = []\n",
    "state = env.reset()\n",
    "while True:\n",
    "    # randomly choose an action  \n",
    "    action = env.action_space.sample()\n",
    "    # make a move\n",
    "    new_state, reward, done, _ = env.step(action)\n",
    "    # recording game hisotry\n",
    "    history.append([state, action, new_state, reward, done])\n",
    "    # temporarily record the step as winning\n",
    "    winlose.append(1)\n",
    "    # prepare for the next round\n",
    "    state = new_state\n",
    "    # stop if the game is over\n",
    "    if done==True:\n",
    "        break  \n",
    "\n",
    "# The last ten steps of the game is considered not winning\n",
    "for i in range(len(history)):\n",
    "    if len(history)-i<=10 and len(history)<195:\n",
    "        winlose[i] = 0\n",
    "        \n",
    "print(\"the game history is\", history)     \n",
    "print(\"the win/loss history is\", winlose) \n",
    "print(f\"the game has lasted {len(history)} steps\") \n",
    "env.close()"
   ]
  },
  {
   "cell_type": "markdown",
   "id": "fb762289",
   "metadata": {},
   "source": [
    "The game has lasted 23 steps. So the first 13 steps are classifed as winning steps, while the last ten are losing steps. "
   ]
  },
  {
   "cell_type": "markdown",
   "id": "507a0fe6",
   "metadata": {},
   "source": [
    "#### Simulate Many Games\n",
    "Next, we'll simulate 10,000 games and record all the intermediate steps and outcomes. "
   ]
  },
  {
   "cell_type": "code",
   "execution_count": 4,
   "id": "79bce2bc",
   "metadata": {},
   "outputs": [],
   "source": [
    "import gym\n",
    "import numpy as np\n",
    "\n",
    "env = gym.make('CartPole-v0')\n",
    "# create lists to record all game histories and outcomes \n",
    "histories = []\n",
    "winloses = []\n",
    "# Define one_game() function\n",
    "def one_game():\n",
    "    history = []\n",
    "    winlose = []\n",
    "    state = env.reset()\n",
    "    while True:\n",
    "        # randomly choose an action  \n",
    "        action = env.action_space.sample()\n",
    "        # make a move\n",
    "        new_state, reward, done, _ = env.step(action)\n",
    "        # recording game hisotry\n",
    "        history.append([state, action, new_state, reward, done])\n",
    "        # temporarily record the step as winning\n",
    "        winlose.append(1)\n",
    "        # prepare for the next round\n",
    "        state = new_state\n",
    "        # stop if the game is over\n",
    "        if done==True:\n",
    "            break  \n",
    "    return history, winlose\n",
    "\n",
    "# Play 10,000 games\n",
    "for j in range(10000):\n",
    "    # play a game\n",
    "    history, winlose = one_game()\n",
    "    # The last ten steps of the game is considered not winning\n",
    "    for i in range(len(history)):\n",
    "        if len(history)-i<=10 and len(history)<195:\n",
    "            winlose[i] = 0\n",
    "    # record history and outcome\n",
    "    histories.append(history)\n",
    "    winloses.append(winlose)"
   ]
  },
  {
   "cell_type": "markdown",
   "id": "39517c4f",
   "metadata": {},
   "source": [
    "Next, we'll save the simulated data on the computer for later use. "
   ]
  },
  {
   "cell_type": "code",
   "execution_count": 5,
   "id": "543e2357",
   "metadata": {},
   "outputs": [],
   "source": [
    "import pickle\n",
    "# save the simulation data on your computer\n",
    "with open('files/ch09/CartPole_games.pickle', 'wb') as fp:\n",
    "    pickle.dump((histories,winloses), fp)"
   ]
  },
  {
   "cell_type": "markdown",
   "id": "5878c75d",
   "metadata": {},
   "source": []
  },
  {
   "cell_type": "markdown",
   "id": "676b528c",
   "metadata": {},
   "source": [
    "You can load up the saved simulation data from your computer, and print out the first game."
   ]
  },
  {
   "cell_type": "code",
   "execution_count": 7,
   "id": "e192171f",
   "metadata": {},
   "outputs": [
    {
     "name": "stdout",
     "output_type": "stream",
     "text": [
      "[[[array([-0.0299482 ,  0.01083027, -0.0244265 ,  0.0119515 ]),\n",
      "   0,\n",
      "   array([-0.0297316 , -0.18393301, -0.02418747,  0.29682859]),\n",
      "   1.0,\n",
      "   False],\n",
      "  [array([-0.0297316 , -0.18393301, -0.02418747,  0.29682859]),\n",
      "   1,\n",
      "   array([-0.03341026,  0.01152524, -0.0182509 , -0.00338346]),\n",
      "   1.0,\n",
      "   False],\n",
      "  [array([-0.03341026,  0.01152524, -0.0182509 , -0.00338346]),\n",
      "   1,\n",
      "   array([-0.03317975,  0.20690412, -0.01831857, -0.30176843]),\n",
      "   1.0,\n",
      "   False],\n",
      "  [array([-0.03317975,  0.20690412, -0.01831857, -0.30176843]),\n",
      "   0,\n",
      "   array([-0.02904167,  0.01204798, -0.02435394, -0.01491862]),\n",
      "   1.0,\n",
      "   False],\n",
      "  [array([-0.02904167,  0.01204798, -0.02435394, -0.01491862]),\n",
      "   0,\n",
      "   array([-0.02880071, -0.18271639, -0.02465231,  0.26998195]),\n",
      "   1.0,\n",
      "   False],\n",
      "  [array([-0.02880071, -0.18271639, -0.02465231,  0.26998195]),\n",
      "   0,\n",
      "   array([-0.03245504, -0.37747803, -0.01925267,  0.5547886 ]),\n",
      "   1.0,\n",
      "   False],\n",
      "  [array([-0.03245504, -0.37747803, -0.01925267,  0.5547886 ]),\n",
      "   1,\n",
      "   array([-0.0400046 , -0.18209112, -0.0081569 ,  0.2561026 ]),\n",
      "   1.0,\n",
      "   False],\n",
      "  [array([-0.0400046 , -0.18209112, -0.0081569 ,  0.2561026 ]),\n",
      "   1,\n",
      "   array([-0.04364642,  0.01314634, -0.00303485, -0.03914194]),\n",
      "   1.0,\n",
      "   False],\n",
      "  [array([-0.04364642,  0.01314634, -0.00303485, -0.03914194]),\n",
      "   0,\n",
      "   array([-0.04338349, -0.18193196, -0.00381769,  0.25258192]),\n",
      "   1.0,\n",
      "   False],\n",
      "  [array([-0.04338349, -0.18193196, -0.00381769,  0.25258192]),\n",
      "   0,\n",
      "   array([-0.04702213, -0.37699919,  0.00123395,  0.54405823]),\n",
      "   1.0,\n",
      "   False],\n",
      "  [array([-0.04702213, -0.37699919,  0.00123395,  0.54405823]),\n",
      "   1,\n",
      "   array([-0.05456212, -0.1818946 ,  0.01211512,  0.25176436]),\n",
      "   1.0,\n",
      "   False],\n",
      "  [array([-0.05456212, -0.1818946 ,  0.01211512,  0.25176436]),\n",
      "   0,\n",
      "   array([-0.05820001, -0.37718744,  0.0171504 ,  0.54824387]),\n",
      "   1.0,\n",
      "   False],\n",
      "  [array([-0.05820001, -0.37718744,  0.0171504 ,  0.54824387]),\n",
      "   0,\n",
      "   array([-0.06574376, -0.57254607,  0.02811528,  0.84628069]),\n",
      "   1.0,\n",
      "   False],\n",
      "  [array([-0.06574376, -0.57254607,  0.02811528,  0.84628069]),\n",
      "   1,\n",
      "   array([-0.07719468, -0.37781874,  0.04504089,  0.56256994]),\n",
      "   1.0,\n",
      "   False],\n",
      "  [array([-0.07719468, -0.37781874,  0.04504089,  0.56256994]),\n",
      "   1,\n",
      "   array([-0.08475106, -0.18335681,  0.05629229,  0.28441042]),\n",
      "   1.0,\n",
      "   False],\n",
      "  [array([-0.08475106, -0.18335681,  0.05629229,  0.28441042]),\n",
      "   0,\n",
      "   array([-0.08841819, -0.37923456,  0.0619805 ,  0.59430283]),\n",
      "   1.0,\n",
      "   False],\n",
      "  [array([-0.08841819, -0.37923456,  0.0619805 ,  0.59430283]),\n",
      "   0,\n",
      "   array([-0.09600288, -0.57516678,  0.07386656,  0.90584743]),\n",
      "   1.0,\n",
      "   False],\n",
      "  [array([-0.09600288, -0.57516678,  0.07386656,  0.90584743]),\n",
      "   0,\n",
      "   array([-0.10750622, -0.77120703,  0.09198351,  1.22080296]),\n",
      "   1.0,\n",
      "   False],\n",
      "  [array([-0.10750622, -0.77120703,  0.09198351,  1.22080296]),\n",
      "   1,\n",
      "   array([-0.12293036, -0.57738293,  0.11639957,  0.95830093]),\n",
      "   1.0,\n",
      "   False],\n",
      "  [array([-0.12293036, -0.57738293,  0.11639957,  0.95830093]),\n",
      "   0,\n",
      "   array([-0.13447802, -0.77386123,  0.13556558,  1.28516833]),\n",
      "   1.0,\n",
      "   False],\n",
      "  [array([-0.13447802, -0.77386123,  0.13556558,  1.28516833]),\n",
      "   0,\n",
      "   array([-0.14995524, -0.97042317,  0.16126895,  1.61704039]),\n",
      "   1.0,\n",
      "   False],\n",
      "  [array([-0.14995524, -0.97042317,  0.16126895,  1.61704039]),\n",
      "   0,\n",
      "   array([-0.16936371, -1.16703751,  0.19360976,  1.95534292]),\n",
      "   1.0,\n",
      "   False],\n",
      "  [array([-0.16936371, -1.16703751,  0.19360976,  1.95534292]),\n",
      "   0,\n",
      "   array([-0.19270446, -1.36361709,  0.23271662,  2.30126929]),\n",
      "   1.0,\n",
      "   True]]]\n",
      "[[1, 1, 1, 1, 1, 1, 1, 1, 1, 1, 1, 1, 1, 0, 0, 0, 0, 0, 0, 0, 0, 0, 0]]\n"
     ]
    }
   ],
   "source": [
    "# read the data and print out the first 10 games\n",
    "with open('files/ch09/CartPole_games.pickle', 'rb') as fp:\n",
    "    histories, outcomes=pickle.load(fp)\n",
    "    \n",
    "from pprint import pprint\n",
    "pprint(histories[:1])    \n",
    "pprint(outcomes[:1])  "
   ]
  },
  {
   "cell_type": "markdown",
   "id": "99bd249d",
   "metadata": {},
   "source": [
    "Next we'll train the deep neural network using the simulated data."
   ]
  },
  {
   "cell_type": "markdown",
   "id": "2f7dbb5c",
   "metadata": {},
   "source": [
    "## 3. Deep Learning Game Strategies: Train the Deep Neural Network\n",
    "\n",
    "We'll train the deep neural network so that it can learn from the simulated data. To do that, we'll first prepare the data so that we can feed them into the neural network."
   ]
  },
  {
   "cell_type": "markdown",
   "id": "a0b7aaab",
   "metadata": {},
   "source": [
    "### 3.1. Preparing the Data\n",
    "\n",
    "We'll create X and y for each game step and put them together for training. \n",
    "\n",
    "Since the outcome variable is either 1 or 0, this is similar to a binary classification problem. \n",
    "\n",
    "What we are doing here is to associate each state and action combination (s,a) with the outcome 1 or 0."
   ]
  },
  {
   "cell_type": "code",
   "execution_count": 8,
   "id": "6879fe18",
   "metadata": {},
   "outputs": [
    {
     "name": "stdout",
     "output_type": "stream",
     "text": [
      "[array([-0.0299482 ,  0.01083027, -0.0244265 ,  0.0119515 ,  0.        ]),\n",
      " array([-0.0297316 , -0.18393301, -0.02418747,  0.29682859,  1.        ]),\n",
      " array([-0.03341026,  0.01152524, -0.0182509 , -0.00338346,  1.        ]),\n",
      " array([-0.03317975,  0.20690412, -0.01831857, -0.30176843,  0.        ]),\n",
      " array([-0.02904167,  0.01204798, -0.02435394, -0.01491862,  0.        ])]\n",
      "[1, 1, 1, 1, 1]\n",
      "0.5520433080762739\n"
     ]
    }
   ],
   "source": [
    "# Create empty X and y lists\n",
    "X, y = [], []    \n",
    "# Create X and y for each game step\n",
    "for history, winlose in zip(histories, outcomes):\n",
    "    for i in range(len(history)):\n",
    "        state, action, new_state, reward, done = history[i]\n",
    "        s = np.array(state).reshape((4,1))\n",
    "        a = np.array(action).reshape((1,1))\n",
    "        sa = np.concatenate([s, a], axis = 0)\n",
    "        # Each observation of X is a (state, action) combination\n",
    "        X.append(sa.reshape(-1,))\n",
    "        # Each y is the outcome for the state action combination\n",
    "        y.append(winlose[i])\n",
    "        \n",
    "# Print the first five observations of X and y\n",
    "from pprint import pprint\n",
    "pprint(X[:5])\n",
    "pprint(y[:5])\n",
    "# See what's the average value of y\n",
    "print(np.mean(np.array(y).reshape(-1,)))"
   ]
  },
  {
   "cell_type": "markdown",
   "id": "6aab6eaf",
   "metadata": {},
   "source": [
    "The output above shows that the averge value of y is about 0.552. This means 55.2% of steps are wins and the rest 44.85 are losses. "
   ]
  },
  {
   "cell_type": "markdown",
   "id": "112ddcfe",
   "metadata": {},
   "source": [
    "Finally we save the processed data for later use:"
   ]
  },
  {
   "cell_type": "code",
   "execution_count": 9,
   "id": "df12a22f",
   "metadata": {},
   "outputs": [],
   "source": [
    "# save the processed data on your computer\n",
    "with open('files/ch09/CartPoleXy.pickle', 'wb') as fp:\n",
    "    pickle.dump((X,y),fp)"
   ]
  },
  {
   "cell_type": "markdown",
   "id": "6d794163",
   "metadata": {},
   "source": [
    "### 3.2. Train the Deep Neural Network\n",
    "Now that the dataset is ready, we are ready to train our deep neural network. \n",
    "\n",
    "Here we are essentially performing a binary classification. We classify each state-action pair into win or lose. The output layer has one neuron with sigmoid activation. So we can think of the output as the probability of winning the game. \n",
    "\n",
    "There are two hidden layers in the model, with 64 and 16 neurons, respectively. But we do have a lot of freedom here. More layers with various numbers of neurons will generate similar results. \n",
    "\n",
    "Later, we'll use the trained model to play the Cart Pole game. When playing, at each state, we'll ask the following question:\n",
    "1. If I choose action 0 (i.e., move left), what's the probability of winning the game? We'll combine the current state and action 0 and feed this state-action pair to the trained deep neural network and get a probability; let's call it p(win|s,a0).\n",
    "2. If I choose action 1 (i.e., move right), what's the probability of winning the game? We'll use the trained neural network and get p(win|s,a1).\n",
    "We then compare p(win|s,a0) with p(win|s,a1) and pick the action that leads to the higher p(win|s,a). "
   ]
  },
  {
   "cell_type": "code",
   "execution_count": null,
   "id": "677a0d84",
   "metadata": {},
   "outputs": [],
   "source": [
    "# import needed modules\n",
    "from tensorflow.keras.models import Sequential\n",
    "from random import choice\n",
    "import pickle\n",
    "from tensorflow.keras.layers import Dense\n",
    "import numpy as np\n",
    "from pprint import pprint\n",
    "\n",
    "# load the data       \n",
    "with open('files/ch09/CartPoleXy.pickle', 'rb') as fp:\n",
    "    X, y = pickle.load(fp)\n",
    "\n",
    "X = np.array(X).reshape((-1, 5))\n",
    "y = np.array(y).reshape((-1, 1))\n",
    "\n",
    "# Create a model\n",
    "model = Sequential()\n",
    "model.add(Dense(64, activation='relu', input_shape=(5,)))\n",
    "model.add(Dense(16, activation='relu'))\n",
    "model.add(Dense(1, activation='sigmoid'))\n",
    "model.compile(loss='binary_crossentropy',\n",
    "                   optimizer='adam', \n",
    "                   metrics=['accuracy'])\n",
    "\n",
    "model.fit(X,y, epochs=50)\n",
    "\n",
    "model.save('files/ch09/trained_cartpole.h5')"
   ]
  },
  {
   "cell_type": "markdown",
   "id": "b2ea611d",
   "metadata": {},
   "source": [
    "Now that the model is trained, we can use it to play the game."
   ]
  },
  {
   "cell_type": "markdown",
   "id": "d6011a93",
   "metadata": {},
   "source": [
    "## 4. Play the Game with the Trained Model\n",
    "To play the game with the trained model, we'll look at the state at each move, and hypothetically take actions 0 and 1. Then we use the trained model to predict the probability of winning with each of the two state-action pairs. We'll pick the action that leads to the higher probability of winning. We repeat at each step until the game ends."
   ]
  },
  {
   "cell_type": "code",
   "execution_count": 5,
   "id": "eafae1ae",
   "metadata": {
    "scrolled": false
   },
   "outputs": [
    {
     "name": "stdout",
     "output_type": "stream",
     "text": [
      "1/1 [==============================] - 0s 39ms/step\n",
      "1/1 [==============================] - ETA: 0s"
     ]
    },
    {
     "name": "stderr",
     "output_type": "stream",
     "text": [
      "C:\\Users\\hlliu2\\Anaconda3\\envs\\animatedML\\lib\\site-packages\\gym\\logger.py:30: UserWarning: \u001b[33mWARN: Box bound precision lowered by casting to float32\u001b[0m\n",
      "  warnings.warn(colorize('%s: %s'%('WARN', msg % args), 'yellow'))\n"
     ]
    },
    {
     "name": "stdout",
     "output_type": "stream",
     "text": [
      "1/1 [==============================] - 0s 14ms/step\n",
      "1/1 [==============================] - 0s 14ms/step\n",
      "1/1 [==============================] - 0s 14ms/step\n",
      "1/1 [==============================] - 0s 13ms/step\n",
      "1/1 [==============================] - 0s 16ms/step\n",
      "1/1 [==============================] - 0s 13ms/step\n",
      "1/1 [==============================] - 0s 13ms/step\n",
      "1/1 [==============================] - 0s 13ms/step\n",
      "1/1 [==============================] - 0s 13ms/step\n",
      "1/1 [==============================] - 0s 13ms/step\n",
      "1/1 [==============================] - 0s 12ms/step\n",
      "1/1 [==============================] - 0s 13ms/step\n",
      "1/1 [==============================] - 0s 14ms/step\n",
      "1/1 [==============================] - 0s 13ms/step\n",
      "1/1 [==============================] - 0s 14ms/step\n",
      "1/1 [==============================] - 0s 14ms/step\n",
      "1/1 [==============================] - 0s 13ms/step\n",
      "1/1 [==============================] - 0s 14ms/step\n",
      "1/1 [==============================] - 0s 14ms/step\n",
      "1/1 [==============================] - 0s 13ms/step\n",
      "1/1 [==============================] - 0s 15ms/step\n",
      "1/1 [==============================] - 0s 14ms/step\n",
      "1/1 [==============================] - 0s 14ms/step\n",
      "1/1 [==============================] - 0s 13ms/step\n",
      "1/1 [==============================] - 0s 13ms/step\n",
      "1/1 [==============================] - 0s 12ms/step\n",
      "1/1 [==============================] - 0s 13ms/step\n",
      "1/1 [==============================] - 0s 14ms/step\n",
      "1/1 [==============================] - 0s 14ms/step\n",
      "1/1 [==============================] - 0s 12ms/step\n",
      "1/1 [==============================] - 0s 13ms/step\n",
      "1/1 [==============================] - 0s 13ms/step\n",
      "1/1 [==============================] - 0s 13ms/step\n",
      "1/1 [==============================] - 0s 13ms/step\n",
      "1/1 [==============================] - 0s 14ms/step\n",
      "1/1 [==============================] - 0s 13ms/step\n",
      "1/1 [==============================] - 0s 13ms/step\n",
      "1/1 [==============================] - 0s 14ms/step\n",
      "1/1 [==============================] - 0s 13ms/step\n",
      "1/1 [==============================] - 0s 15ms/step\n",
      "1/1 [==============================] - 0s 13ms/step\n",
      "1/1 [==============================] - 0s 14ms/step\n",
      "1/1 [==============================] - 0s 14ms/step\n",
      "1/1 [==============================] - 0s 13ms/step\n",
      "1/1 [==============================] - 0s 14ms/step\n",
      "1/1 [==============================] - 0s 13ms/step\n",
      "1/1 [==============================] - 0s 14ms/step\n",
      "1/1 [==============================] - 0s 14ms/step\n",
      "1/1 [==============================] - 0s 13ms/step\n",
      "1/1 [==============================] - 0s 13ms/step\n",
      "1/1 [==============================] - 0s 14ms/step\n",
      "1/1 [==============================] - 0s 12ms/step\n",
      "1/1 [==============================] - 0s 13ms/step\n",
      "1/1 [==============================] - 0s 14ms/step\n",
      "1/1 [==============================] - 0s 13ms/step\n",
      "1/1 [==============================] - 0s 13ms/step\n",
      "1/1 [==============================] - 0s 14ms/step\n",
      "1/1 [==============================] - 0s 14ms/step\n",
      "1/1 [==============================] - 0s 13ms/step\n",
      "1/1 [==============================] - 0s 15ms/step\n",
      "1/1 [==============================] - 0s 13ms/step\n",
      "1/1 [==============================] - 0s 13ms/step\n",
      "1/1 [==============================] - 0s 14ms/step\n",
      "1/1 [==============================] - 0s 12ms/step\n",
      "1/1 [==============================] - 0s 14ms/step\n",
      "1/1 [==============================] - 0s 13ms/step\n",
      "1/1 [==============================] - 0s 13ms/step\n",
      "1/1 [==============================] - 0s 13ms/step\n",
      "1/1 [==============================] - 0s 13ms/step\n",
      "1/1 [==============================] - 0s 14ms/step\n",
      "1/1 [==============================] - 0s 13ms/step\n",
      "1/1 [==============================] - 0s 16ms/step\n",
      "1/1 [==============================] - 0s 14ms/step\n",
      "1/1 [==============================] - 0s 14ms/step\n",
      "1/1 [==============================] - 0s 14ms/step\n",
      "1/1 [==============================] - 0s 13ms/step\n",
      "1/1 [==============================] - 0s 13ms/step\n",
      "1/1 [==============================] - 0s 13ms/step\n",
      "1/1 [==============================] - 0s 14ms/step\n",
      "1/1 [==============================] - 0s 15ms/step\n",
      "1/1 [==============================] - 0s 14ms/step\n",
      "1/1 [==============================] - 0s 14ms/step\n",
      "1/1 [==============================] - 0s 12ms/step\n",
      "1/1 [==============================] - 0s 13ms/step\n",
      "1/1 [==============================] - 0s 14ms/step\n",
      "1/1 [==============================] - 0s 14ms/step\n",
      "1/1 [==============================] - 0s 14ms/step\n",
      "1/1 [==============================] - 0s 15ms/step\n",
      "1/1 [==============================] - 0s 14ms/step\n",
      "1/1 [==============================] - 0s 17ms/step\n",
      "1/1 [==============================] - 0s 13ms/step\n",
      "1/1 [==============================] - 0s 12ms/step\n",
      "1/1 [==============================] - 0s 13ms/step\n",
      "1/1 [==============================] - 0s 13ms/step\n",
      "1/1 [==============================] - 0s 13ms/step\n",
      "1/1 [==============================] - 0s 13ms/step\n",
      "1/1 [==============================] - 0s 13ms/step\n",
      "1/1 [==============================] - 0s 12ms/step\n",
      "1/1 [==============================] - 0s 14ms/step\n",
      "1/1 [==============================] - 0s 13ms/step\n",
      "1/1 [==============================] - 0s 14ms/step\n",
      "1/1 [==============================] - 0s 16ms/step\n",
      "1/1 [==============================] - 0s 14ms/step\n",
      "1/1 [==============================] - 0s 13ms/step\n",
      "1/1 [==============================] - 0s 13ms/step\n",
      "1/1 [==============================] - 0s 14ms/step\n",
      "1/1 [==============================] - 0s 15ms/step\n",
      "1/1 [==============================] - 0s 14ms/step\n",
      "1/1 [==============================] - 0s 12ms/step\n",
      "1/1 [==============================] - 0s 15ms/step\n",
      "1/1 [==============================] - 0s 12ms/step\n",
      "1/1 [==============================] - 0s 12ms/step\n",
      "1/1 [==============================] - 0s 13ms/step\n",
      "1/1 [==============================] - 0s 14ms/step\n",
      "1/1 [==============================] - 0s 17ms/step\n",
      "1/1 [==============================] - 0s 14ms/step\n",
      "1/1 [==============================] - 0s 14ms/step\n",
      "1/1 [==============================] - 0s 13ms/step\n",
      "1/1 [==============================] - 0s 12ms/step\n",
      "1/1 [==============================] - 0s 14ms/step\n",
      "1/1 [==============================] - 0s 15ms/step\n",
      "1/1 [==============================] - 0s 14ms/step\n",
      "1/1 [==============================] - 0s 13ms/step\n",
      "1/1 [==============================] - 0s 13ms/step\n",
      "1/1 [==============================] - 0s 14ms/step\n",
      "1/1 [==============================] - 0s 14ms/step\n",
      "1/1 [==============================] - 0s 12ms/step\n",
      "1/1 [==============================] - 0s 14ms/step\n",
      "1/1 [==============================] - 0s 13ms/step\n",
      "1/1 [==============================] - 0s 13ms/step\n",
      "1/1 [==============================] - 0s 14ms/step\n",
      "1/1 [==============================] - 0s 13ms/step\n",
      "1/1 [==============================] - 0s 18ms/step\n",
      "1/1 [==============================] - 0s 18ms/step\n",
      "1/1 [==============================] - 0s 13ms/step\n",
      "1/1 [==============================] - 0s 14ms/step\n",
      "1/1 [==============================] - 0s 13ms/step\n",
      "1/1 [==============================] - 0s 13ms/step\n",
      "1/1 [==============================] - 0s 12ms/step\n",
      "1/1 [==============================] - 0s 13ms/step\n",
      "1/1 [==============================] - 0s 14ms/step\n",
      "1/1 [==============================] - 0s 17ms/step\n",
      "1/1 [==============================] - 0s 15ms/step\n",
      "1/1 [==============================] - 0s 13ms/step\n",
      "1/1 [==============================] - 0s 14ms/step\n",
      "1/1 [==============================] - 0s 14ms/step\n",
      "1/1 [==============================] - 0s 13ms/step\n",
      "1/1 [==============================] - 0s 14ms/step\n",
      "1/1 [==============================] - 0s 14ms/step\n",
      "1/1 [==============================] - 0s 12ms/step\n",
      "1/1 [==============================] - 0s 14ms/step\n",
      "1/1 [==============================] - 0s 14ms/step\n",
      "1/1 [==============================] - 0s 12ms/step\n",
      "1/1 [==============================] - 0s 13ms/step\n",
      "1/1 [==============================] - 0s 14ms/step\n",
      "1/1 [==============================] - 0s 14ms/step\n",
      "1/1 [==============================] - 0s 12ms/step\n"
     ]
    },
    {
     "name": "stdout",
     "output_type": "stream",
     "text": [
      "1/1 [==============================] - 0s 14ms/step\n",
      "1/1 [==============================] - 0s 12ms/step\n",
      "1/1 [==============================] - 0s 14ms/step\n",
      "1/1 [==============================] - 0s 17ms/step\n",
      "1/1 [==============================] - 0s 17ms/step\n",
      "1/1 [==============================] - 0s 13ms/step\n",
      "1/1 [==============================] - 0s 13ms/step\n",
      "1/1 [==============================] - 0s 14ms/step\n",
      "1/1 [==============================] - 0s 19ms/step\n",
      "1/1 [==============================] - 0s 13ms/step\n",
      "1/1 [==============================] - 0s 12ms/step\n",
      "1/1 [==============================] - 0s 14ms/step\n",
      "1/1 [==============================] - 0s 14ms/step\n",
      "1/1 [==============================] - 0s 13ms/step\n",
      "1/1 [==============================] - 0s 14ms/step\n",
      "1/1 [==============================] - 0s 14ms/step\n",
      "1/1 [==============================] - 0s 13ms/step\n",
      "1/1 [==============================] - 0s 12ms/step\n",
      "1/1 [==============================] - 0s 12ms/step\n",
      "1/1 [==============================] - 0s 16ms/step\n",
      "1/1 [==============================] - 0s 14ms/step\n",
      "1/1 [==============================] - 0s 13ms/step\n",
      "1/1 [==============================] - 0s 13ms/step\n",
      "1/1 [==============================] - 0s 13ms/step\n",
      "1/1 [==============================] - 0s 13ms/step\n",
      "1/1 [==============================] - 0s 13ms/step\n",
      "1/1 [==============================] - 0s 13ms/step\n",
      "1/1 [==============================] - 0s 13ms/step\n",
      "1/1 [==============================] - 0s 13ms/step\n",
      "1/1 [==============================] - 0s 13ms/step\n",
      "1/1 [==============================] - 0s 12ms/step\n",
      "1/1 [==============================] - 0s 13ms/step\n",
      "1/1 [==============================] - 0s 12ms/step\n",
      "1/1 [==============================] - 0s 13ms/step\n",
      "1/1 [==============================] - 0s 14ms/step\n",
      "1/1 [==============================] - 0s 14ms/step\n",
      "1/1 [==============================] - 0s 13ms/step\n",
      "1/1 [==============================] - 0s 14ms/step\n",
      "1/1 [==============================] - 0s 13ms/step\n",
      "1/1 [==============================] - 0s 14ms/step\n",
      "1/1 [==============================] - 0s 12ms/step\n",
      "1/1 [==============================] - 0s 16ms/step\n",
      "score is 200\n"
     ]
    }
   ],
   "source": [
    "# import needed modules\n",
    "from tensorflow.keras.models import Sequential\n",
    "from random import choice\n",
    "import pickle\n",
    "from tensorflow.keras.layers import Dense\n",
    "import numpy as np\n",
    "from pprint import pprint\n",
    "import tensorflow as tf\n",
    "\n",
    "\n",
    "reload = tf.keras.models.load_model(\"files/ch09/trained_cartpole.h5\")\n",
    "\n",
    "\n",
    "import gym\n",
    "\n",
    "env = gym.make('CartPole-v0')\n",
    "state = env.reset()\n",
    "\n",
    "frames = []\n",
    "\n",
    "for i in range(1,201):\n",
    "    # Save the screen for later use\n",
    "    frames.append(env.render(mode='rgb_array'))\n",
    "    # Use the trained model to predict the prob of winning \n",
    "    s = np.array(state).reshape((4,1))\n",
    "    a0 = np.array([0]).reshape((1,1))\n",
    "    a1 = np.array([1]).reshape((1,1))    \n",
    "    sa0 = np.concatenate([s, a0], axis = 0).reshape(-1,5)\n",
    "    sa1 = np.concatenate([s, a1], axis = 0).reshape(-1,5)\n",
    "    sa = np.concatenate([sa0, sa1], axis=0).reshape(-1,5)\n",
    "    # pick the action with higher probability of winning\n",
    "    action = np.argmax(reload.predict(sa))\n",
    "    new_state, reward, done, info = env.step(action)\n",
    "    state = new_state\n",
    "    if done == True:\n",
    "        print(f\"score is {i}\")\n",
    "        break\n",
    "env.close()"
   ]
  },
  {
   "cell_type": "markdown",
   "id": "5a6b8f32",
   "metadata": {},
   "source": [
    "The cart pole stays upright for all 200 steps. So the deep learning game strategy works really well!!!\n",
    "\n",
    "Next, we'll create an animation to compare two games: one with random moves, and the other with deep learning game strategies."
   ]
  },
  {
   "cell_type": "markdown",
   "id": "e48956fd",
   "metadata": {},
   "source": [
    "## 5. Compare Two Games\n",
    "We have alredy recorded all the frames in a game with deep learning strategies. \n",
    "\n",
    "Next, we'll record all the grames in a game with random moves. We'll then put the frames side by side with frames from the game with deep learning strategies."
   ]
  },
  {
   "cell_type": "markdown",
   "id": "7655b167",
   "metadata": {},
   "source": [
    "### 5.1. Record A Game with Random Moves\n",
    "We will make random moves, and play the Cart Pole game for 200 steps. We then record all frames in a list called *random_frames*."
   ]
  },
  {
   "cell_type": "code",
   "execution_count": 6,
   "id": "2cc24e87",
   "metadata": {},
   "outputs": [
    {
     "name": "stderr",
     "output_type": "stream",
     "text": [
      "C:\\Users\\hlliu2\\Anaconda3\\envs\\animatedML\\lib\\site-packages\\gym\\logger.py:30: UserWarning: \u001b[33mWARN: You are calling 'step()' even though this environment has already returned done = True. You should always call 'reset()' once you receive 'done = True' -- any further steps are undefined behavior.\u001b[0m\n",
      "  warnings.warn(colorize('%s: %s'%('WARN', msg % args), 'yellow'))\n"
     ]
    }
   ],
   "source": [
    "env = gym.make('CartPole-v0')\n",
    "state = env.reset()\n",
    "\n",
    "random_frames=[]\n",
    "# Record 200 frames\n",
    "for i in range(1,201):\n",
    "    random_frames.append(env.render(mode='rgb_array'))\n",
    "    # pick a random action \n",
    "    action = env.action_space.sample()\n",
    "    # play the game\n",
    "    new_state, reward, done, info = env.step(action)\n",
    "    state = new_state\n",
    "\n",
    "env.close()"
   ]
  },
  {
   "cell_type": "markdown",
   "id": "3467a2be",
   "metadata": {},
   "source": [
    "We have now recorded 200 frames in a random-move game."
   ]
  },
  {
   "cell_type": "markdown",
   "id": "2afdb60c",
   "metadata": {},
   "source": [
    "### 5.2. How to Combine Frames without Saving Them\n",
    "Each Cart Pole game has 200 frames. We want to combine the frames from two games in each step. If we have to save each combined frame, that would be too many pictures and take too much space on your computer. \n",
    "\n",
    "Instead, we'll find a way to combine two frames without saving them. \n",
    "\n",
    "Here is how you can do it."
   ]
  },
  {
   "cell_type": "code",
   "execution_count": 7,
   "id": "3f1a6905",
   "metadata": {},
   "outputs": [
    {
     "data": {
      "image/png": "[encoded data removed]",
      "text/plain": [
       "<Figure size 2400x1000 with 3 Axes>"
      ]
     },
     "metadata": {
      "needs_background": "light"
     },
     "output_type": "display_data"
    }
   ],
   "source": [
    "from matplotlib import pyplot as plt\n",
    "\n",
    "# Create a list to store the combined frames\n",
    "combined = []\n",
    "\n",
    "fig = plt.figure(figsize=(24,10), dpi=100)\n",
    "ax = fig.add_subplot(111) \n",
    "ax.set_xlim(-10, 10)\n",
    "ax.set_ylim(-5,5)\n",
    "plt.axis(\"off\")\n",
    "ax.text(-9,4,\"The Cart Pole Game with Random Moves, Step 1\",fontsize=20)\n",
    "ax.text(1,4,\"The Cart Pole Game with Deep Learning, Step 1\",fontsize=20)\n",
    "# Add the frame from the random-move game to the left\n",
    "newax = fig.add_axes([0.05, 0.2, 0.55, 0.55])\n",
    "newax.imshow(random_frames[0])\n",
    "newax.axis('off')    \n",
    "\n",
    "# Add the frame from the deep-learning game to the right\n",
    "newax2 = fig.add_axes([0.425, 0.2, 0.55, 0.55])\n",
    "newax2.imshow(frames[0])\n",
    "newax2.axis('off') \n",
    "# plot the picture \n",
    "fig.canvas.draw()\n",
    "# Now we can save it to a numpy array.\n",
    "twoframes = np.frombuffer(fig.canvas.tostring_rgb(), dtype=np.uint8)\n",
    "twoframes = twoframes.reshape(fig.canvas.get_width_height()[::-1]+ (3,))\n",
    "combined.append(twoframes)"
   ]
  },
  {
   "cell_type": "markdown",
   "id": "84925bed",
   "metadata": {},
   "source": [
    "The combined frame is shown above. \n",
    "\n",
    "More important, we can now save the combined frame as a numpy array in a list temporarily without saving on your computer. "
   ]
  },
  {
   "cell_type": "markdown",
   "id": "85d6f6e2",
   "metadata": {},
   "source": [
    "### 5.3. Combine Frames in Each Step\n",
    "Next, we'll combine the two frames in each of the 200 steps."
   ]
  },
  {
   "cell_type": "code",
   "execution_count": 9,
   "id": "fec0f970",
   "metadata": {},
   "outputs": [],
   "source": [
    "# Create a list to store the combined frames\n",
    "combined = []\n",
    "\n",
    "for step in range(0,200):\n",
    "      \n",
    "    fig = plt.figure(figsize=(24,10), dpi=100)\n",
    "    ax = fig.add_subplot(111) \n",
    "    ax.set_xlim(-10, 10)\n",
    "    ax.set_ylim(-5,5)\n",
    "    #plt.grid()\n",
    "    plt.axis(\"off\")\n",
    "    ax.text(-9,4,f\"The Cart Pole Game with Random Moves, Step {step+1}\",fontsize=20)\n",
    "    ax.text(1,4,f\"The Cart Pole Game with Deep Learning, Step {step+1}\",fontsize=20)\n",
    "    # Add the frame from the random-move game to the left\n",
    "    newax = fig.add_axes([0.05, 0.2, 0.55, 0.55])\n",
    "    newax.imshow(random_frames[step])\n",
    "    newax.axis('off')    \n",
    "\n",
    "    # Add the frame from the deep-learning game to the right   \n",
    "    newax2 = fig.add_axes([0.425, 0.2, 0.55, 0.55])\n",
    "    newax2.imshow(frames[step])\n",
    "    newax2.axis('off')\n",
    "\n",
    "    # plot the picture \n",
    "    fig.canvas.draw()\n",
    "    # Now we can save it to a numpy array.\n",
    "    twoframes = np.frombuffer(fig.canvas.tostring_rgb(), dtype=np.uint8)\n",
    "    twoframes = twoframes.reshape(fig.canvas.get_width_height()[::-1]+ (3,))\n",
    "    combined.append(twoframes)\n",
    "    plt.close(fig)"
   ]
  },
  {
   "cell_type": "markdown",
   "id": "48c69a94",
   "metadata": {},
   "source": [
    "We now have 200 combined frames."
   ]
  },
  {
   "cell_type": "markdown",
   "id": "2023e7e1",
   "metadata": {},
   "source": [
    "### 5.4. Create An Animation of Combined Frames\n",
    "We'll use the ***imageio*** library to convert the 200 combined frames into an animation."
   ]
  },
  {
   "cell_type": "code",
   "execution_count": 11,
   "id": "bd3a9319",
   "metadata": {},
   "outputs": [],
   "source": [
    "import imageio\n",
    "imageio.mimsave('compare_cartpole.gif', combined, fps=12) "
   ]
  },
  {
   "cell_type": "markdown",
   "id": "f7c728bb",
   "metadata": {},
   "source": [
    "The animation looks as follows:\n",
    "<img src=\"https://gattonweb.uky.edu/faculty/lium/ml/compare_cartpole.gif\" />"
   ]
  },
  {
   "cell_type": "code",
   "execution_count": null,
   "id": "d069fc21",
   "metadata": {},
   "outputs": [],
   "source": []
  }
 ],
 "metadata": {
  "kernelspec": {
   "display_name": "Python 3 (ipykernel)",
   "language": "python",
   "name": "python3"
  },
  "language_info": {
   "codemirror_mode": {
    "name": "ipython",
    "version": 3
   },
   "file_extension": ".py",
   "mimetype": "text/x-python",
   "name": "python",
   "nbconvert_exporter": "python",
   "pygments_lexer": "ipython3",
   "version": "3.9.12"
  }
 },
 "nbformat": 4,
 "nbformat_minor": 5
}
